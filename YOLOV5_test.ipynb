{
 "cells": [
  {
   "cell_type": "code",
   "execution_count": 4,
   "id": "064115eb",
   "metadata": {},
   "outputs": [],
   "source": [
    "\n",
    "import torch\n",
    "import cv2\n",
    "import os\n",
    "import pandas as pd\n",
    "import numpy as np\n",
    "import glob"
   ]
  },
  {
   "cell_type": "code",
   "execution_count": 5,
   "id": "68db7d94",
   "metadata": {},
   "outputs": [
    {
     "name": "stderr",
     "output_type": "stream",
     "text": [
      "Using cache found in C:\\Users\\atefe/.cache\\torch\\hub\\ultralytics_yolov5_master\n",
      "Using cache found in C:\\Users\\atefe/.cache\\torch\\hub\\ultralytics_yolov5_master\n",
      "YOLOv5  2021-10-27 torch 1.10.0+cpu CPU\n",
      "\n",
      "YOLOv5  2021-10-27 torch 1.10.0+cpu CPU\n",
      "\n",
      "Fusing layers... \n",
      "Fusing layers... \n",
      "C:\\Users\\atefe\\Desktop\\tfo\\TFODCourse\\tfod\\lib\\site-packages\\torch\\functional.py:445: UserWarning: torch.meshgrid: in an upcoming release, it will be required to pass the indexing argument. (Triggered internally at  ..\\aten\\src\\ATen\\native\\TensorShape.cpp:2157.)\n",
      "  return _VF.meshgrid(tensors, **kwargs)  # type: ignore[attr-defined]\n",
      "Model Summary: 213 layers, 7012822 parameters, 0 gradients, 15.8 GFLOPs\n",
      "C:\\Users\\atefe\\Desktop\\tfo\\TFODCourse\\tfod\\lib\\site-packages\\torch\\functional.py:445: UserWarning: torch.meshgrid: in an upcoming release, it will be required to pass the indexing argument. (Triggered internally at  ..\\aten\\src\\ATen\\native\\TensorShape.cpp:2157.)\n",
      "  return _VF.meshgrid(tensors, **kwargs)  # type: ignore[attr-defined]\n",
      "Model Summary: 213 layers, 7012822 parameters, 0 gradients, 15.8 GFLOPs\n",
      "Adding AutoShape... \n",
      "Adding AutoShape... \n"
     ]
    }
   ],
   "source": [
    "model = torch.hub.load('ultralytics/yolov5', 'custom',  path=r'C:\\Users\\atefe\\Desktop\\best.pt')"
   ]
  },
  {
   "cell_type": "code",
   "execution_count": 6,
   "id": "b3574af6",
   "metadata": {},
   "outputs": [],
   "source": [
    "def list_path(pathtest):\n",
    "    '''this function creates list for the paths of test files'''\n",
    "    list_test = glob.glob(pathtest)\n",
    "    return list_test"
   ]
  },
  {
   "cell_type": "code",
   "execution_count": 7,
   "id": "6b24e30f",
   "metadata": {},
   "outputs": [],
   "source": [
    "pathtest=r'C:\\Users\\atefe\\Desktop\\test\\*.jpg'\n",
    "list_test=list_path(pathtest)"
   ]
  },
  {
   "cell_type": "code",
   "execution_count": 8,
   "id": "e58eaf88",
   "metadata": {},
   "outputs": [
    {
     "data": {
      "text/plain": [
       "['C:\\\\Users\\\\atefe\\\\Desktop\\\\test\\\\0148e4778e6d8b22a8980bf4fc89351b_12.jpg',\n",
       " 'C:\\\\Users\\\\atefe\\\\Desktop\\\\test\\\\0148e4778e6d8b22a8980bf4fc89351b_25.jpg',\n",
       " 'C:\\\\Users\\\\atefe\\\\Desktop\\\\test\\\\0148e4778e6d8b22a8980bf4fc89351b_30.jpg',\n",
       " 'C:\\\\Users\\\\atefe\\\\Desktop\\\\test\\\\0148e4778e6d8b22a8980bf4fc89351b_37.jpg',\n",
       " 'C:\\\\Users\\\\atefe\\\\Desktop\\\\test\\\\0171cd73c7bdbf48ccfd0c21804f9ced_1.jpg',\n",
       " 'C:\\\\Users\\\\atefe\\\\Desktop\\\\test\\\\02148af935993f360f2d9c3ca3eb782a_10.jpg',\n",
       " 'C:\\\\Users\\\\atefe\\\\Desktop\\\\test\\\\02148af935993f360f2d9c3ca3eb782a_8.jpg',\n",
       " 'C:\\\\Users\\\\atefe\\\\Desktop\\\\test\\\\02701be3fc048a3b7e2ce7a4b2a05aad.jpg',\n",
       " 'C:\\\\Users\\\\atefe\\\\Desktop\\\\test\\\\0370ca51b827c0f72a8f6b6a83e4411a.jpg',\n",
       " 'C:\\\\Users\\\\atefe\\\\Desktop\\\\test\\\\051781786f9fb429f4cc6508ac8e0676_3.jpg',\n",
       " 'C:\\\\Users\\\\atefe\\\\Desktop\\\\test\\\\0533a1e934bd69947b247d0e858d854f_4.jpg',\n",
       " 'C:\\\\Users\\\\atefe\\\\Desktop\\\\test\\\\0533a1e934bd69947b247d0e858d854f_5.jpg',\n",
       " 'C:\\\\Users\\\\atefe\\\\Desktop\\\\test\\\\05dbb8801643d58f9aa7c1d1de0ea6c2.jpg',\n",
       " 'C:\\\\Users\\\\atefe\\\\Desktop\\\\test\\\\081a5d93952b57ecde40bc02b8b70e67_2.jpg',\n",
       " 'C:\\\\Users\\\\atefe\\\\Desktop\\\\test\\\\083333af6122d35b285b062d52144332.jpg',\n",
       " 'C:\\\\Users\\\\atefe\\\\Desktop\\\\test\\\\093e2707ae252960934357cbf04569c3.jpg',\n",
       " 'C:\\\\Users\\\\atefe\\\\Desktop\\\\test\\\\0a618bf88fda631953bf0707455e8178.jpg',\n",
       " 'C:\\\\Users\\\\atefe\\\\Desktop\\\\test\\\\0a948131fe85c38152c0b9b22f7c09fc_1.jpg',\n",
       " 'C:\\\\Users\\\\atefe\\\\Desktop\\\\test\\\\0c45e17531f95abb9a4eccc2a8caa7ad.jpg',\n",
       " 'C:\\\\Users\\\\atefe\\\\Desktop\\\\test\\\\0d26d1e0574f8c36cf6091d04e84dfdb.jpg',\n",
       " 'C:\\\\Users\\\\atefe\\\\Desktop\\\\test\\\\0d338061a285cb5d573481a4662f401a.jpg',\n",
       " 'C:\\\\Users\\\\atefe\\\\Desktop\\\\test\\\\0f5bb627fa045d97551937ab506e8ab0_1.jpg',\n",
       " 'C:\\\\Users\\\\atefe\\\\Desktop\\\\test\\\\0f6bc860c0dbac06933e2dbae943b850_2.jpg',\n",
       " 'C:\\\\Users\\\\atefe\\\\Desktop\\\\test\\\\0f6bc860c0dbac06933e2dbae943b850_4.jpg',\n",
       " 'C:\\\\Users\\\\atefe\\\\Desktop\\\\test\\\\1038a29f20f610df2e01b36f51bc9a31.jpg',\n",
       " 'C:\\\\Users\\\\atefe\\\\Desktop\\\\test\\\\14cff1e5fc1ede8bd192912a74248498.jpg',\n",
       " 'C:\\\\Users\\\\atefe\\\\Desktop\\\\test\\\\157324df63935e01ba0a9550ab8cf172.jpg',\n",
       " 'C:\\\\Users\\\\atefe\\\\Desktop\\\\test\\\\1694540ff9371090fed21cf56ac9dba3.jpg',\n",
       " 'C:\\\\Users\\\\atefe\\\\Desktop\\\\test\\\\1722e3504190bd3560bb0f4b16aec6dc_1.jpg',\n",
       " 'C:\\\\Users\\\\atefe\\\\Desktop\\\\test\\\\1b5b26eea70d2bed49b6a17d456e5662.jpg',\n",
       " 'C:\\\\Users\\\\atefe\\\\Desktop\\\\test\\\\1b6d0840c3277fe4ac4215b5bc8aecfd.jpg',\n",
       " 'C:\\\\Users\\\\atefe\\\\Desktop\\\\test\\\\1bd2523b9656a823c86e768c3db75699_2.jpg',\n",
       " 'C:\\\\Users\\\\atefe\\\\Desktop\\\\test\\\\1d2e8136a4a96db48b8916bc2726d474_1.jpg',\n",
       " 'C:\\\\Users\\\\atefe\\\\Desktop\\\\test\\\\1d474b0d56e538e158a3f42bf7bc1014_3.jpg',\n",
       " 'C:\\\\Users\\\\atefe\\\\Desktop\\\\test\\\\1f059116c976aadaef2d8320823f99a9.jpg',\n",
       " 'C:\\\\Users\\\\atefe\\\\Desktop\\\\test\\\\237ca768be1a45d14145934b6f08d615_1.jpg',\n",
       " 'C:\\\\Users\\\\atefe\\\\Desktop\\\\test\\\\237ca768be1a45d14145934b6f08d615_2.jpg',\n",
       " 'C:\\\\Users\\\\atefe\\\\Desktop\\\\test\\\\23da1f0aae50d9e2b044b599dcaea38e_1.jpg',\n",
       " 'C:\\\\Users\\\\atefe\\\\Desktop\\\\test\\\\23da1f0aae50d9e2b044b599dcaea38e_2.jpg',\n",
       " 'C:\\\\Users\\\\atefe\\\\Desktop\\\\test\\\\2448aa6c9efc2d3e82ce83f2f5b13168.jpg',\n",
       " 'C:\\\\Users\\\\atefe\\\\Desktop\\\\test\\\\2597dd3149842ddc6435b7024c45fbb8_1.jpg',\n",
       " 'C:\\\\Users\\\\atefe\\\\Desktop\\\\test\\\\27124678eef95d8801ac23d9f5f1ad55.jpg',\n",
       " 'C:\\\\Users\\\\atefe\\\\Desktop\\\\test\\\\27ba63d3058002be6240905d0ce0a433_1.jpg',\n",
       " 'C:\\\\Users\\\\atefe\\\\Desktop\\\\test\\\\27e71907349fdcdbe194d7ee170ee3e8.jpg',\n",
       " 'C:\\\\Users\\\\atefe\\\\Desktop\\\\test\\\\2870a573bd58f699613872199365625d_1.jpg',\n",
       " 'C:\\\\Users\\\\atefe\\\\Desktop\\\\test\\\\2901d78cd3470b6283bfdc8ccb41538a_10.jpg',\n",
       " 'C:\\\\Users\\\\atefe\\\\Desktop\\\\test\\\\2901d78cd3470b6283bfdc8ccb41538a_6.jpg',\n",
       " 'C:\\\\Users\\\\atefe\\\\Desktop\\\\test\\\\29ecd87fe6f74f21759b8776c79f8614.jpg',\n",
       " 'C:\\\\Users\\\\atefe\\\\Desktop\\\\test\\\\29f97d3de882b51f75cec87b7f81726b_2.jpg',\n",
       " 'C:\\\\Users\\\\atefe\\\\Desktop\\\\test\\\\2a3b508ae7e65a09b65f6d5bde660a8f_2.jpg',\n",
       " 'C:\\\\Users\\\\atefe\\\\Desktop\\\\test\\\\2af4976206c338874b12fd33ec18aceb_32.jpg',\n",
       " 'C:\\\\Users\\\\atefe\\\\Desktop\\\\test\\\\2af4976206c338874b12fd33ec18aceb_4.jpg',\n",
       " 'C:\\\\Users\\\\atefe\\\\Desktop\\\\test\\\\2af4976206c338874b12fd33ec18aceb_8.jpg',\n",
       " 'C:\\\\Users\\\\atefe\\\\Desktop\\\\test\\\\2b0434d33f4945873c377eb89be0bc8b.jpg',\n",
       " 'C:\\\\Users\\\\atefe\\\\Desktop\\\\test\\\\2b39a63db00417e8838bcc6256e903a1_1.jpg',\n",
       " 'C:\\\\Users\\\\atefe\\\\Desktop\\\\test\\\\2c03d984595488ef1847727694342441_1.jpg',\n",
       " 'C:\\\\Users\\\\atefe\\\\Desktop\\\\test\\\\2dd410971086c44aa79a0fbf4dc12949.jpg',\n",
       " 'C:\\\\Users\\\\atefe\\\\Desktop\\\\test\\\\32b1fc5cbe73d5465ef6782e14cb8d1c.jpg',\n",
       " 'C:\\\\Users\\\\atefe\\\\Desktop\\\\test\\\\3598b981fd75d09523dd049614fab8f1.jpg',\n",
       " 'C:\\\\Users\\\\atefe\\\\Desktop\\\\test\\\\35cabb4a166bfca8b4a49f8d5bbf74f2_1.jpg',\n",
       " 'C:\\\\Users\\\\atefe\\\\Desktop\\\\test\\\\363160d94b589e99b560c79c478513d6_1.jpg',\n",
       " 'C:\\\\Users\\\\atefe\\\\Desktop\\\\test\\\\3832e7dac6c2fc6750c7ad7aadda9a95.jpg',\n",
       " 'C:\\\\Users\\\\atefe\\\\Desktop\\\\test\\\\3856c8ff3e6f2dde76add95de3d0ca07_2.jpg',\n",
       " 'C:\\\\Users\\\\atefe\\\\Desktop\\\\test\\\\3c4f19a076a741814ea1d21abe8c9fd0_1.jpg',\n",
       " 'C:\\\\Users\\\\atefe\\\\Desktop\\\\test\\\\3cf16ae1c4b21b53eba598ede578222a_1.jpg',\n",
       " 'C:\\\\Users\\\\atefe\\\\Desktop\\\\test\\\\3cf16ae1c4b21b53eba598ede578222a_11.jpg',\n",
       " 'C:\\\\Users\\\\atefe\\\\Desktop\\\\test\\\\3cff137fe2399ad68700b30e486ca355.jpg',\n",
       " 'C:\\\\Users\\\\atefe\\\\Desktop\\\\test\\\\4106cb065758ce92428b34f0d15e4848_14.jpg',\n",
       " 'C:\\\\Users\\\\atefe\\\\Desktop\\\\test\\\\4106cb065758ce92428b34f0d15e4848_5.jpg',\n",
       " 'C:\\\\Users\\\\atefe\\\\Desktop\\\\test\\\\4106cb065758ce92428b34f0d15e4848_9.jpg',\n",
       " 'C:\\\\Users\\\\atefe\\\\Desktop\\\\test\\\\43e00eab8fa5985f64dc91995dd33bfe.jpg',\n",
       " 'C:\\\\Users\\\\atefe\\\\Desktop\\\\test\\\\440093428bfce70c0c2f83dbe121d28a.jpg',\n",
       " 'C:\\\\Users\\\\atefe\\\\Desktop\\\\test\\\\44212463201dbdfe0443f6ea8f229189.jpg',\n",
       " 'C:\\\\Users\\\\atefe\\\\Desktop\\\\test\\\\461c0b428363ba6f0bb5a3a425b31b09_1.jpg',\n",
       " 'C:\\\\Users\\\\atefe\\\\Desktop\\\\test\\\\47ad6d7c0e2e7b7a61a05000669bfbb8.jpg',\n",
       " 'C:\\\\Users\\\\atefe\\\\Desktop\\\\test\\\\47ec118d10165fa499d2a65f7fe49759.jpg',\n",
       " 'C:\\\\Users\\\\atefe\\\\Desktop\\\\test\\\\47fa53ffb251404ebbce4613e029cdb4.jpg',\n",
       " 'C:\\\\Users\\\\atefe\\\\Desktop\\\\test\\\\489e5d546e50dbd33740065569f4e59c.jpg',\n",
       " 'C:\\\\Users\\\\atefe\\\\Desktop\\\\test\\\\48b7ff5df20f9896f9102e2c98ef26f9.jpg',\n",
       " 'C:\\\\Users\\\\atefe\\\\Desktop\\\\test\\\\48f44aba421433a2856ffb1dcdaa3d2d.jpg',\n",
       " 'C:\\\\Users\\\\atefe\\\\Desktop\\\\test\\\\4b520da4e68716484a7374a42bf7e2a9_2.jpg',\n",
       " 'C:\\\\Users\\\\atefe\\\\Desktop\\\\test\\\\4b803581168aa9bf50d55d57f6e1eec7.jpg',\n",
       " 'C:\\\\Users\\\\atefe\\\\Desktop\\\\test\\\\4ca8d0d55601876d3e7742c4db5df7a8.jpg',\n",
       " 'C:\\\\Users\\\\atefe\\\\Desktop\\\\test\\\\4cb366eee206bc9f0b48c0c8d7cc94ae.jpg',\n",
       " 'C:\\\\Users\\\\atefe\\\\Desktop\\\\test\\\\4e8fb4e8b8d83fcd5f32a1c912baccae.jpg',\n",
       " 'C:\\\\Users\\\\atefe\\\\Desktop\\\\test\\\\5009b204206a782e86348f66217b0943.jpg',\n",
       " 'C:\\\\Users\\\\atefe\\\\Desktop\\\\test\\\\51e2bcf8a78d836c45bd5d41e4555331.jpg',\n",
       " 'C:\\\\Users\\\\atefe\\\\Desktop\\\\test\\\\52a0c51a16f05bf71b81b3ca9a436380.jpg',\n",
       " 'C:\\\\Users\\\\atefe\\\\Desktop\\\\test\\\\52a641fd852639daaa45556a3d7f3a55_1.jpg',\n",
       " 'C:\\\\Users\\\\atefe\\\\Desktop\\\\test\\\\52a641fd852639daaa45556a3d7f3a55_2.jpg',\n",
       " 'C:\\\\Users\\\\atefe\\\\Desktop\\\\test\\\\52a641fd852639daaa45556a3d7f3a55_6.jpg',\n",
       " 'C:\\\\Users\\\\atefe\\\\Desktop\\\\test\\\\52f798c11646c0aa79900612cb43433f_2.jpg',\n",
       " 'C:\\\\Users\\\\atefe\\\\Desktop\\\\test\\\\5740f241edc8a888a1004e236332ecbe_4.jpg',\n",
       " 'C:\\\\Users\\\\atefe\\\\Desktop\\\\test\\\\5a6c034929ab5dd708076326ad206261_2.jpg',\n",
       " 'C:\\\\Users\\\\atefe\\\\Desktop\\\\test\\\\5b17ed3b970a83bcd89acdfed20c0c67.jpg',\n",
       " 'C:\\\\Users\\\\atefe\\\\Desktop\\\\test\\\\5b2d9b4fe0607c1026393f5150d1f4fc.jpg',\n",
       " 'C:\\\\Users\\\\atefe\\\\Desktop\\\\test\\\\5b3e4de6da2a3165c4ee76b543f205ea_2.jpg',\n",
       " 'C:\\\\Users\\\\atefe\\\\Desktop\\\\test\\\\5ba8ea1745e03ae9d5324288f2716a2d_1.jpg',\n",
       " 'C:\\\\Users\\\\atefe\\\\Desktop\\\\test\\\\5d1c5c93b464ed97c9508befa50e866e_3.jpg',\n",
       " 'C:\\\\Users\\\\atefe\\\\Desktop\\\\test\\\\6103ce8203bae073bc7fbe4d839442e6.jpg',\n",
       " 'C:\\\\Users\\\\atefe\\\\Desktop\\\\test\\\\61e70745b0e5c4134680f2161dbb0897.jpg',\n",
       " 'C:\\\\Users\\\\atefe\\\\Desktop\\\\test\\\\64dfdeb472cdd0350b654eecab8f3e98.jpg',\n",
       " 'C:\\\\Users\\\\atefe\\\\Desktop\\\\test\\\\69a1fa63b5ef242c6f358c2975e3ac35.jpg',\n",
       " 'C:\\\\Users\\\\atefe\\\\Desktop\\\\test\\\\6a381bb657efa536ec4b11dd3a608820.jpg',\n",
       " 'C:\\\\Users\\\\atefe\\\\Desktop\\\\test\\\\6a87460e604881ea8637af297e1203cb.jpg',\n",
       " 'C:\\\\Users\\\\atefe\\\\Desktop\\\\test\\\\6b816984ec5fbd0541836da977d4570d_3.jpg',\n",
       " 'C:\\\\Users\\\\atefe\\\\Desktop\\\\test\\\\6f1bfb07d872d00e366d5bfaf05ed685.jpg',\n",
       " 'C:\\\\Users\\\\atefe\\\\Desktop\\\\test\\\\6f52adbcded6525df92e699a0cbfb1f9.jpg',\n",
       " 'C:\\\\Users\\\\atefe\\\\Desktop\\\\test\\\\70fb7730f6a6a9a7886d6258ae850abe_1.jpg',\n",
       " 'C:\\\\Users\\\\atefe\\\\Desktop\\\\test\\\\70fb7730f6a6a9a7886d6258ae850abe_2.jpg',\n",
       " 'C:\\\\Users\\\\atefe\\\\Desktop\\\\test\\\\7219ab660be47b31ea259f2607b48850.jpg',\n",
       " 'C:\\\\Users\\\\atefe\\\\Desktop\\\\test\\\\741b84cb122cba80c73c8ef585f7d942_1.jpg',\n",
       " 'C:\\\\Users\\\\atefe\\\\Desktop\\\\test\\\\74bdd082397abc428326f0b5d20e4391.jpg',\n",
       " 'C:\\\\Users\\\\atefe\\\\Desktop\\\\test\\\\75afebf5f040177e9b1e35d8119a04c3_2.jpg',\n",
       " 'C:\\\\Users\\\\atefe\\\\Desktop\\\\test\\\\7679ff1c8fc5239a90e06d16b03d36a8_1.jpg',\n",
       " 'C:\\\\Users\\\\atefe\\\\Desktop\\\\test\\\\7679ff1c8fc5239a90e06d16b03d36a8_2.jpg',\n",
       " 'C:\\\\Users\\\\atefe\\\\Desktop\\\\test\\\\78eefcec01514be9fb5f6cb89d5e3618.jpg',\n",
       " 'C:\\\\Users\\\\atefe\\\\Desktop\\\\test\\\\7921d3c75456cfe74d8d0a9d122d15b8.jpg',\n",
       " 'C:\\\\Users\\\\atefe\\\\Desktop\\\\test\\\\794cb1934863cdcffa46755cc8a19c4e.jpg',\n",
       " 'C:\\\\Users\\\\atefe\\\\Desktop\\\\test\\\\7db8eca4d3da52ed2e0d9e60adbd72d6_2.jpg',\n",
       " 'C:\\\\Users\\\\atefe\\\\Desktop\\\\test\\\\7dba34a0581638791ac2007fd8ee25e9.jpg',\n",
       " 'C:\\\\Users\\\\atefe\\\\Desktop\\\\test\\\\7dbd05a83a7eb8a6ab319be91f212e04.jpg',\n",
       " 'C:\\\\Users\\\\atefe\\\\Desktop\\\\test\\\\7f19a1ea9dbcdf99a9c78a7fb65d3c9b.jpg',\n",
       " 'C:\\\\Users\\\\atefe\\\\Desktop\\\\test\\\\804e87517d92e7d017194af35fbda7e9.jpg',\n",
       " 'C:\\\\Users\\\\atefe\\\\Desktop\\\\test\\\\818b067a4a47b56127d27d86d15203fa.jpg',\n",
       " 'C:\\\\Users\\\\atefe\\\\Desktop\\\\test\\\\81e513afffd3423a3e34efd26928a11e_2.jpg',\n",
       " 'C:\\\\Users\\\\atefe\\\\Desktop\\\\test\\\\833992cc1bb0892538cf4ecea8fe9785_2.jpg',\n",
       " 'C:\\\\Users\\\\atefe\\\\Desktop\\\\test\\\\833992cc1bb0892538cf4ecea8fe9785_3.jpg',\n",
       " 'C:\\\\Users\\\\atefe\\\\Desktop\\\\test\\\\834116f765417fb3895d098d6d2ecefb_2.jpg',\n",
       " 'C:\\\\Users\\\\atefe\\\\Desktop\\\\test\\\\843f22d756fd68cfafc952fd7c2496d5_2.jpg',\n",
       " 'C:\\\\Users\\\\atefe\\\\Desktop\\\\test\\\\847e91fdb5d5363913b2866bd084b58e_1.jpg',\n",
       " 'C:\\\\Users\\\\atefe\\\\Desktop\\\\test\\\\84b7d9d91b5e4f982b8473eaafdb5eda_2.jpg',\n",
       " 'C:\\\\Users\\\\atefe\\\\Desktop\\\\test\\\\859aa4c546d2b3e727cd96455e576c54.jpg',\n",
       " 'C:\\\\Users\\\\atefe\\\\Desktop\\\\test\\\\88f8451bfa4febd530d8c8e61176953d.jpg',\n",
       " 'C:\\\\Users\\\\atefe\\\\Desktop\\\\test\\\\89257a01e2ef49e126c0922ff2bbd958.jpg',\n",
       " 'C:\\\\Users\\\\atefe\\\\Desktop\\\\test\\\\8a788308be95f04c3ad32380429a6f29_1.jpg',\n",
       " 'C:\\\\Users\\\\atefe\\\\Desktop\\\\test\\\\8a9c9db19d634e3370703aa85d7fbd0c.jpg',\n",
       " 'C:\\\\Users\\\\atefe\\\\Desktop\\\\test\\\\8b2e30ff3b7c51c0781bf3e2b4078927_2.jpg',\n",
       " 'C:\\\\Users\\\\atefe\\\\Desktop\\\\test\\\\8b3f89e07f89af210e8fa6f13ab68b8d_2.jpg',\n",
       " 'C:\\\\Users\\\\atefe\\\\Desktop\\\\test\\\\8c25cad2042e3f54dfe8ac6733059dca_1.jpg',\n",
       " 'C:\\\\Users\\\\atefe\\\\Desktop\\\\test\\\\8d23666b8cdbb6f8bd189205f009e040_1.jpg',\n",
       " 'C:\\\\Users\\\\atefe\\\\Desktop\\\\test\\\\8e20c5b100299349efd0339019392688_3.jpg',\n",
       " 'C:\\\\Users\\\\atefe\\\\Desktop\\\\test\\\\8e20c5b100299349efd0339019392688_6.jpg',\n",
       " 'C:\\\\Users\\\\atefe\\\\Desktop\\\\test\\\\8f17b3f63cde2381e558d22498fbd0b9.jpg',\n",
       " 'C:\\\\Users\\\\atefe\\\\Desktop\\\\test\\\\90e16a31a300a84ae0af957c3a3acb9d_2.jpg',\n",
       " 'C:\\\\Users\\\\atefe\\\\Desktop\\\\test\\\\941300c64e74b28a0f8e6279da75fdbf.jpg',\n",
       " 'C:\\\\Users\\\\atefe\\\\Desktop\\\\test\\\\96c9d24f6ccf0899d15c882e062ffc83_3.jpg',\n",
       " 'C:\\\\Users\\\\atefe\\\\Desktop\\\\test\\\\9a95439e31a3a518a5553be861d99a7a_1.jpg',\n",
       " 'C:\\\\Users\\\\atefe\\\\Desktop\\\\test\\\\9a9a3db409b4af6fdf6b677aeedab11f_2.jpg',\n",
       " 'C:\\\\Users\\\\atefe\\\\Desktop\\\\test\\\\9ab54e46518a644986174cdceede443b.jpg',\n",
       " 'C:\\\\Users\\\\atefe\\\\Desktop\\\\test\\\\9fd6712003f8bace5a28d611af1b4a21.jpg',\n",
       " 'C:\\\\Users\\\\atefe\\\\Desktop\\\\test\\\\a08f466893c15a617ed515685b7299de.jpg',\n",
       " 'C:\\\\Users\\\\atefe\\\\Desktop\\\\test\\\\a10e148d1b37959b5551663847bfa0fe.jpg',\n",
       " 'C:\\\\Users\\\\atefe\\\\Desktop\\\\test\\\\a2d03463f8e34b2af50242d9dc122a47.jpg',\n",
       " 'C:\\\\Users\\\\atefe\\\\Desktop\\\\test\\\\a9f685568aeeef0b2dc6322bccdfc3eb_3.jpg',\n",
       " 'C:\\\\Users\\\\atefe\\\\Desktop\\\\test\\\\aa18781ad618f6aae949142d51d13b21_1.jpg',\n",
       " 'C:\\\\Users\\\\atefe\\\\Desktop\\\\test\\\\aa18781ad618f6aae949142d51d13b21_2.jpg',\n",
       " 'C:\\\\Users\\\\atefe\\\\Desktop\\\\test\\\\aa18781ad618f6aae949142d51d13b21_3.jpg',\n",
       " 'C:\\\\Users\\\\atefe\\\\Desktop\\\\test\\\\aa18781ad618f6aae949142d51d13b21_4.jpg',\n",
       " 'C:\\\\Users\\\\atefe\\\\Desktop\\\\test\\\\ab13cc8cb31ec459a4a6601fbba46b38.jpg',\n",
       " 'C:\\\\Users\\\\atefe\\\\Desktop\\\\test\\\\abfb6f72a5fa597faf5504a01e5e3d79_5.jpg',\n",
       " 'C:\\\\Users\\\\atefe\\\\Desktop\\\\test\\\\ac15e4343f32abf47d5d561409555d11_1.jpg',\n",
       " 'C:\\\\Users\\\\atefe\\\\Desktop\\\\test\\\\ac15e4343f32abf47d5d561409555d11_2.jpg',\n",
       " 'C:\\\\Users\\\\atefe\\\\Desktop\\\\test\\\\ac6537f96fb80636cb53b7cd622f5bc8_2.jpg',\n",
       " 'C:\\\\Users\\\\atefe\\\\Desktop\\\\test\\\\ad729ba5891d6199f01d12d59086bb86_1.jpg',\n",
       " 'C:\\\\Users\\\\atefe\\\\Desktop\\\\test\\\\ad729ba5891d6199f01d12d59086bb86_2.jpg',\n",
       " 'C:\\\\Users\\\\atefe\\\\Desktop\\\\test\\\\ad729ba5891d6199f01d12d59086bb86_3.jpg',\n",
       " 'C:\\\\Users\\\\atefe\\\\Desktop\\\\test\\\\ada41d64f7082d721ee96cce69dd49ee.jpg',\n",
       " 'C:\\\\Users\\\\atefe\\\\Desktop\\\\test\\\\aec7b8c45a0cae6856d6975b94923e38.jpg',\n",
       " 'C:\\\\Users\\\\atefe\\\\Desktop\\\\test\\\\afcfb90e729e30b3dc7b09353200dac3.jpg',\n",
       " 'C:\\\\Users\\\\atefe\\\\Desktop\\\\test\\\\b377779e936157605e7665ec64cad21b.jpg',\n",
       " 'C:\\\\Users\\\\atefe\\\\Desktop\\\\test\\\\b6c8c5afc4c2eed12844de9120f1806d_1.jpg',\n",
       " 'C:\\\\Users\\\\atefe\\\\Desktop\\\\test\\\\b6f9fe8b3211985645495963af5fbb92.jpg',\n",
       " 'C:\\\\Users\\\\atefe\\\\Desktop\\\\test\\\\b76c113a590bac5583eb93912252fd4f_2.jpg',\n",
       " 'C:\\\\Users\\\\atefe\\\\Desktop\\\\test\\\\b7e828906496c359de4040f47f360358_2.jpg',\n",
       " 'C:\\\\Users\\\\atefe\\\\Desktop\\\\test\\\\b9057662f672b5a6d231d9c7efc6838d_1.jpg',\n",
       " 'C:\\\\Users\\\\atefe\\\\Desktop\\\\test\\\\b9057662f672b5a6d231d9c7efc6838d_2.jpg',\n",
       " 'C:\\\\Users\\\\atefe\\\\Desktop\\\\test\\\\b92bc38b3add1765067113c29e585921.jpg',\n",
       " 'C:\\\\Users\\\\atefe\\\\Desktop\\\\test\\\\ba477bfe81ebbb1b720413a2528d7ef3.jpg',\n",
       " 'C:\\\\Users\\\\atefe\\\\Desktop\\\\test\\\\bcef979fdc530eba01f536f47878813f.jpg',\n",
       " 'C:\\\\Users\\\\atefe\\\\Desktop\\\\test\\\\bcef979fdc530eba01f536f47878813f_1.jpg',\n",
       " 'C:\\\\Users\\\\atefe\\\\Desktop\\\\test\\\\bcef979fdc530eba01f536f47878813f_2.jpg',\n",
       " 'C:\\\\Users\\\\atefe\\\\Desktop\\\\test\\\\bd017a684aa93257d7c79fedde4d24e7_3.jpg',\n",
       " 'C:\\\\Users\\\\atefe\\\\Desktop\\\\test\\\\be3ac3513667c46886e2cf27ddedbe36_2.jpg',\n",
       " 'C:\\\\Users\\\\atefe\\\\Desktop\\\\test\\\\bfe582366beebd7f8848bbf53d6304be_3.jpg',\n",
       " 'C:\\\\Users\\\\atefe\\\\Desktop\\\\test\\\\c0b84f027df8a69add66559d915ad6f2_2.jpg',\n",
       " 'C:\\\\Users\\\\atefe\\\\Desktop\\\\test\\\\c1056529ee761ff7cbf513dc6cca6fd4_6.jpg',\n",
       " 'C:\\\\Users\\\\atefe\\\\Desktop\\\\test\\\\c1056529ee761ff7cbf513dc6cca6fd4_8.jpg',\n",
       " 'C:\\\\Users\\\\atefe\\\\Desktop\\\\test\\\\c1056529ee761ff7cbf513dc6cca6fd4_9.jpg',\n",
       " 'C:\\\\Users\\\\atefe\\\\Desktop\\\\test\\\\c1c43fe5d79a70bf949c05e5b8ed267d_1.jpg',\n",
       " 'C:\\\\Users\\\\atefe\\\\Desktop\\\\test\\\\c26466dc96f28a4ebd901799d53c60ab.jpg',\n",
       " 'C:\\\\Users\\\\atefe\\\\Desktop\\\\test\\\\c29f7d2b95144642cea08a4f4455efe9_2.jpg',\n",
       " 'C:\\\\Users\\\\atefe\\\\Desktop\\\\test\\\\c29f7d2b95144642cea08a4f4455efe9_3.jpg',\n",
       " 'C:\\\\Users\\\\atefe\\\\Desktop\\\\test\\\\c29f7d2b95144642cea08a4f4455efe9_6.jpg',\n",
       " 'C:\\\\Users\\\\atefe\\\\Desktop\\\\test\\\\c6eac7dcac43ab7535ceb587ff65cd3b_2.jpg',\n",
       " 'C:\\\\Users\\\\atefe\\\\Desktop\\\\test\\\\c816e5457fc313c27bd38ebc1658b4b8_2.jpg',\n",
       " 'C:\\\\Users\\\\atefe\\\\Desktop\\\\test\\\\c969c61c59929b2fc98596b37ef31774.jpg',\n",
       " 'C:\\\\Users\\\\atefe\\\\Desktop\\\\test\\\\c98a06bc768ed92afea8be4a67c26911_1.jpg',\n",
       " 'C:\\\\Users\\\\atefe\\\\Desktop\\\\test\\\\c98a06bc768ed92afea8be4a67c26911_2.jpg',\n",
       " 'C:\\\\Users\\\\atefe\\\\Desktop\\\\test\\\\c9d2121423c6174c4d3eaebb778aa74e.jpg',\n",
       " 'C:\\\\Users\\\\atefe\\\\Desktop\\\\test\\\\ca2a234d58852de50b07a6a216370b6d_1.jpg',\n",
       " 'C:\\\\Users\\\\atefe\\\\Desktop\\\\test\\\\ca2a234d58852de50b07a6a216370b6d_7.jpg',\n",
       " 'C:\\\\Users\\\\atefe\\\\Desktop\\\\test\\\\cb07b3779ee43a9bb7eecb322a6b4160_2.jpg',\n",
       " 'C:\\\\Users\\\\atefe\\\\Desktop\\\\test\\\\ce1fd803ed1d255701bbbae6c9f115e7.jpg',\n",
       " 'C:\\\\Users\\\\atefe\\\\Desktop\\\\test\\\\ce457dce276f4915180fef71c775162e_3.jpg',\n",
       " 'C:\\\\Users\\\\atefe\\\\Desktop\\\\test\\\\cf250e5f053cd65aa930c7d76f264d11_1.jpg',\n",
       " 'C:\\\\Users\\\\atefe\\\\Desktop\\\\test\\\\d0813ddce0c72c0fb0c33257903d518d_5.jpg',\n",
       " 'C:\\\\Users\\\\atefe\\\\Desktop\\\\test\\\\d21ccfd2667fd9ca221254512900ac17_1.jpg',\n",
       " 'C:\\\\Users\\\\atefe\\\\Desktop\\\\test\\\\d3c7bb268afb3ba438b1ed56fa4f247a.jpg',\n",
       " 'C:\\\\Users\\\\atefe\\\\Desktop\\\\test\\\\d4dfbdddc3e02c1e4891773f0b26f73e.jpg',\n",
       " 'C:\\\\Users\\\\atefe\\\\Desktop\\\\test\\\\d5aecd463abb8e65851bd7c5cde7aced.jpg',\n",
       " 'C:\\\\Users\\\\atefe\\\\Desktop\\\\test\\\\d7fe5038153863f1991c31af2e4f901a_1.jpg',\n",
       " 'C:\\\\Users\\\\atefe\\\\Desktop\\\\test\\\\d7fe5038153863f1991c31af2e4f901a_4.jpg',\n",
       " 'C:\\\\Users\\\\atefe\\\\Desktop\\\\test\\\\d8bfc6ecdcdf89f1f800c4fa061ba0a8.jpg',\n",
       " 'C:\\\\Users\\\\atefe\\\\Desktop\\\\test\\\\d99f3a9446d06d9f027e632f4b781f77_1.jpg',\n",
       " 'C:\\\\Users\\\\atefe\\\\Desktop\\\\test\\\\dc703955d59f63982f81892900824cc4_1.jpg',\n",
       " 'C:\\\\Users\\\\atefe\\\\Desktop\\\\test\\\\dc703955d59f63982f81892900824cc4_2.jpg',\n",
       " 'C:\\\\Users\\\\atefe\\\\Desktop\\\\test\\\\dd1fb8dfe7627a21fd3b1db9f975f616.jpg',\n",
       " 'C:\\\\Users\\\\atefe\\\\Desktop\\\\test\\\\e17e418919f88f7155b85f2bf58e7975.jpg',\n",
       " 'C:\\\\Users\\\\atefe\\\\Desktop\\\\test\\\\e1c39b2cd75cbe3e140791382085cd6b_2.jpg',\n",
       " 'C:\\\\Users\\\\atefe\\\\Desktop\\\\test\\\\e1d6a3b9926c31029b5d6a0360fef076.jpg',\n",
       " 'C:\\\\Users\\\\atefe\\\\Desktop\\\\test\\\\e26fb0dbdcb3c4a04df9746f97ef308d_1.jpg',\n",
       " 'C:\\\\Users\\\\atefe\\\\Desktop\\\\test\\\\e630893e4a9a2696bfa7f7c2ecdcee52.jpg',\n",
       " 'C:\\\\Users\\\\atefe\\\\Desktop\\\\test\\\\e8071e6fd6cf1b9cfd1d8bdd8328a7e9.jpg',\n",
       " 'C:\\\\Users\\\\atefe\\\\Desktop\\\\test\\\\e882a0ff6993d79e93822f7a50bcd137_2.jpg',\n",
       " 'C:\\\\Users\\\\atefe\\\\Desktop\\\\test\\\\e890afa2c7d093b261733e0724b009a9.jpg',\n",
       " 'C:\\\\Users\\\\atefe\\\\Desktop\\\\test\\\\eb09d89ba31fed396d5a5a8d8a9d1828.jpg',\n",
       " 'C:\\\\Users\\\\atefe\\\\Desktop\\\\test\\\\eb74dd87d0a9b876ad10a764469e94f7_2.jpg',\n",
       " 'C:\\\\Users\\\\atefe\\\\Desktop\\\\test\\\\ebfea1a0350207555bb9ce733d3ea7fd_3.jpg',\n",
       " 'C:\\\\Users\\\\atefe\\\\Desktop\\\\test\\\\ec05648467538a1ede83914c61413105_2.jpg',\n",
       " 'C:\\\\Users\\\\atefe\\\\Desktop\\\\test\\\\ec11520897b3697b7a99af00d64144f0_3.jpg',\n",
       " 'C:\\\\Users\\\\atefe\\\\Desktop\\\\test\\\\ec11520897b3697b7a99af00d64144f0_6.jpg',\n",
       " 'C:\\\\Users\\\\atefe\\\\Desktop\\\\test\\\\ec702e8e33699b1d6c9ef834278ac61f.jpg',\n",
       " 'C:\\\\Users\\\\atefe\\\\Desktop\\\\test\\\\ecd45d72b2f887f7abfe06223ae1f6e2.jpg',\n",
       " 'C:\\\\Users\\\\atefe\\\\Desktop\\\\test\\\\eec4d154cd1528b94b523b0798197301.jpg',\n",
       " 'C:\\\\Users\\\\atefe\\\\Desktop\\\\test\\\\ef7bc405f9fafb69773bb9739c6c126a.jpg',\n",
       " 'C:\\\\Users\\\\atefe\\\\Desktop\\\\test\\\\f1291ecf84e7796f4d66e8649d2ea187.jpg',\n",
       " 'C:\\\\Users\\\\atefe\\\\Desktop\\\\test\\\\f12b9a1d92be06ce9357ae9a12a66e52_1.jpg',\n",
       " 'C:\\\\Users\\\\atefe\\\\Desktop\\\\test\\\\f12b9a1d92be06ce9357ae9a12a66e52_2.jpg',\n",
       " 'C:\\\\Users\\\\atefe\\\\Desktop\\\\test\\\\f17681f73a22293d830e7c2a9e0ab10d_2.jpg',\n",
       " 'C:\\\\Users\\\\atefe\\\\Desktop\\\\test\\\\f2b2ec91a9c04abdf0912d7c53e25375_2.jpg',\n",
       " 'C:\\\\Users\\\\atefe\\\\Desktop\\\\test\\\\f35ea13820cfa86807f6e7727e2e67c4.jpg',\n",
       " 'C:\\\\Users\\\\atefe\\\\Desktop\\\\test\\\\f3d058f08f7612b07520701b5c7ec7e5_1.jpg',\n",
       " 'C:\\\\Users\\\\atefe\\\\Desktop\\\\test\\\\f3fe4d4707c050b65948569ce11c30e4_2.jpg',\n",
       " 'C:\\\\Users\\\\atefe\\\\Desktop\\\\test\\\\f63389d3dc870e6bb0286ea5453dc838.jpg',\n",
       " 'C:\\\\Users\\\\atefe\\\\Desktop\\\\test\\\\f6690637ad8d45c5a712cb3afb86b54c_3.jpg',\n",
       " 'C:\\\\Users\\\\atefe\\\\Desktop\\\\test\\\\f7744d49d65d3c116b4b343974be2f2a.jpg',\n",
       " 'C:\\\\Users\\\\atefe\\\\Desktop\\\\test\\\\f8f36df9b645fa97e0f0ea027195ffc2.jpg',\n",
       " 'C:\\\\Users\\\\atefe\\\\Desktop\\\\test\\\\f95151d46ab46fe856074feb728f4190.jpg',\n",
       " 'C:\\\\Users\\\\atefe\\\\Desktop\\\\test\\\\fd40cbeac18b5764fbd2f8d1d52e5640.jpg',\n",
       " 'C:\\\\Users\\\\atefe\\\\Desktop\\\\test\\\\fef37ea5a0c4dd7978a4a433fa3a31ce_2.jpg']"
      ]
     },
     "execution_count": 8,
     "metadata": {},
     "output_type": "execute_result"
    },
    {
     "data": {
      "text/plain": [
       "['C:\\\\Users\\\\atefe\\\\Desktop\\\\test\\\\0148e4778e6d8b22a8980bf4fc89351b_12.jpg',\n",
       " 'C:\\\\Users\\\\atefe\\\\Desktop\\\\test\\\\0148e4778e6d8b22a8980bf4fc89351b_25.jpg',\n",
       " 'C:\\\\Users\\\\atefe\\\\Desktop\\\\test\\\\0148e4778e6d8b22a8980bf4fc89351b_30.jpg',\n",
       " 'C:\\\\Users\\\\atefe\\\\Desktop\\\\test\\\\0148e4778e6d8b22a8980bf4fc89351b_37.jpg',\n",
       " 'C:\\\\Users\\\\atefe\\\\Desktop\\\\test\\\\0171cd73c7bdbf48ccfd0c21804f9ced_1.jpg',\n",
       " 'C:\\\\Users\\\\atefe\\\\Desktop\\\\test\\\\02148af935993f360f2d9c3ca3eb782a_10.jpg',\n",
       " 'C:\\\\Users\\\\atefe\\\\Desktop\\\\test\\\\02148af935993f360f2d9c3ca3eb782a_8.jpg',\n",
       " 'C:\\\\Users\\\\atefe\\\\Desktop\\\\test\\\\02701be3fc048a3b7e2ce7a4b2a05aad.jpg',\n",
       " 'C:\\\\Users\\\\atefe\\\\Desktop\\\\test\\\\0370ca51b827c0f72a8f6b6a83e4411a.jpg',\n",
       " 'C:\\\\Users\\\\atefe\\\\Desktop\\\\test\\\\051781786f9fb429f4cc6508ac8e0676_3.jpg',\n",
       " 'C:\\\\Users\\\\atefe\\\\Desktop\\\\test\\\\0533a1e934bd69947b247d0e858d854f_4.jpg',\n",
       " 'C:\\\\Users\\\\atefe\\\\Desktop\\\\test\\\\0533a1e934bd69947b247d0e858d854f_5.jpg',\n",
       " 'C:\\\\Users\\\\atefe\\\\Desktop\\\\test\\\\05dbb8801643d58f9aa7c1d1de0ea6c2.jpg',\n",
       " 'C:\\\\Users\\\\atefe\\\\Desktop\\\\test\\\\081a5d93952b57ecde40bc02b8b70e67_2.jpg',\n",
       " 'C:\\\\Users\\\\atefe\\\\Desktop\\\\test\\\\083333af6122d35b285b062d52144332.jpg',\n",
       " 'C:\\\\Users\\\\atefe\\\\Desktop\\\\test\\\\093e2707ae252960934357cbf04569c3.jpg',\n",
       " 'C:\\\\Users\\\\atefe\\\\Desktop\\\\test\\\\0a618bf88fda631953bf0707455e8178.jpg',\n",
       " 'C:\\\\Users\\\\atefe\\\\Desktop\\\\test\\\\0a948131fe85c38152c0b9b22f7c09fc_1.jpg',\n",
       " 'C:\\\\Users\\\\atefe\\\\Desktop\\\\test\\\\0c45e17531f95abb9a4eccc2a8caa7ad.jpg',\n",
       " 'C:\\\\Users\\\\atefe\\\\Desktop\\\\test\\\\0d26d1e0574f8c36cf6091d04e84dfdb.jpg',\n",
       " 'C:\\\\Users\\\\atefe\\\\Desktop\\\\test\\\\0d338061a285cb5d573481a4662f401a.jpg',\n",
       " 'C:\\\\Users\\\\atefe\\\\Desktop\\\\test\\\\0f5bb627fa045d97551937ab506e8ab0_1.jpg',\n",
       " 'C:\\\\Users\\\\atefe\\\\Desktop\\\\test\\\\0f6bc860c0dbac06933e2dbae943b850_2.jpg',\n",
       " 'C:\\\\Users\\\\atefe\\\\Desktop\\\\test\\\\0f6bc860c0dbac06933e2dbae943b850_4.jpg',\n",
       " 'C:\\\\Users\\\\atefe\\\\Desktop\\\\test\\\\1038a29f20f610df2e01b36f51bc9a31.jpg',\n",
       " 'C:\\\\Users\\\\atefe\\\\Desktop\\\\test\\\\14cff1e5fc1ede8bd192912a74248498.jpg',\n",
       " 'C:\\\\Users\\\\atefe\\\\Desktop\\\\test\\\\157324df63935e01ba0a9550ab8cf172.jpg',\n",
       " 'C:\\\\Users\\\\atefe\\\\Desktop\\\\test\\\\1694540ff9371090fed21cf56ac9dba3.jpg',\n",
       " 'C:\\\\Users\\\\atefe\\\\Desktop\\\\test\\\\1722e3504190bd3560bb0f4b16aec6dc_1.jpg',\n",
       " 'C:\\\\Users\\\\atefe\\\\Desktop\\\\test\\\\1b5b26eea70d2bed49b6a17d456e5662.jpg',\n",
       " 'C:\\\\Users\\\\atefe\\\\Desktop\\\\test\\\\1b6d0840c3277fe4ac4215b5bc8aecfd.jpg',\n",
       " 'C:\\\\Users\\\\atefe\\\\Desktop\\\\test\\\\1bd2523b9656a823c86e768c3db75699_2.jpg',\n",
       " 'C:\\\\Users\\\\atefe\\\\Desktop\\\\test\\\\1d2e8136a4a96db48b8916bc2726d474_1.jpg',\n",
       " 'C:\\\\Users\\\\atefe\\\\Desktop\\\\test\\\\1d474b0d56e538e158a3f42bf7bc1014_3.jpg',\n",
       " 'C:\\\\Users\\\\atefe\\\\Desktop\\\\test\\\\1f059116c976aadaef2d8320823f99a9.jpg',\n",
       " 'C:\\\\Users\\\\atefe\\\\Desktop\\\\test\\\\237ca768be1a45d14145934b6f08d615_1.jpg',\n",
       " 'C:\\\\Users\\\\atefe\\\\Desktop\\\\test\\\\237ca768be1a45d14145934b6f08d615_2.jpg',\n",
       " 'C:\\\\Users\\\\atefe\\\\Desktop\\\\test\\\\23da1f0aae50d9e2b044b599dcaea38e_1.jpg',\n",
       " 'C:\\\\Users\\\\atefe\\\\Desktop\\\\test\\\\23da1f0aae50d9e2b044b599dcaea38e_2.jpg',\n",
       " 'C:\\\\Users\\\\atefe\\\\Desktop\\\\test\\\\2448aa6c9efc2d3e82ce83f2f5b13168.jpg',\n",
       " 'C:\\\\Users\\\\atefe\\\\Desktop\\\\test\\\\2597dd3149842ddc6435b7024c45fbb8_1.jpg',\n",
       " 'C:\\\\Users\\\\atefe\\\\Desktop\\\\test\\\\27124678eef95d8801ac23d9f5f1ad55.jpg',\n",
       " 'C:\\\\Users\\\\atefe\\\\Desktop\\\\test\\\\27ba63d3058002be6240905d0ce0a433_1.jpg',\n",
       " 'C:\\\\Users\\\\atefe\\\\Desktop\\\\test\\\\27e71907349fdcdbe194d7ee170ee3e8.jpg',\n",
       " 'C:\\\\Users\\\\atefe\\\\Desktop\\\\test\\\\2870a573bd58f699613872199365625d_1.jpg',\n",
       " 'C:\\\\Users\\\\atefe\\\\Desktop\\\\test\\\\2901d78cd3470b6283bfdc8ccb41538a_10.jpg',\n",
       " 'C:\\\\Users\\\\atefe\\\\Desktop\\\\test\\\\2901d78cd3470b6283bfdc8ccb41538a_6.jpg',\n",
       " 'C:\\\\Users\\\\atefe\\\\Desktop\\\\test\\\\29ecd87fe6f74f21759b8776c79f8614.jpg',\n",
       " 'C:\\\\Users\\\\atefe\\\\Desktop\\\\test\\\\29f97d3de882b51f75cec87b7f81726b_2.jpg',\n",
       " 'C:\\\\Users\\\\atefe\\\\Desktop\\\\test\\\\2a3b508ae7e65a09b65f6d5bde660a8f_2.jpg',\n",
       " 'C:\\\\Users\\\\atefe\\\\Desktop\\\\test\\\\2af4976206c338874b12fd33ec18aceb_32.jpg',\n",
       " 'C:\\\\Users\\\\atefe\\\\Desktop\\\\test\\\\2af4976206c338874b12fd33ec18aceb_4.jpg',\n",
       " 'C:\\\\Users\\\\atefe\\\\Desktop\\\\test\\\\2af4976206c338874b12fd33ec18aceb_8.jpg',\n",
       " 'C:\\\\Users\\\\atefe\\\\Desktop\\\\test\\\\2b0434d33f4945873c377eb89be0bc8b.jpg',\n",
       " 'C:\\\\Users\\\\atefe\\\\Desktop\\\\test\\\\2b39a63db00417e8838bcc6256e903a1_1.jpg',\n",
       " 'C:\\\\Users\\\\atefe\\\\Desktop\\\\test\\\\2c03d984595488ef1847727694342441_1.jpg',\n",
       " 'C:\\\\Users\\\\atefe\\\\Desktop\\\\test\\\\2dd410971086c44aa79a0fbf4dc12949.jpg',\n",
       " 'C:\\\\Users\\\\atefe\\\\Desktop\\\\test\\\\32b1fc5cbe73d5465ef6782e14cb8d1c.jpg',\n",
       " 'C:\\\\Users\\\\atefe\\\\Desktop\\\\test\\\\3598b981fd75d09523dd049614fab8f1.jpg',\n",
       " 'C:\\\\Users\\\\atefe\\\\Desktop\\\\test\\\\35cabb4a166bfca8b4a49f8d5bbf74f2_1.jpg',\n",
       " 'C:\\\\Users\\\\atefe\\\\Desktop\\\\test\\\\363160d94b589e99b560c79c478513d6_1.jpg',\n",
       " 'C:\\\\Users\\\\atefe\\\\Desktop\\\\test\\\\3832e7dac6c2fc6750c7ad7aadda9a95.jpg',\n",
       " 'C:\\\\Users\\\\atefe\\\\Desktop\\\\test\\\\3856c8ff3e6f2dde76add95de3d0ca07_2.jpg',\n",
       " 'C:\\\\Users\\\\atefe\\\\Desktop\\\\test\\\\3c4f19a076a741814ea1d21abe8c9fd0_1.jpg',\n",
       " 'C:\\\\Users\\\\atefe\\\\Desktop\\\\test\\\\3cf16ae1c4b21b53eba598ede578222a_1.jpg',\n",
       " 'C:\\\\Users\\\\atefe\\\\Desktop\\\\test\\\\3cf16ae1c4b21b53eba598ede578222a_11.jpg',\n",
       " 'C:\\\\Users\\\\atefe\\\\Desktop\\\\test\\\\3cff137fe2399ad68700b30e486ca355.jpg',\n",
       " 'C:\\\\Users\\\\atefe\\\\Desktop\\\\test\\\\4106cb065758ce92428b34f0d15e4848_14.jpg',\n",
       " 'C:\\\\Users\\\\atefe\\\\Desktop\\\\test\\\\4106cb065758ce92428b34f0d15e4848_5.jpg',\n",
       " 'C:\\\\Users\\\\atefe\\\\Desktop\\\\test\\\\4106cb065758ce92428b34f0d15e4848_9.jpg',\n",
       " 'C:\\\\Users\\\\atefe\\\\Desktop\\\\test\\\\43e00eab8fa5985f64dc91995dd33bfe.jpg',\n",
       " 'C:\\\\Users\\\\atefe\\\\Desktop\\\\test\\\\440093428bfce70c0c2f83dbe121d28a.jpg',\n",
       " 'C:\\\\Users\\\\atefe\\\\Desktop\\\\test\\\\44212463201dbdfe0443f6ea8f229189.jpg',\n",
       " 'C:\\\\Users\\\\atefe\\\\Desktop\\\\test\\\\461c0b428363ba6f0bb5a3a425b31b09_1.jpg',\n",
       " 'C:\\\\Users\\\\atefe\\\\Desktop\\\\test\\\\47ad6d7c0e2e7b7a61a05000669bfbb8.jpg',\n",
       " 'C:\\\\Users\\\\atefe\\\\Desktop\\\\test\\\\47ec118d10165fa499d2a65f7fe49759.jpg',\n",
       " 'C:\\\\Users\\\\atefe\\\\Desktop\\\\test\\\\47fa53ffb251404ebbce4613e029cdb4.jpg',\n",
       " 'C:\\\\Users\\\\atefe\\\\Desktop\\\\test\\\\489e5d546e50dbd33740065569f4e59c.jpg',\n",
       " 'C:\\\\Users\\\\atefe\\\\Desktop\\\\test\\\\48b7ff5df20f9896f9102e2c98ef26f9.jpg',\n",
       " 'C:\\\\Users\\\\atefe\\\\Desktop\\\\test\\\\48f44aba421433a2856ffb1dcdaa3d2d.jpg',\n",
       " 'C:\\\\Users\\\\atefe\\\\Desktop\\\\test\\\\4b520da4e68716484a7374a42bf7e2a9_2.jpg',\n",
       " 'C:\\\\Users\\\\atefe\\\\Desktop\\\\test\\\\4b803581168aa9bf50d55d57f6e1eec7.jpg',\n",
       " 'C:\\\\Users\\\\atefe\\\\Desktop\\\\test\\\\4ca8d0d55601876d3e7742c4db5df7a8.jpg',\n",
       " 'C:\\\\Users\\\\atefe\\\\Desktop\\\\test\\\\4cb366eee206bc9f0b48c0c8d7cc94ae.jpg',\n",
       " 'C:\\\\Users\\\\atefe\\\\Desktop\\\\test\\\\4e8fb4e8b8d83fcd5f32a1c912baccae.jpg',\n",
       " 'C:\\\\Users\\\\atefe\\\\Desktop\\\\test\\\\5009b204206a782e86348f66217b0943.jpg',\n",
       " 'C:\\\\Users\\\\atefe\\\\Desktop\\\\test\\\\51e2bcf8a78d836c45bd5d41e4555331.jpg',\n",
       " 'C:\\\\Users\\\\atefe\\\\Desktop\\\\test\\\\52a0c51a16f05bf71b81b3ca9a436380.jpg',\n",
       " 'C:\\\\Users\\\\atefe\\\\Desktop\\\\test\\\\52a641fd852639daaa45556a3d7f3a55_1.jpg',\n",
       " 'C:\\\\Users\\\\atefe\\\\Desktop\\\\test\\\\52a641fd852639daaa45556a3d7f3a55_2.jpg',\n",
       " 'C:\\\\Users\\\\atefe\\\\Desktop\\\\test\\\\52a641fd852639daaa45556a3d7f3a55_6.jpg',\n",
       " 'C:\\\\Users\\\\atefe\\\\Desktop\\\\test\\\\52f798c11646c0aa79900612cb43433f_2.jpg',\n",
       " 'C:\\\\Users\\\\atefe\\\\Desktop\\\\test\\\\5740f241edc8a888a1004e236332ecbe_4.jpg',\n",
       " 'C:\\\\Users\\\\atefe\\\\Desktop\\\\test\\\\5a6c034929ab5dd708076326ad206261_2.jpg',\n",
       " 'C:\\\\Users\\\\atefe\\\\Desktop\\\\test\\\\5b17ed3b970a83bcd89acdfed20c0c67.jpg',\n",
       " 'C:\\\\Users\\\\atefe\\\\Desktop\\\\test\\\\5b2d9b4fe0607c1026393f5150d1f4fc.jpg',\n",
       " 'C:\\\\Users\\\\atefe\\\\Desktop\\\\test\\\\5b3e4de6da2a3165c4ee76b543f205ea_2.jpg',\n",
       " 'C:\\\\Users\\\\atefe\\\\Desktop\\\\test\\\\5ba8ea1745e03ae9d5324288f2716a2d_1.jpg',\n",
       " 'C:\\\\Users\\\\atefe\\\\Desktop\\\\test\\\\5d1c5c93b464ed97c9508befa50e866e_3.jpg',\n",
       " 'C:\\\\Users\\\\atefe\\\\Desktop\\\\test\\\\6103ce8203bae073bc7fbe4d839442e6.jpg',\n",
       " 'C:\\\\Users\\\\atefe\\\\Desktop\\\\test\\\\61e70745b0e5c4134680f2161dbb0897.jpg',\n",
       " 'C:\\\\Users\\\\atefe\\\\Desktop\\\\test\\\\64dfdeb472cdd0350b654eecab8f3e98.jpg',\n",
       " 'C:\\\\Users\\\\atefe\\\\Desktop\\\\test\\\\69a1fa63b5ef242c6f358c2975e3ac35.jpg',\n",
       " 'C:\\\\Users\\\\atefe\\\\Desktop\\\\test\\\\6a381bb657efa536ec4b11dd3a608820.jpg',\n",
       " 'C:\\\\Users\\\\atefe\\\\Desktop\\\\test\\\\6a87460e604881ea8637af297e1203cb.jpg',\n",
       " 'C:\\\\Users\\\\atefe\\\\Desktop\\\\test\\\\6b816984ec5fbd0541836da977d4570d_3.jpg',\n",
       " 'C:\\\\Users\\\\atefe\\\\Desktop\\\\test\\\\6f1bfb07d872d00e366d5bfaf05ed685.jpg',\n",
       " 'C:\\\\Users\\\\atefe\\\\Desktop\\\\test\\\\6f52adbcded6525df92e699a0cbfb1f9.jpg',\n",
       " 'C:\\\\Users\\\\atefe\\\\Desktop\\\\test\\\\70fb7730f6a6a9a7886d6258ae850abe_1.jpg',\n",
       " 'C:\\\\Users\\\\atefe\\\\Desktop\\\\test\\\\70fb7730f6a6a9a7886d6258ae850abe_2.jpg',\n",
       " 'C:\\\\Users\\\\atefe\\\\Desktop\\\\test\\\\7219ab660be47b31ea259f2607b48850.jpg',\n",
       " 'C:\\\\Users\\\\atefe\\\\Desktop\\\\test\\\\741b84cb122cba80c73c8ef585f7d942_1.jpg',\n",
       " 'C:\\\\Users\\\\atefe\\\\Desktop\\\\test\\\\74bdd082397abc428326f0b5d20e4391.jpg',\n",
       " 'C:\\\\Users\\\\atefe\\\\Desktop\\\\test\\\\75afebf5f040177e9b1e35d8119a04c3_2.jpg',\n",
       " 'C:\\\\Users\\\\atefe\\\\Desktop\\\\test\\\\7679ff1c8fc5239a90e06d16b03d36a8_1.jpg',\n",
       " 'C:\\\\Users\\\\atefe\\\\Desktop\\\\test\\\\7679ff1c8fc5239a90e06d16b03d36a8_2.jpg',\n",
       " 'C:\\\\Users\\\\atefe\\\\Desktop\\\\test\\\\78eefcec01514be9fb5f6cb89d5e3618.jpg',\n",
       " 'C:\\\\Users\\\\atefe\\\\Desktop\\\\test\\\\7921d3c75456cfe74d8d0a9d122d15b8.jpg',\n",
       " 'C:\\\\Users\\\\atefe\\\\Desktop\\\\test\\\\794cb1934863cdcffa46755cc8a19c4e.jpg',\n",
       " 'C:\\\\Users\\\\atefe\\\\Desktop\\\\test\\\\7db8eca4d3da52ed2e0d9e60adbd72d6_2.jpg',\n",
       " 'C:\\\\Users\\\\atefe\\\\Desktop\\\\test\\\\7dba34a0581638791ac2007fd8ee25e9.jpg',\n",
       " 'C:\\\\Users\\\\atefe\\\\Desktop\\\\test\\\\7dbd05a83a7eb8a6ab319be91f212e04.jpg',\n",
       " 'C:\\\\Users\\\\atefe\\\\Desktop\\\\test\\\\7f19a1ea9dbcdf99a9c78a7fb65d3c9b.jpg',\n",
       " 'C:\\\\Users\\\\atefe\\\\Desktop\\\\test\\\\804e87517d92e7d017194af35fbda7e9.jpg',\n",
       " 'C:\\\\Users\\\\atefe\\\\Desktop\\\\test\\\\818b067a4a47b56127d27d86d15203fa.jpg',\n",
       " 'C:\\\\Users\\\\atefe\\\\Desktop\\\\test\\\\81e513afffd3423a3e34efd26928a11e_2.jpg',\n",
       " 'C:\\\\Users\\\\atefe\\\\Desktop\\\\test\\\\833992cc1bb0892538cf4ecea8fe9785_2.jpg',\n",
       " 'C:\\\\Users\\\\atefe\\\\Desktop\\\\test\\\\833992cc1bb0892538cf4ecea8fe9785_3.jpg',\n",
       " 'C:\\\\Users\\\\atefe\\\\Desktop\\\\test\\\\834116f765417fb3895d098d6d2ecefb_2.jpg',\n",
       " 'C:\\\\Users\\\\atefe\\\\Desktop\\\\test\\\\843f22d756fd68cfafc952fd7c2496d5_2.jpg',\n",
       " 'C:\\\\Users\\\\atefe\\\\Desktop\\\\test\\\\847e91fdb5d5363913b2866bd084b58e_1.jpg',\n",
       " 'C:\\\\Users\\\\atefe\\\\Desktop\\\\test\\\\84b7d9d91b5e4f982b8473eaafdb5eda_2.jpg',\n",
       " 'C:\\\\Users\\\\atefe\\\\Desktop\\\\test\\\\859aa4c546d2b3e727cd96455e576c54.jpg',\n",
       " 'C:\\\\Users\\\\atefe\\\\Desktop\\\\test\\\\88f8451bfa4febd530d8c8e61176953d.jpg',\n",
       " 'C:\\\\Users\\\\atefe\\\\Desktop\\\\test\\\\89257a01e2ef49e126c0922ff2bbd958.jpg',\n",
       " 'C:\\\\Users\\\\atefe\\\\Desktop\\\\test\\\\8a788308be95f04c3ad32380429a6f29_1.jpg',\n",
       " 'C:\\\\Users\\\\atefe\\\\Desktop\\\\test\\\\8a9c9db19d634e3370703aa85d7fbd0c.jpg',\n",
       " 'C:\\\\Users\\\\atefe\\\\Desktop\\\\test\\\\8b2e30ff3b7c51c0781bf3e2b4078927_2.jpg',\n",
       " 'C:\\\\Users\\\\atefe\\\\Desktop\\\\test\\\\8b3f89e07f89af210e8fa6f13ab68b8d_2.jpg',\n",
       " 'C:\\\\Users\\\\atefe\\\\Desktop\\\\test\\\\8c25cad2042e3f54dfe8ac6733059dca_1.jpg',\n",
       " 'C:\\\\Users\\\\atefe\\\\Desktop\\\\test\\\\8d23666b8cdbb6f8bd189205f009e040_1.jpg',\n",
       " 'C:\\\\Users\\\\atefe\\\\Desktop\\\\test\\\\8e20c5b100299349efd0339019392688_3.jpg',\n",
       " 'C:\\\\Users\\\\atefe\\\\Desktop\\\\test\\\\8e20c5b100299349efd0339019392688_6.jpg',\n",
       " 'C:\\\\Users\\\\atefe\\\\Desktop\\\\test\\\\8f17b3f63cde2381e558d22498fbd0b9.jpg',\n",
       " 'C:\\\\Users\\\\atefe\\\\Desktop\\\\test\\\\90e16a31a300a84ae0af957c3a3acb9d_2.jpg',\n",
       " 'C:\\\\Users\\\\atefe\\\\Desktop\\\\test\\\\941300c64e74b28a0f8e6279da75fdbf.jpg',\n",
       " 'C:\\\\Users\\\\atefe\\\\Desktop\\\\test\\\\96c9d24f6ccf0899d15c882e062ffc83_3.jpg',\n",
       " 'C:\\\\Users\\\\atefe\\\\Desktop\\\\test\\\\9a95439e31a3a518a5553be861d99a7a_1.jpg',\n",
       " 'C:\\\\Users\\\\atefe\\\\Desktop\\\\test\\\\9a9a3db409b4af6fdf6b677aeedab11f_2.jpg',\n",
       " 'C:\\\\Users\\\\atefe\\\\Desktop\\\\test\\\\9ab54e46518a644986174cdceede443b.jpg',\n",
       " 'C:\\\\Users\\\\atefe\\\\Desktop\\\\test\\\\9fd6712003f8bace5a28d611af1b4a21.jpg',\n",
       " 'C:\\\\Users\\\\atefe\\\\Desktop\\\\test\\\\a08f466893c15a617ed515685b7299de.jpg',\n",
       " 'C:\\\\Users\\\\atefe\\\\Desktop\\\\test\\\\a10e148d1b37959b5551663847bfa0fe.jpg',\n",
       " 'C:\\\\Users\\\\atefe\\\\Desktop\\\\test\\\\a2d03463f8e34b2af50242d9dc122a47.jpg',\n",
       " 'C:\\\\Users\\\\atefe\\\\Desktop\\\\test\\\\a9f685568aeeef0b2dc6322bccdfc3eb_3.jpg',\n",
       " 'C:\\\\Users\\\\atefe\\\\Desktop\\\\test\\\\aa18781ad618f6aae949142d51d13b21_1.jpg',\n",
       " 'C:\\\\Users\\\\atefe\\\\Desktop\\\\test\\\\aa18781ad618f6aae949142d51d13b21_2.jpg',\n",
       " 'C:\\\\Users\\\\atefe\\\\Desktop\\\\test\\\\aa18781ad618f6aae949142d51d13b21_3.jpg',\n",
       " 'C:\\\\Users\\\\atefe\\\\Desktop\\\\test\\\\aa18781ad618f6aae949142d51d13b21_4.jpg',\n",
       " 'C:\\\\Users\\\\atefe\\\\Desktop\\\\test\\\\ab13cc8cb31ec459a4a6601fbba46b38.jpg',\n",
       " 'C:\\\\Users\\\\atefe\\\\Desktop\\\\test\\\\abfb6f72a5fa597faf5504a01e5e3d79_5.jpg',\n",
       " 'C:\\\\Users\\\\atefe\\\\Desktop\\\\test\\\\ac15e4343f32abf47d5d561409555d11_1.jpg',\n",
       " 'C:\\\\Users\\\\atefe\\\\Desktop\\\\test\\\\ac15e4343f32abf47d5d561409555d11_2.jpg',\n",
       " 'C:\\\\Users\\\\atefe\\\\Desktop\\\\test\\\\ac6537f96fb80636cb53b7cd622f5bc8_2.jpg',\n",
       " 'C:\\\\Users\\\\atefe\\\\Desktop\\\\test\\\\ad729ba5891d6199f01d12d59086bb86_1.jpg',\n",
       " 'C:\\\\Users\\\\atefe\\\\Desktop\\\\test\\\\ad729ba5891d6199f01d12d59086bb86_2.jpg',\n",
       " 'C:\\\\Users\\\\atefe\\\\Desktop\\\\test\\\\ad729ba5891d6199f01d12d59086bb86_3.jpg',\n",
       " 'C:\\\\Users\\\\atefe\\\\Desktop\\\\test\\\\ada41d64f7082d721ee96cce69dd49ee.jpg',\n",
       " 'C:\\\\Users\\\\atefe\\\\Desktop\\\\test\\\\aec7b8c45a0cae6856d6975b94923e38.jpg',\n",
       " 'C:\\\\Users\\\\atefe\\\\Desktop\\\\test\\\\afcfb90e729e30b3dc7b09353200dac3.jpg',\n",
       " 'C:\\\\Users\\\\atefe\\\\Desktop\\\\test\\\\b377779e936157605e7665ec64cad21b.jpg',\n",
       " 'C:\\\\Users\\\\atefe\\\\Desktop\\\\test\\\\b6c8c5afc4c2eed12844de9120f1806d_1.jpg',\n",
       " 'C:\\\\Users\\\\atefe\\\\Desktop\\\\test\\\\b6f9fe8b3211985645495963af5fbb92.jpg',\n",
       " 'C:\\\\Users\\\\atefe\\\\Desktop\\\\test\\\\b76c113a590bac5583eb93912252fd4f_2.jpg',\n",
       " 'C:\\\\Users\\\\atefe\\\\Desktop\\\\test\\\\b7e828906496c359de4040f47f360358_2.jpg',\n",
       " 'C:\\\\Users\\\\atefe\\\\Desktop\\\\test\\\\b9057662f672b5a6d231d9c7efc6838d_1.jpg',\n",
       " 'C:\\\\Users\\\\atefe\\\\Desktop\\\\test\\\\b9057662f672b5a6d231d9c7efc6838d_2.jpg',\n",
       " 'C:\\\\Users\\\\atefe\\\\Desktop\\\\test\\\\b92bc38b3add1765067113c29e585921.jpg',\n",
       " 'C:\\\\Users\\\\atefe\\\\Desktop\\\\test\\\\ba477bfe81ebbb1b720413a2528d7ef3.jpg',\n",
       " 'C:\\\\Users\\\\atefe\\\\Desktop\\\\test\\\\bcef979fdc530eba01f536f47878813f.jpg',\n",
       " 'C:\\\\Users\\\\atefe\\\\Desktop\\\\test\\\\bcef979fdc530eba01f536f47878813f_1.jpg',\n",
       " 'C:\\\\Users\\\\atefe\\\\Desktop\\\\test\\\\bcef979fdc530eba01f536f47878813f_2.jpg',\n",
       " 'C:\\\\Users\\\\atefe\\\\Desktop\\\\test\\\\bd017a684aa93257d7c79fedde4d24e7_3.jpg',\n",
       " 'C:\\\\Users\\\\atefe\\\\Desktop\\\\test\\\\be3ac3513667c46886e2cf27ddedbe36_2.jpg',\n",
       " 'C:\\\\Users\\\\atefe\\\\Desktop\\\\test\\\\bfe582366beebd7f8848bbf53d6304be_3.jpg',\n",
       " 'C:\\\\Users\\\\atefe\\\\Desktop\\\\test\\\\c0b84f027df8a69add66559d915ad6f2_2.jpg',\n",
       " 'C:\\\\Users\\\\atefe\\\\Desktop\\\\test\\\\c1056529ee761ff7cbf513dc6cca6fd4_6.jpg',\n",
       " 'C:\\\\Users\\\\atefe\\\\Desktop\\\\test\\\\c1056529ee761ff7cbf513dc6cca6fd4_8.jpg',\n",
       " 'C:\\\\Users\\\\atefe\\\\Desktop\\\\test\\\\c1056529ee761ff7cbf513dc6cca6fd4_9.jpg',\n",
       " 'C:\\\\Users\\\\atefe\\\\Desktop\\\\test\\\\c1c43fe5d79a70bf949c05e5b8ed267d_1.jpg',\n",
       " 'C:\\\\Users\\\\atefe\\\\Desktop\\\\test\\\\c26466dc96f28a4ebd901799d53c60ab.jpg',\n",
       " 'C:\\\\Users\\\\atefe\\\\Desktop\\\\test\\\\c29f7d2b95144642cea08a4f4455efe9_2.jpg',\n",
       " 'C:\\\\Users\\\\atefe\\\\Desktop\\\\test\\\\c29f7d2b95144642cea08a4f4455efe9_3.jpg',\n",
       " 'C:\\\\Users\\\\atefe\\\\Desktop\\\\test\\\\c29f7d2b95144642cea08a4f4455efe9_6.jpg',\n",
       " 'C:\\\\Users\\\\atefe\\\\Desktop\\\\test\\\\c6eac7dcac43ab7535ceb587ff65cd3b_2.jpg',\n",
       " 'C:\\\\Users\\\\atefe\\\\Desktop\\\\test\\\\c816e5457fc313c27bd38ebc1658b4b8_2.jpg',\n",
       " 'C:\\\\Users\\\\atefe\\\\Desktop\\\\test\\\\c969c61c59929b2fc98596b37ef31774.jpg',\n",
       " 'C:\\\\Users\\\\atefe\\\\Desktop\\\\test\\\\c98a06bc768ed92afea8be4a67c26911_1.jpg',\n",
       " 'C:\\\\Users\\\\atefe\\\\Desktop\\\\test\\\\c98a06bc768ed92afea8be4a67c26911_2.jpg',\n",
       " 'C:\\\\Users\\\\atefe\\\\Desktop\\\\test\\\\c9d2121423c6174c4d3eaebb778aa74e.jpg',\n",
       " 'C:\\\\Users\\\\atefe\\\\Desktop\\\\test\\\\ca2a234d58852de50b07a6a216370b6d_1.jpg',\n",
       " 'C:\\\\Users\\\\atefe\\\\Desktop\\\\test\\\\ca2a234d58852de50b07a6a216370b6d_7.jpg',\n",
       " 'C:\\\\Users\\\\atefe\\\\Desktop\\\\test\\\\cb07b3779ee43a9bb7eecb322a6b4160_2.jpg',\n",
       " 'C:\\\\Users\\\\atefe\\\\Desktop\\\\test\\\\ce1fd803ed1d255701bbbae6c9f115e7.jpg',\n",
       " 'C:\\\\Users\\\\atefe\\\\Desktop\\\\test\\\\ce457dce276f4915180fef71c775162e_3.jpg',\n",
       " 'C:\\\\Users\\\\atefe\\\\Desktop\\\\test\\\\cf250e5f053cd65aa930c7d76f264d11_1.jpg',\n",
       " 'C:\\\\Users\\\\atefe\\\\Desktop\\\\test\\\\d0813ddce0c72c0fb0c33257903d518d_5.jpg',\n",
       " 'C:\\\\Users\\\\atefe\\\\Desktop\\\\test\\\\d21ccfd2667fd9ca221254512900ac17_1.jpg',\n",
       " 'C:\\\\Users\\\\atefe\\\\Desktop\\\\test\\\\d3c7bb268afb3ba438b1ed56fa4f247a.jpg',\n",
       " 'C:\\\\Users\\\\atefe\\\\Desktop\\\\test\\\\d4dfbdddc3e02c1e4891773f0b26f73e.jpg',\n",
       " 'C:\\\\Users\\\\atefe\\\\Desktop\\\\test\\\\d5aecd463abb8e65851bd7c5cde7aced.jpg',\n",
       " 'C:\\\\Users\\\\atefe\\\\Desktop\\\\test\\\\d7fe5038153863f1991c31af2e4f901a_1.jpg',\n",
       " 'C:\\\\Users\\\\atefe\\\\Desktop\\\\test\\\\d7fe5038153863f1991c31af2e4f901a_4.jpg',\n",
       " 'C:\\\\Users\\\\atefe\\\\Desktop\\\\test\\\\d8bfc6ecdcdf89f1f800c4fa061ba0a8.jpg',\n",
       " 'C:\\\\Users\\\\atefe\\\\Desktop\\\\test\\\\d99f3a9446d06d9f027e632f4b781f77_1.jpg',\n",
       " 'C:\\\\Users\\\\atefe\\\\Desktop\\\\test\\\\dc703955d59f63982f81892900824cc4_1.jpg',\n",
       " 'C:\\\\Users\\\\atefe\\\\Desktop\\\\test\\\\dc703955d59f63982f81892900824cc4_2.jpg',\n",
       " 'C:\\\\Users\\\\atefe\\\\Desktop\\\\test\\\\dd1fb8dfe7627a21fd3b1db9f975f616.jpg',\n",
       " 'C:\\\\Users\\\\atefe\\\\Desktop\\\\test\\\\e17e418919f88f7155b85f2bf58e7975.jpg',\n",
       " 'C:\\\\Users\\\\atefe\\\\Desktop\\\\test\\\\e1c39b2cd75cbe3e140791382085cd6b_2.jpg',\n",
       " 'C:\\\\Users\\\\atefe\\\\Desktop\\\\test\\\\e1d6a3b9926c31029b5d6a0360fef076.jpg',\n",
       " 'C:\\\\Users\\\\atefe\\\\Desktop\\\\test\\\\e26fb0dbdcb3c4a04df9746f97ef308d_1.jpg',\n",
       " 'C:\\\\Users\\\\atefe\\\\Desktop\\\\test\\\\e630893e4a9a2696bfa7f7c2ecdcee52.jpg',\n",
       " 'C:\\\\Users\\\\atefe\\\\Desktop\\\\test\\\\e8071e6fd6cf1b9cfd1d8bdd8328a7e9.jpg',\n",
       " 'C:\\\\Users\\\\atefe\\\\Desktop\\\\test\\\\e882a0ff6993d79e93822f7a50bcd137_2.jpg',\n",
       " 'C:\\\\Users\\\\atefe\\\\Desktop\\\\test\\\\e890afa2c7d093b261733e0724b009a9.jpg',\n",
       " 'C:\\\\Users\\\\atefe\\\\Desktop\\\\test\\\\eb09d89ba31fed396d5a5a8d8a9d1828.jpg',\n",
       " 'C:\\\\Users\\\\atefe\\\\Desktop\\\\test\\\\eb74dd87d0a9b876ad10a764469e94f7_2.jpg',\n",
       " 'C:\\\\Users\\\\atefe\\\\Desktop\\\\test\\\\ebfea1a0350207555bb9ce733d3ea7fd_3.jpg',\n",
       " 'C:\\\\Users\\\\atefe\\\\Desktop\\\\test\\\\ec05648467538a1ede83914c61413105_2.jpg',\n",
       " 'C:\\\\Users\\\\atefe\\\\Desktop\\\\test\\\\ec11520897b3697b7a99af00d64144f0_3.jpg',\n",
       " 'C:\\\\Users\\\\atefe\\\\Desktop\\\\test\\\\ec11520897b3697b7a99af00d64144f0_6.jpg',\n",
       " 'C:\\\\Users\\\\atefe\\\\Desktop\\\\test\\\\ec702e8e33699b1d6c9ef834278ac61f.jpg',\n",
       " 'C:\\\\Users\\\\atefe\\\\Desktop\\\\test\\\\ecd45d72b2f887f7abfe06223ae1f6e2.jpg',\n",
       " 'C:\\\\Users\\\\atefe\\\\Desktop\\\\test\\\\eec4d154cd1528b94b523b0798197301.jpg',\n",
       " 'C:\\\\Users\\\\atefe\\\\Desktop\\\\test\\\\ef7bc405f9fafb69773bb9739c6c126a.jpg',\n",
       " 'C:\\\\Users\\\\atefe\\\\Desktop\\\\test\\\\f1291ecf84e7796f4d66e8649d2ea187.jpg',\n",
       " 'C:\\\\Users\\\\atefe\\\\Desktop\\\\test\\\\f12b9a1d92be06ce9357ae9a12a66e52_1.jpg',\n",
       " 'C:\\\\Users\\\\atefe\\\\Desktop\\\\test\\\\f12b9a1d92be06ce9357ae9a12a66e52_2.jpg',\n",
       " 'C:\\\\Users\\\\atefe\\\\Desktop\\\\test\\\\f17681f73a22293d830e7c2a9e0ab10d_2.jpg',\n",
       " 'C:\\\\Users\\\\atefe\\\\Desktop\\\\test\\\\f2b2ec91a9c04abdf0912d7c53e25375_2.jpg',\n",
       " 'C:\\\\Users\\\\atefe\\\\Desktop\\\\test\\\\f35ea13820cfa86807f6e7727e2e67c4.jpg',\n",
       " 'C:\\\\Users\\\\atefe\\\\Desktop\\\\test\\\\f3d058f08f7612b07520701b5c7ec7e5_1.jpg',\n",
       " 'C:\\\\Users\\\\atefe\\\\Desktop\\\\test\\\\f3fe4d4707c050b65948569ce11c30e4_2.jpg',\n",
       " 'C:\\\\Users\\\\atefe\\\\Desktop\\\\test\\\\f63389d3dc870e6bb0286ea5453dc838.jpg',\n",
       " 'C:\\\\Users\\\\atefe\\\\Desktop\\\\test\\\\f6690637ad8d45c5a712cb3afb86b54c_3.jpg',\n",
       " 'C:\\\\Users\\\\atefe\\\\Desktop\\\\test\\\\f7744d49d65d3c116b4b343974be2f2a.jpg',\n",
       " 'C:\\\\Users\\\\atefe\\\\Desktop\\\\test\\\\f8f36df9b645fa97e0f0ea027195ffc2.jpg',\n",
       " 'C:\\\\Users\\\\atefe\\\\Desktop\\\\test\\\\f95151d46ab46fe856074feb728f4190.jpg',\n",
       " 'C:\\\\Users\\\\atefe\\\\Desktop\\\\test\\\\fd40cbeac18b5764fbd2f8d1d52e5640.jpg',\n",
       " 'C:\\\\Users\\\\atefe\\\\Desktop\\\\test\\\\fef37ea5a0c4dd7978a4a433fa3a31ce_2.jpg']"
      ]
     },
     "execution_count": 8,
     "metadata": {},
     "output_type": "execute_result"
    }
   ],
   "source": [
    "list_test"
   ]
  },
  {
   "cell_type": "code",
   "execution_count": 9,
   "id": "f508929d",
   "metadata": {},
   "outputs": [],
   "source": [
    "path_tes=r'C:\\Users\\atefe\\Desktop\\test'\n",
    "def list_file_name(path: str):\n",
    "    file_name = []\n",
    "    p = os.listdir(path)\n",
    "\n",
    "    for i in range(len(p)):\n",
    "        file_name.append(p[i][:-4])\n",
    "    return file_name"
   ]
  },
  {
   "cell_type": "code",
   "execution_count": 10,
   "id": "a4d0876e",
   "metadata": {},
   "outputs": [],
   "source": [
    "test_images=list_file_name(path_tes)"
   ]
  },
  {
   "cell_type": "code",
   "execution_count": 12,
   "id": "c6cd5976",
   "metadata": {},
   "outputs": [
    {
     "name": "stderr",
     "output_type": "stream",
     "text": [
      "C:\\Users\\atefe\\Desktop\\tfo\\TFODCourse\\tfod\\lib\\site-packages\\torch\\autocast_mode.py:141: UserWarning: User provided device_type of 'cuda', but CUDA is not available. Disabling\n",
      "  warnings.warn('User provided device_type of \\'cuda\\', but CUDA is not available. Disabling')\n",
      "C:\\Users\\atefe\\Desktop\\tfo\\TFODCourse\\tfod\\lib\\site-packages\\torch\\autocast_mode.py:141: UserWarning: User provided device_type of 'cuda', but CUDA is not available. Disabling\n",
      "  warnings.warn('User provided device_type of \\'cuda\\', but CUDA is not available. Disabling')\n"
     ]
    },
    {
     "name": "stdout",
     "output_type": "stream",
     "text": [
      "0\n",
      "0\n"
     ]
    },
    {
     "name": "stderr",
     "output_type": "stream",
     "text": [
      "C:\\Users\\atefe\\Desktop\\tfo\\TFODCourse\\tfod\\lib\\site-packages\\torch\\autocast_mode.py:141: UserWarning: User provided device_type of 'cuda', but CUDA is not available. Disabling\n",
      "  warnings.warn('User provided device_type of \\'cuda\\', but CUDA is not available. Disabling')\n",
      "C:\\Users\\atefe\\Desktop\\tfo\\TFODCourse\\tfod\\lib\\site-packages\\torch\\autocast_mode.py:141: UserWarning: User provided device_type of 'cuda', but CUDA is not available. Disabling\n",
      "  warnings.warn('User provided device_type of \\'cuda\\', but CUDA is not available. Disabling')\n"
     ]
    },
    {
     "name": "stdout",
     "output_type": "stream",
     "text": [
      "1\n",
      "1\n"
     ]
    },
    {
     "name": "stderr",
     "output_type": "stream",
     "text": [
      "C:\\Users\\atefe\\Desktop\\tfo\\TFODCourse\\tfod\\lib\\site-packages\\torch\\autocast_mode.py:141: UserWarning: User provided device_type of 'cuda', but CUDA is not available. Disabling\n",
      "  warnings.warn('User provided device_type of \\'cuda\\', but CUDA is not available. Disabling')\n",
      "C:\\Users\\atefe\\Desktop\\tfo\\TFODCourse\\tfod\\lib\\site-packages\\torch\\autocast_mode.py:141: UserWarning: User provided device_type of 'cuda', but CUDA is not available. Disabling\n",
      "  warnings.warn('User provided device_type of \\'cuda\\', but CUDA is not available. Disabling')\n"
     ]
    },
    {
     "name": "stdout",
     "output_type": "stream",
     "text": [
      "2\n",
      "3\n",
      "2\n",
      "3\n"
     ]
    },
    {
     "name": "stderr",
     "output_type": "stream",
     "text": [
      "C:\\Users\\atefe\\Desktop\\tfo\\TFODCourse\\tfod\\lib\\site-packages\\torch\\autocast_mode.py:141: UserWarning: User provided device_type of 'cuda', but CUDA is not available. Disabling\n",
      "  warnings.warn('User provided device_type of \\'cuda\\', but CUDA is not available. Disabling')\n",
      "C:\\Users\\atefe\\Desktop\\tfo\\TFODCourse\\tfod\\lib\\site-packages\\torch\\autocast_mode.py:141: UserWarning: User provided device_type of 'cuda', but CUDA is not available. Disabling\n",
      "  warnings.warn('User provided device_type of \\'cuda\\', but CUDA is not available. Disabling')\n",
      "C:\\Users\\atefe\\Desktop\\tfo\\TFODCourse\\tfod\\lib\\site-packages\\torch\\autocast_mode.py:141: UserWarning: User provided device_type of 'cuda', but CUDA is not available. Disabling\n",
      "  warnings.warn('User provided device_type of \\'cuda\\', but CUDA is not available. Disabling')\n",
      "C:\\Users\\atefe\\Desktop\\tfo\\TFODCourse\\tfod\\lib\\site-packages\\torch\\autocast_mode.py:141: UserWarning: User provided device_type of 'cuda', but CUDA is not available. Disabling\n",
      "  warnings.warn('User provided device_type of \\'cuda\\', but CUDA is not available. Disabling')\n"
     ]
    },
    {
     "name": "stdout",
     "output_type": "stream",
     "text": [
      "4\n",
      "4\n"
     ]
    },
    {
     "name": "stderr",
     "output_type": "stream",
     "text": [
      "C:\\Users\\atefe\\Desktop\\tfo\\TFODCourse\\tfod\\lib\\site-packages\\torch\\autocast_mode.py:141: UserWarning: User provided device_type of 'cuda', but CUDA is not available. Disabling\n",
      "  warnings.warn('User provided device_type of \\'cuda\\', but CUDA is not available. Disabling')\n",
      "C:\\Users\\atefe\\Desktop\\tfo\\TFODCourse\\tfod\\lib\\site-packages\\torch\\autocast_mode.py:141: UserWarning: User provided device_type of 'cuda', but CUDA is not available. Disabling\n",
      "  warnings.warn('User provided device_type of \\'cuda\\', but CUDA is not available. Disabling')\n"
     ]
    },
    {
     "name": "stdout",
     "output_type": "stream",
     "text": [
      "5\n",
      "6\n",
      "5\n",
      "6\n"
     ]
    },
    {
     "name": "stderr",
     "output_type": "stream",
     "text": [
      "C:\\Users\\atefe\\Desktop\\tfo\\TFODCourse\\tfod\\lib\\site-packages\\torch\\autocast_mode.py:141: UserWarning: User provided device_type of 'cuda', but CUDA is not available. Disabling\n",
      "  warnings.warn('User provided device_type of \\'cuda\\', but CUDA is not available. Disabling')\n",
      "C:\\Users\\atefe\\Desktop\\tfo\\TFODCourse\\tfod\\lib\\site-packages\\torch\\autocast_mode.py:141: UserWarning: User provided device_type of 'cuda', but CUDA is not available. Disabling\n",
      "  warnings.warn('User provided device_type of \\'cuda\\', but CUDA is not available. Disabling')\n",
      "C:\\Users\\atefe\\Desktop\\tfo\\TFODCourse\\tfod\\lib\\site-packages\\torch\\autocast_mode.py:141: UserWarning: User provided device_type of 'cuda', but CUDA is not available. Disabling\n",
      "  warnings.warn('User provided device_type of \\'cuda\\', but CUDA is not available. Disabling')\n",
      "C:\\Users\\atefe\\Desktop\\tfo\\TFODCourse\\tfod\\lib\\site-packages\\torch\\autocast_mode.py:141: UserWarning: User provided device_type of 'cuda', but CUDA is not available. Disabling\n",
      "  warnings.warn('User provided device_type of \\'cuda\\', but CUDA is not available. Disabling')\n"
     ]
    },
    {
     "name": "stdout",
     "output_type": "stream",
     "text": [
      "7\n",
      "7\n"
     ]
    },
    {
     "name": "stderr",
     "output_type": "stream",
     "text": [
      "C:\\Users\\atefe\\Desktop\\tfo\\TFODCourse\\tfod\\lib\\site-packages\\torch\\autocast_mode.py:141: UserWarning: User provided device_type of 'cuda', but CUDA is not available. Disabling\n",
      "  warnings.warn('User provided device_type of \\'cuda\\', but CUDA is not available. Disabling')\n",
      "C:\\Users\\atefe\\Desktop\\tfo\\TFODCourse\\tfod\\lib\\site-packages\\torch\\autocast_mode.py:141: UserWarning: User provided device_type of 'cuda', but CUDA is not available. Disabling\n",
      "  warnings.warn('User provided device_type of \\'cuda\\', but CUDA is not available. Disabling')\n"
     ]
    },
    {
     "name": "stdout",
     "output_type": "stream",
     "text": [
      "8\n",
      "8\n"
     ]
    },
    {
     "name": "stderr",
     "output_type": "stream",
     "text": [
      "C:\\Users\\atefe\\Desktop\\tfo\\TFODCourse\\tfod\\lib\\site-packages\\torch\\autocast_mode.py:141: UserWarning: User provided device_type of 'cuda', but CUDA is not available. Disabling\n",
      "  warnings.warn('User provided device_type of \\'cuda\\', but CUDA is not available. Disabling')\n",
      "C:\\Users\\atefe\\Desktop\\tfo\\TFODCourse\\tfod\\lib\\site-packages\\torch\\autocast_mode.py:141: UserWarning: User provided device_type of 'cuda', but CUDA is not available. Disabling\n",
      "  warnings.warn('User provided device_type of \\'cuda\\', but CUDA is not available. Disabling')\n"
     ]
    },
    {
     "name": "stdout",
     "output_type": "stream",
     "text": [
      "9\n",
      "9\n"
     ]
    },
    {
     "name": "stderr",
     "output_type": "stream",
     "text": [
      "C:\\Users\\atefe\\Desktop\\tfo\\TFODCourse\\tfod\\lib\\site-packages\\torch\\autocast_mode.py:141: UserWarning: User provided device_type of 'cuda', but CUDA is not available. Disabling\n",
      "  warnings.warn('User provided device_type of \\'cuda\\', but CUDA is not available. Disabling')\n",
      "C:\\Users\\atefe\\Desktop\\tfo\\TFODCourse\\tfod\\lib\\site-packages\\torch\\autocast_mode.py:141: UserWarning: User provided device_type of 'cuda', but CUDA is not available. Disabling\n",
      "  warnings.warn('User provided device_type of \\'cuda\\', but CUDA is not available. Disabling')\n"
     ]
    },
    {
     "name": "stdout",
     "output_type": "stream",
     "text": [
      "10\n",
      "10\n"
     ]
    },
    {
     "name": "stderr",
     "output_type": "stream",
     "text": [
      "C:\\Users\\atefe\\Desktop\\tfo\\TFODCourse\\tfod\\lib\\site-packages\\torch\\autocast_mode.py:141: UserWarning: User provided device_type of 'cuda', but CUDA is not available. Disabling\n",
      "  warnings.warn('User provided device_type of \\'cuda\\', but CUDA is not available. Disabling')\n",
      "C:\\Users\\atefe\\Desktop\\tfo\\TFODCourse\\tfod\\lib\\site-packages\\torch\\autocast_mode.py:141: UserWarning: User provided device_type of 'cuda', but CUDA is not available. Disabling\n",
      "  warnings.warn('User provided device_type of \\'cuda\\', but CUDA is not available. Disabling')\n"
     ]
    },
    {
     "name": "stdout",
     "output_type": "stream",
     "text": [
      "11\n",
      "11\n"
     ]
    },
    {
     "name": "stderr",
     "output_type": "stream",
     "text": [
      "C:\\Users\\atefe\\Desktop\\tfo\\TFODCourse\\tfod\\lib\\site-packages\\torch\\autocast_mode.py:141: UserWarning: User provided device_type of 'cuda', but CUDA is not available. Disabling\n",
      "  warnings.warn('User provided device_type of \\'cuda\\', but CUDA is not available. Disabling')\n",
      "C:\\Users\\atefe\\Desktop\\tfo\\TFODCourse\\tfod\\lib\\site-packages\\torch\\autocast_mode.py:141: UserWarning: User provided device_type of 'cuda', but CUDA is not available. Disabling\n",
      "  warnings.warn('User provided device_type of \\'cuda\\', but CUDA is not available. Disabling')\n"
     ]
    },
    {
     "name": "stdout",
     "output_type": "stream",
     "text": [
      "12\n",
      "12\n"
     ]
    },
    {
     "name": "stderr",
     "output_type": "stream",
     "text": [
      "C:\\Users\\atefe\\Desktop\\tfo\\TFODCourse\\tfod\\lib\\site-packages\\torch\\autocast_mode.py:141: UserWarning: User provided device_type of 'cuda', but CUDA is not available. Disabling\n",
      "  warnings.warn('User provided device_type of \\'cuda\\', but CUDA is not available. Disabling')\n",
      "C:\\Users\\atefe\\Desktop\\tfo\\TFODCourse\\tfod\\lib\\site-packages\\torch\\autocast_mode.py:141: UserWarning: User provided device_type of 'cuda', but CUDA is not available. Disabling\n",
      "  warnings.warn('User provided device_type of \\'cuda\\', but CUDA is not available. Disabling')\n"
     ]
    },
    {
     "name": "stdout",
     "output_type": "stream",
     "text": [
      "13\n",
      "13\n"
     ]
    },
    {
     "name": "stderr",
     "output_type": "stream",
     "text": [
      "C:\\Users\\atefe\\Desktop\\tfo\\TFODCourse\\tfod\\lib\\site-packages\\torch\\autocast_mode.py:141: UserWarning: User provided device_type of 'cuda', but CUDA is not available. Disabling\n",
      "  warnings.warn('User provided device_type of \\'cuda\\', but CUDA is not available. Disabling')\n",
      "C:\\Users\\atefe\\Desktop\\tfo\\TFODCourse\\tfod\\lib\\site-packages\\torch\\autocast_mode.py:141: UserWarning: User provided device_type of 'cuda', but CUDA is not available. Disabling\n",
      "  warnings.warn('User provided device_type of \\'cuda\\', but CUDA is not available. Disabling')\n"
     ]
    },
    {
     "name": "stdout",
     "output_type": "stream",
     "text": [
      "14\n",
      "14\n"
     ]
    },
    {
     "name": "stderr",
     "output_type": "stream",
     "text": [
      "C:\\Users\\atefe\\Desktop\\tfo\\TFODCourse\\tfod\\lib\\site-packages\\torch\\autocast_mode.py:141: UserWarning: User provided device_type of 'cuda', but CUDA is not available. Disabling\n",
      "  warnings.warn('User provided device_type of \\'cuda\\', but CUDA is not available. Disabling')\n",
      "C:\\Users\\atefe\\Desktop\\tfo\\TFODCourse\\tfod\\lib\\site-packages\\torch\\autocast_mode.py:141: UserWarning: User provided device_type of 'cuda', but CUDA is not available. Disabling\n",
      "  warnings.warn('User provided device_type of \\'cuda\\', but CUDA is not available. Disabling')\n"
     ]
    },
    {
     "name": "stdout",
     "output_type": "stream",
     "text": [
      "15\n",
      "15\n"
     ]
    },
    {
     "name": "stderr",
     "output_type": "stream",
     "text": [
      "C:\\Users\\atefe\\Desktop\\tfo\\TFODCourse\\tfod\\lib\\site-packages\\torch\\autocast_mode.py:141: UserWarning: User provided device_type of 'cuda', but CUDA is not available. Disabling\n",
      "  warnings.warn('User provided device_type of \\'cuda\\', but CUDA is not available. Disabling')\n",
      "C:\\Users\\atefe\\Desktop\\tfo\\TFODCourse\\tfod\\lib\\site-packages\\torch\\autocast_mode.py:141: UserWarning: User provided device_type of 'cuda', but CUDA is not available. Disabling\n",
      "  warnings.warn('User provided device_type of \\'cuda\\', but CUDA is not available. Disabling')\n"
     ]
    },
    {
     "name": "stdout",
     "output_type": "stream",
     "text": [
      "16\n",
      "16\n"
     ]
    },
    {
     "name": "stderr",
     "output_type": "stream",
     "text": [
      "C:\\Users\\atefe\\Desktop\\tfo\\TFODCourse\\tfod\\lib\\site-packages\\torch\\autocast_mode.py:141: UserWarning: User provided device_type of 'cuda', but CUDA is not available. Disabling\n",
      "  warnings.warn('User provided device_type of \\'cuda\\', but CUDA is not available. Disabling')\n",
      "C:\\Users\\atefe\\Desktop\\tfo\\TFODCourse\\tfod\\lib\\site-packages\\torch\\autocast_mode.py:141: UserWarning: User provided device_type of 'cuda', but CUDA is not available. Disabling\n",
      "  warnings.warn('User provided device_type of \\'cuda\\', but CUDA is not available. Disabling')\n"
     ]
    },
    {
     "name": "stdout",
     "output_type": "stream",
     "text": [
      "17\n",
      "17\n"
     ]
    },
    {
     "name": "stderr",
     "output_type": "stream",
     "text": [
      "C:\\Users\\atefe\\Desktop\\tfo\\TFODCourse\\tfod\\lib\\site-packages\\torch\\autocast_mode.py:141: UserWarning: User provided device_type of 'cuda', but CUDA is not available. Disabling\n",
      "  warnings.warn('User provided device_type of \\'cuda\\', but CUDA is not available. Disabling')\n",
      "C:\\Users\\atefe\\Desktop\\tfo\\TFODCourse\\tfod\\lib\\site-packages\\torch\\autocast_mode.py:141: UserWarning: User provided device_type of 'cuda', but CUDA is not available. Disabling\n",
      "  warnings.warn('User provided device_type of \\'cuda\\', but CUDA is not available. Disabling')\n"
     ]
    },
    {
     "name": "stdout",
     "output_type": "stream",
     "text": [
      "18\n",
      "18\n"
     ]
    },
    {
     "name": "stderr",
     "output_type": "stream",
     "text": [
      "C:\\Users\\atefe\\Desktop\\tfo\\TFODCourse\\tfod\\lib\\site-packages\\torch\\autocast_mode.py:141: UserWarning: User provided device_type of 'cuda', but CUDA is not available. Disabling\n",
      "  warnings.warn('User provided device_type of \\'cuda\\', but CUDA is not available. Disabling')\n",
      "C:\\Users\\atefe\\Desktop\\tfo\\TFODCourse\\tfod\\lib\\site-packages\\torch\\autocast_mode.py:141: UserWarning: User provided device_type of 'cuda', but CUDA is not available. Disabling\n",
      "  warnings.warn('User provided device_type of \\'cuda\\', but CUDA is not available. Disabling')\n"
     ]
    },
    {
     "name": "stdout",
     "output_type": "stream",
     "text": [
      "19\n",
      "19\n"
     ]
    },
    {
     "name": "stderr",
     "output_type": "stream",
     "text": [
      "C:\\Users\\atefe\\Desktop\\tfo\\TFODCourse\\tfod\\lib\\site-packages\\torch\\autocast_mode.py:141: UserWarning: User provided device_type of 'cuda', but CUDA is not available. Disabling\n",
      "  warnings.warn('User provided device_type of \\'cuda\\', but CUDA is not available. Disabling')\n",
      "C:\\Users\\atefe\\Desktop\\tfo\\TFODCourse\\tfod\\lib\\site-packages\\torch\\autocast_mode.py:141: UserWarning: User provided device_type of 'cuda', but CUDA is not available. Disabling\n",
      "  warnings.warn('User provided device_type of \\'cuda\\', but CUDA is not available. Disabling')\n"
     ]
    },
    {
     "name": "stdout",
     "output_type": "stream",
     "text": [
      "20\n",
      "20\n"
     ]
    },
    {
     "name": "stderr",
     "output_type": "stream",
     "text": [
      "C:\\Users\\atefe\\Desktop\\tfo\\TFODCourse\\tfod\\lib\\site-packages\\torch\\autocast_mode.py:141: UserWarning: User provided device_type of 'cuda', but CUDA is not available. Disabling\n",
      "  warnings.warn('User provided device_type of \\'cuda\\', but CUDA is not available. Disabling')\n",
      "C:\\Users\\atefe\\Desktop\\tfo\\TFODCourse\\tfod\\lib\\site-packages\\torch\\autocast_mode.py:141: UserWarning: User provided device_type of 'cuda', but CUDA is not available. Disabling\n",
      "  warnings.warn('User provided device_type of \\'cuda\\', but CUDA is not available. Disabling')\n"
     ]
    },
    {
     "name": "stdout",
     "output_type": "stream",
     "text": [
      "21\n",
      "21\n"
     ]
    },
    {
     "name": "stderr",
     "output_type": "stream",
     "text": [
      "C:\\Users\\atefe\\Desktop\\tfo\\TFODCourse\\tfod\\lib\\site-packages\\torch\\autocast_mode.py:141: UserWarning: User provided device_type of 'cuda', but CUDA is not available. Disabling\n",
      "  warnings.warn('User provided device_type of \\'cuda\\', but CUDA is not available. Disabling')\n",
      "C:\\Users\\atefe\\Desktop\\tfo\\TFODCourse\\tfod\\lib\\site-packages\\torch\\autocast_mode.py:141: UserWarning: User provided device_type of 'cuda', but CUDA is not available. Disabling\n",
      "  warnings.warn('User provided device_type of \\'cuda\\', but CUDA is not available. Disabling')\n"
     ]
    },
    {
     "name": "stdout",
     "output_type": "stream",
     "text": [
      "22\n",
      "22\n"
     ]
    },
    {
     "name": "stderr",
     "output_type": "stream",
     "text": [
      "C:\\Users\\atefe\\Desktop\\tfo\\TFODCourse\\tfod\\lib\\site-packages\\torch\\autocast_mode.py:141: UserWarning: User provided device_type of 'cuda', but CUDA is not available. Disabling\n",
      "  warnings.warn('User provided device_type of \\'cuda\\', but CUDA is not available. Disabling')\n",
      "C:\\Users\\atefe\\Desktop\\tfo\\TFODCourse\\tfod\\lib\\site-packages\\torch\\autocast_mode.py:141: UserWarning: User provided device_type of 'cuda', but CUDA is not available. Disabling\n",
      "  warnings.warn('User provided device_type of \\'cuda\\', but CUDA is not available. Disabling')\n"
     ]
    },
    {
     "name": "stdout",
     "output_type": "stream",
     "text": [
      "23\n",
      "23\n"
     ]
    },
    {
     "name": "stderr",
     "output_type": "stream",
     "text": [
      "C:\\Users\\atefe\\Desktop\\tfo\\TFODCourse\\tfod\\lib\\site-packages\\torch\\autocast_mode.py:141: UserWarning: User provided device_type of 'cuda', but CUDA is not available. Disabling\n",
      "  warnings.warn('User provided device_type of \\'cuda\\', but CUDA is not available. Disabling')\n",
      "C:\\Users\\atefe\\Desktop\\tfo\\TFODCourse\\tfod\\lib\\site-packages\\torch\\autocast_mode.py:141: UserWarning: User provided device_type of 'cuda', but CUDA is not available. Disabling\n",
      "  warnings.warn('User provided device_type of \\'cuda\\', but CUDA is not available. Disabling')\n"
     ]
    },
    {
     "name": "stdout",
     "output_type": "stream",
     "text": [
      "24\n",
      "24\n"
     ]
    },
    {
     "name": "stderr",
     "output_type": "stream",
     "text": [
      "C:\\Users\\atefe\\Desktop\\tfo\\TFODCourse\\tfod\\lib\\site-packages\\torch\\autocast_mode.py:141: UserWarning: User provided device_type of 'cuda', but CUDA is not available. Disabling\n",
      "  warnings.warn('User provided device_type of \\'cuda\\', but CUDA is not available. Disabling')\n",
      "C:\\Users\\atefe\\Desktop\\tfo\\TFODCourse\\tfod\\lib\\site-packages\\torch\\autocast_mode.py:141: UserWarning: User provided device_type of 'cuda', but CUDA is not available. Disabling\n",
      "  warnings.warn('User provided device_type of \\'cuda\\', but CUDA is not available. Disabling')\n"
     ]
    },
    {
     "name": "stdout",
     "output_type": "stream",
     "text": [
      "25\n",
      "25\n"
     ]
    },
    {
     "name": "stderr",
     "output_type": "stream",
     "text": [
      "C:\\Users\\atefe\\Desktop\\tfo\\TFODCourse\\tfod\\lib\\site-packages\\torch\\autocast_mode.py:141: UserWarning: User provided device_type of 'cuda', but CUDA is not available. Disabling\n",
      "  warnings.warn('User provided device_type of \\'cuda\\', but CUDA is not available. Disabling')\n",
      "C:\\Users\\atefe\\Desktop\\tfo\\TFODCourse\\tfod\\lib\\site-packages\\torch\\autocast_mode.py:141: UserWarning: User provided device_type of 'cuda', but CUDA is not available. Disabling\n",
      "  warnings.warn('User provided device_type of \\'cuda\\', but CUDA is not available. Disabling')\n"
     ]
    },
    {
     "name": "stdout",
     "output_type": "stream",
     "text": [
      "26\n",
      "26\n"
     ]
    },
    {
     "name": "stderr",
     "output_type": "stream",
     "text": [
      "C:\\Users\\atefe\\Desktop\\tfo\\TFODCourse\\tfod\\lib\\site-packages\\torch\\autocast_mode.py:141: UserWarning: User provided device_type of 'cuda', but CUDA is not available. Disabling\n",
      "  warnings.warn('User provided device_type of \\'cuda\\', but CUDA is not available. Disabling')\n",
      "C:\\Users\\atefe\\Desktop\\tfo\\TFODCourse\\tfod\\lib\\site-packages\\torch\\autocast_mode.py:141: UserWarning: User provided device_type of 'cuda', but CUDA is not available. Disabling\n",
      "  warnings.warn('User provided device_type of \\'cuda\\', but CUDA is not available. Disabling')\n"
     ]
    },
    {
     "name": "stdout",
     "output_type": "stream",
     "text": [
      "27\n",
      "27\n"
     ]
    },
    {
     "name": "stderr",
     "output_type": "stream",
     "text": [
      "C:\\Users\\atefe\\Desktop\\tfo\\TFODCourse\\tfod\\lib\\site-packages\\torch\\autocast_mode.py:141: UserWarning: User provided device_type of 'cuda', but CUDA is not available. Disabling\n",
      "  warnings.warn('User provided device_type of \\'cuda\\', but CUDA is not available. Disabling')\n",
      "C:\\Users\\atefe\\Desktop\\tfo\\TFODCourse\\tfod\\lib\\site-packages\\torch\\autocast_mode.py:141: UserWarning: User provided device_type of 'cuda', but CUDA is not available. Disabling\n",
      "  warnings.warn('User provided device_type of \\'cuda\\', but CUDA is not available. Disabling')\n"
     ]
    },
    {
     "name": "stdout",
     "output_type": "stream",
     "text": [
      "28\n",
      "28\n"
     ]
    },
    {
     "name": "stderr",
     "output_type": "stream",
     "text": [
      "C:\\Users\\atefe\\Desktop\\tfo\\TFODCourse\\tfod\\lib\\site-packages\\torch\\autocast_mode.py:141: UserWarning: User provided device_type of 'cuda', but CUDA is not available. Disabling\n",
      "  warnings.warn('User provided device_type of \\'cuda\\', but CUDA is not available. Disabling')\n",
      "C:\\Users\\atefe\\Desktop\\tfo\\TFODCourse\\tfod\\lib\\site-packages\\torch\\autocast_mode.py:141: UserWarning: User provided device_type of 'cuda', but CUDA is not available. Disabling\n",
      "  warnings.warn('User provided device_type of \\'cuda\\', but CUDA is not available. Disabling')\n"
     ]
    },
    {
     "name": "stdout",
     "output_type": "stream",
     "text": [
      "29\n",
      "29\n"
     ]
    },
    {
     "name": "stderr",
     "output_type": "stream",
     "text": [
      "C:\\Users\\atefe\\Desktop\\tfo\\TFODCourse\\tfod\\lib\\site-packages\\torch\\autocast_mode.py:141: UserWarning: User provided device_type of 'cuda', but CUDA is not available. Disabling\n",
      "  warnings.warn('User provided device_type of \\'cuda\\', but CUDA is not available. Disabling')\n",
      "C:\\Users\\atefe\\Desktop\\tfo\\TFODCourse\\tfod\\lib\\site-packages\\torch\\autocast_mode.py:141: UserWarning: User provided device_type of 'cuda', but CUDA is not available. Disabling\n",
      "  warnings.warn('User provided device_type of \\'cuda\\', but CUDA is not available. Disabling')\n"
     ]
    },
    {
     "name": "stdout",
     "output_type": "stream",
     "text": [
      "30\n",
      "30\n"
     ]
    },
    {
     "name": "stderr",
     "output_type": "stream",
     "text": [
      "C:\\Users\\atefe\\Desktop\\tfo\\TFODCourse\\tfod\\lib\\site-packages\\torch\\autocast_mode.py:141: UserWarning: User provided device_type of 'cuda', but CUDA is not available. Disabling\n",
      "  warnings.warn('User provided device_type of \\'cuda\\', but CUDA is not available. Disabling')\n",
      "C:\\Users\\atefe\\Desktop\\tfo\\TFODCourse\\tfod\\lib\\site-packages\\torch\\autocast_mode.py:141: UserWarning: User provided device_type of 'cuda', but CUDA is not available. Disabling\n",
      "  warnings.warn('User provided device_type of \\'cuda\\', but CUDA is not available. Disabling')\n"
     ]
    },
    {
     "name": "stdout",
     "output_type": "stream",
     "text": [
      "31\n",
      "31\n"
     ]
    },
    {
     "name": "stderr",
     "output_type": "stream",
     "text": [
      "C:\\Users\\atefe\\Desktop\\tfo\\TFODCourse\\tfod\\lib\\site-packages\\torch\\autocast_mode.py:141: UserWarning: User provided device_type of 'cuda', but CUDA is not available. Disabling\n",
      "  warnings.warn('User provided device_type of \\'cuda\\', but CUDA is not available. Disabling')\n",
      "C:\\Users\\atefe\\Desktop\\tfo\\TFODCourse\\tfod\\lib\\site-packages\\torch\\autocast_mode.py:141: UserWarning: User provided device_type of 'cuda', but CUDA is not available. Disabling\n",
      "  warnings.warn('User provided device_type of \\'cuda\\', but CUDA is not available. Disabling')\n"
     ]
    },
    {
     "name": "stdout",
     "output_type": "stream",
     "text": [
      "32\n",
      "32\n"
     ]
    },
    {
     "name": "stderr",
     "output_type": "stream",
     "text": [
      "C:\\Users\\atefe\\Desktop\\tfo\\TFODCourse\\tfod\\lib\\site-packages\\torch\\autocast_mode.py:141: UserWarning: User provided device_type of 'cuda', but CUDA is not available. Disabling\n",
      "  warnings.warn('User provided device_type of \\'cuda\\', but CUDA is not available. Disabling')\n",
      "C:\\Users\\atefe\\Desktop\\tfo\\TFODCourse\\tfod\\lib\\site-packages\\torch\\autocast_mode.py:141: UserWarning: User provided device_type of 'cuda', but CUDA is not available. Disabling\n",
      "  warnings.warn('User provided device_type of \\'cuda\\', but CUDA is not available. Disabling')\n"
     ]
    },
    {
     "name": "stdout",
     "output_type": "stream",
     "text": [
      "33\n",
      "33\n"
     ]
    },
    {
     "name": "stderr",
     "output_type": "stream",
     "text": [
      "C:\\Users\\atefe\\Desktop\\tfo\\TFODCourse\\tfod\\lib\\site-packages\\torch\\autocast_mode.py:141: UserWarning: User provided device_type of 'cuda', but CUDA is not available. Disabling\n",
      "  warnings.warn('User provided device_type of \\'cuda\\', but CUDA is not available. Disabling')\n",
      "C:\\Users\\atefe\\Desktop\\tfo\\TFODCourse\\tfod\\lib\\site-packages\\torch\\autocast_mode.py:141: UserWarning: User provided device_type of 'cuda', but CUDA is not available. Disabling\n",
      "  warnings.warn('User provided device_type of \\'cuda\\', but CUDA is not available. Disabling')\n"
     ]
    },
    {
     "name": "stdout",
     "output_type": "stream",
     "text": [
      "34\n",
      "34\n"
     ]
    },
    {
     "name": "stderr",
     "output_type": "stream",
     "text": [
      "C:\\Users\\atefe\\Desktop\\tfo\\TFODCourse\\tfod\\lib\\site-packages\\torch\\autocast_mode.py:141: UserWarning: User provided device_type of 'cuda', but CUDA is not available. Disabling\n",
      "  warnings.warn('User provided device_type of \\'cuda\\', but CUDA is not available. Disabling')\n",
      "C:\\Users\\atefe\\Desktop\\tfo\\TFODCourse\\tfod\\lib\\site-packages\\torch\\autocast_mode.py:141: UserWarning: User provided device_type of 'cuda', but CUDA is not available. Disabling\n",
      "  warnings.warn('User provided device_type of \\'cuda\\', but CUDA is not available. Disabling')\n"
     ]
    },
    {
     "name": "stdout",
     "output_type": "stream",
     "text": [
      "35\n",
      "35\n"
     ]
    },
    {
     "name": "stderr",
     "output_type": "stream",
     "text": [
      "C:\\Users\\atefe\\Desktop\\tfo\\TFODCourse\\tfod\\lib\\site-packages\\torch\\autocast_mode.py:141: UserWarning: User provided device_type of 'cuda', but CUDA is not available. Disabling\n",
      "  warnings.warn('User provided device_type of \\'cuda\\', but CUDA is not available. Disabling')\n",
      "C:\\Users\\atefe\\Desktop\\tfo\\TFODCourse\\tfod\\lib\\site-packages\\torch\\autocast_mode.py:141: UserWarning: User provided device_type of 'cuda', but CUDA is not available. Disabling\n",
      "  warnings.warn('User provided device_type of \\'cuda\\', but CUDA is not available. Disabling')\n"
     ]
    },
    {
     "name": "stdout",
     "output_type": "stream",
     "text": [
      "36\n",
      "36\n"
     ]
    },
    {
     "name": "stderr",
     "output_type": "stream",
     "text": [
      "C:\\Users\\atefe\\Desktop\\tfo\\TFODCourse\\tfod\\lib\\site-packages\\torch\\autocast_mode.py:141: UserWarning: User provided device_type of 'cuda', but CUDA is not available. Disabling\n",
      "  warnings.warn('User provided device_type of \\'cuda\\', but CUDA is not available. Disabling')\n",
      "C:\\Users\\atefe\\Desktop\\tfo\\TFODCourse\\tfod\\lib\\site-packages\\torch\\autocast_mode.py:141: UserWarning: User provided device_type of 'cuda', but CUDA is not available. Disabling\n",
      "  warnings.warn('User provided device_type of \\'cuda\\', but CUDA is not available. Disabling')\n"
     ]
    },
    {
     "name": "stdout",
     "output_type": "stream",
     "text": [
      "37\n",
      "37\n"
     ]
    },
    {
     "name": "stderr",
     "output_type": "stream",
     "text": [
      "C:\\Users\\atefe\\Desktop\\tfo\\TFODCourse\\tfod\\lib\\site-packages\\torch\\autocast_mode.py:141: UserWarning: User provided device_type of 'cuda', but CUDA is not available. Disabling\n",
      "  warnings.warn('User provided device_type of \\'cuda\\', but CUDA is not available. Disabling')\n",
      "C:\\Users\\atefe\\Desktop\\tfo\\TFODCourse\\tfod\\lib\\site-packages\\torch\\autocast_mode.py:141: UserWarning: User provided device_type of 'cuda', but CUDA is not available. Disabling\n",
      "  warnings.warn('User provided device_type of \\'cuda\\', but CUDA is not available. Disabling')\n"
     ]
    },
    {
     "name": "stdout",
     "output_type": "stream",
     "text": [
      "38\n",
      "38\n"
     ]
    },
    {
     "name": "stderr",
     "output_type": "stream",
     "text": [
      "C:\\Users\\atefe\\Desktop\\tfo\\TFODCourse\\tfod\\lib\\site-packages\\torch\\autocast_mode.py:141: UserWarning: User provided device_type of 'cuda', but CUDA is not available. Disabling\n",
      "  warnings.warn('User provided device_type of \\'cuda\\', but CUDA is not available. Disabling')\n",
      "C:\\Users\\atefe\\Desktop\\tfo\\TFODCourse\\tfod\\lib\\site-packages\\torch\\autocast_mode.py:141: UserWarning: User provided device_type of 'cuda', but CUDA is not available. Disabling\n",
      "  warnings.warn('User provided device_type of \\'cuda\\', but CUDA is not available. Disabling')\n"
     ]
    },
    {
     "name": "stdout",
     "output_type": "stream",
     "text": [
      "39\n",
      "39\n"
     ]
    },
    {
     "name": "stderr",
     "output_type": "stream",
     "text": [
      "C:\\Users\\atefe\\Desktop\\tfo\\TFODCourse\\tfod\\lib\\site-packages\\torch\\autocast_mode.py:141: UserWarning: User provided device_type of 'cuda', but CUDA is not available. Disabling\n",
      "  warnings.warn('User provided device_type of \\'cuda\\', but CUDA is not available. Disabling')\n",
      "C:\\Users\\atefe\\Desktop\\tfo\\TFODCourse\\tfod\\lib\\site-packages\\torch\\autocast_mode.py:141: UserWarning: User provided device_type of 'cuda', but CUDA is not available. Disabling\n",
      "  warnings.warn('User provided device_type of \\'cuda\\', but CUDA is not available. Disabling')\n"
     ]
    },
    {
     "name": "stdout",
     "output_type": "stream",
     "text": [
      "40\n",
      "40\n"
     ]
    },
    {
     "name": "stderr",
     "output_type": "stream",
     "text": [
      "C:\\Users\\atefe\\Desktop\\tfo\\TFODCourse\\tfod\\lib\\site-packages\\torch\\autocast_mode.py:141: UserWarning: User provided device_type of 'cuda', but CUDA is not available. Disabling\n",
      "  warnings.warn('User provided device_type of \\'cuda\\', but CUDA is not available. Disabling')\n",
      "C:\\Users\\atefe\\Desktop\\tfo\\TFODCourse\\tfod\\lib\\site-packages\\torch\\autocast_mode.py:141: UserWarning: User provided device_type of 'cuda', but CUDA is not available. Disabling\n",
      "  warnings.warn('User provided device_type of \\'cuda\\', but CUDA is not available. Disabling')\n"
     ]
    },
    {
     "name": "stdout",
     "output_type": "stream",
     "text": [
      "41\n",
      "41\n"
     ]
    },
    {
     "name": "stderr",
     "output_type": "stream",
     "text": [
      "C:\\Users\\atefe\\Desktop\\tfo\\TFODCourse\\tfod\\lib\\site-packages\\torch\\autocast_mode.py:141: UserWarning: User provided device_type of 'cuda', but CUDA is not available. Disabling\n",
      "  warnings.warn('User provided device_type of \\'cuda\\', but CUDA is not available. Disabling')\n",
      "C:\\Users\\atefe\\Desktop\\tfo\\TFODCourse\\tfod\\lib\\site-packages\\torch\\autocast_mode.py:141: UserWarning: User provided device_type of 'cuda', but CUDA is not available. Disabling\n",
      "  warnings.warn('User provided device_type of \\'cuda\\', but CUDA is not available. Disabling')\n"
     ]
    },
    {
     "name": "stdout",
     "output_type": "stream",
     "text": [
      "42\n",
      "42\n"
     ]
    },
    {
     "name": "stderr",
     "output_type": "stream",
     "text": [
      "C:\\Users\\atefe\\Desktop\\tfo\\TFODCourse\\tfod\\lib\\site-packages\\torch\\autocast_mode.py:141: UserWarning: User provided device_type of 'cuda', but CUDA is not available. Disabling\n",
      "  warnings.warn('User provided device_type of \\'cuda\\', but CUDA is not available. Disabling')\n",
      "C:\\Users\\atefe\\Desktop\\tfo\\TFODCourse\\tfod\\lib\\site-packages\\torch\\autocast_mode.py:141: UserWarning: User provided device_type of 'cuda', but CUDA is not available. Disabling\n",
      "  warnings.warn('User provided device_type of \\'cuda\\', but CUDA is not available. Disabling')\n"
     ]
    },
    {
     "name": "stdout",
     "output_type": "stream",
     "text": [
      "43\n",
      "43\n"
     ]
    },
    {
     "name": "stderr",
     "output_type": "stream",
     "text": [
      "C:\\Users\\atefe\\Desktop\\tfo\\TFODCourse\\tfod\\lib\\site-packages\\torch\\autocast_mode.py:141: UserWarning: User provided device_type of 'cuda', but CUDA is not available. Disabling\n",
      "  warnings.warn('User provided device_type of \\'cuda\\', but CUDA is not available. Disabling')\n",
      "C:\\Users\\atefe\\Desktop\\tfo\\TFODCourse\\tfod\\lib\\site-packages\\torch\\autocast_mode.py:141: UserWarning: User provided device_type of 'cuda', but CUDA is not available. Disabling\n",
      "  warnings.warn('User provided device_type of \\'cuda\\', but CUDA is not available. Disabling')\n"
     ]
    },
    {
     "name": "stdout",
     "output_type": "stream",
     "text": [
      "44\n",
      "44\n"
     ]
    },
    {
     "name": "stderr",
     "output_type": "stream",
     "text": [
      "C:\\Users\\atefe\\Desktop\\tfo\\TFODCourse\\tfod\\lib\\site-packages\\torch\\autocast_mode.py:141: UserWarning: User provided device_type of 'cuda', but CUDA is not available. Disabling\n",
      "  warnings.warn('User provided device_type of \\'cuda\\', but CUDA is not available. Disabling')\n",
      "C:\\Users\\atefe\\Desktop\\tfo\\TFODCourse\\tfod\\lib\\site-packages\\torch\\autocast_mode.py:141: UserWarning: User provided device_type of 'cuda', but CUDA is not available. Disabling\n",
      "  warnings.warn('User provided device_type of \\'cuda\\', but CUDA is not available. Disabling')\n"
     ]
    },
    {
     "name": "stdout",
     "output_type": "stream",
     "text": [
      "45\n",
      "45\n"
     ]
    },
    {
     "name": "stderr",
     "output_type": "stream",
     "text": [
      "C:\\Users\\atefe\\Desktop\\tfo\\TFODCourse\\tfod\\lib\\site-packages\\torch\\autocast_mode.py:141: UserWarning: User provided device_type of 'cuda', but CUDA is not available. Disabling\n",
      "  warnings.warn('User provided device_type of \\'cuda\\', but CUDA is not available. Disabling')\n",
      "C:\\Users\\atefe\\Desktop\\tfo\\TFODCourse\\tfod\\lib\\site-packages\\torch\\autocast_mode.py:141: UserWarning: User provided device_type of 'cuda', but CUDA is not available. Disabling\n",
      "  warnings.warn('User provided device_type of \\'cuda\\', but CUDA is not available. Disabling')\n"
     ]
    },
    {
     "name": "stdout",
     "output_type": "stream",
     "text": [
      "46\n",
      "46\n"
     ]
    },
    {
     "name": "stderr",
     "output_type": "stream",
     "text": [
      "C:\\Users\\atefe\\Desktop\\tfo\\TFODCourse\\tfod\\lib\\site-packages\\torch\\autocast_mode.py:141: UserWarning: User provided device_type of 'cuda', but CUDA is not available. Disabling\n",
      "  warnings.warn('User provided device_type of \\'cuda\\', but CUDA is not available. Disabling')\n",
      "C:\\Users\\atefe\\Desktop\\tfo\\TFODCourse\\tfod\\lib\\site-packages\\torch\\autocast_mode.py:141: UserWarning: User provided device_type of 'cuda', but CUDA is not available. Disabling\n",
      "  warnings.warn('User provided device_type of \\'cuda\\', but CUDA is not available. Disabling')\n"
     ]
    },
    {
     "name": "stdout",
     "output_type": "stream",
     "text": [
      "47\n",
      "47\n"
     ]
    },
    {
     "name": "stderr",
     "output_type": "stream",
     "text": [
      "C:\\Users\\atefe\\Desktop\\tfo\\TFODCourse\\tfod\\lib\\site-packages\\torch\\autocast_mode.py:141: UserWarning: User provided device_type of 'cuda', but CUDA is not available. Disabling\n",
      "  warnings.warn('User provided device_type of \\'cuda\\', but CUDA is not available. Disabling')\n",
      "C:\\Users\\atefe\\Desktop\\tfo\\TFODCourse\\tfod\\lib\\site-packages\\torch\\autocast_mode.py:141: UserWarning: User provided device_type of 'cuda', but CUDA is not available. Disabling\n",
      "  warnings.warn('User provided device_type of \\'cuda\\', but CUDA is not available. Disabling')\n"
     ]
    },
    {
     "name": "stdout",
     "output_type": "stream",
     "text": [
      "48\n",
      "48\n"
     ]
    },
    {
     "name": "stderr",
     "output_type": "stream",
     "text": [
      "C:\\Users\\atefe\\Desktop\\tfo\\TFODCourse\\tfod\\lib\\site-packages\\torch\\autocast_mode.py:141: UserWarning: User provided device_type of 'cuda', but CUDA is not available. Disabling\n",
      "  warnings.warn('User provided device_type of \\'cuda\\', but CUDA is not available. Disabling')\n",
      "C:\\Users\\atefe\\Desktop\\tfo\\TFODCourse\\tfod\\lib\\site-packages\\torch\\autocast_mode.py:141: UserWarning: User provided device_type of 'cuda', but CUDA is not available. Disabling\n",
      "  warnings.warn('User provided device_type of \\'cuda\\', but CUDA is not available. Disabling')\n"
     ]
    },
    {
     "name": "stdout",
     "output_type": "stream",
     "text": [
      "49\n",
      "49\n"
     ]
    },
    {
     "name": "stderr",
     "output_type": "stream",
     "text": [
      "C:\\Users\\atefe\\Desktop\\tfo\\TFODCourse\\tfod\\lib\\site-packages\\torch\\autocast_mode.py:141: UserWarning: User provided device_type of 'cuda', but CUDA is not available. Disabling\n",
      "  warnings.warn('User provided device_type of \\'cuda\\', but CUDA is not available. Disabling')\n",
      "C:\\Users\\atefe\\Desktop\\tfo\\TFODCourse\\tfod\\lib\\site-packages\\torch\\autocast_mode.py:141: UserWarning: User provided device_type of 'cuda', but CUDA is not available. Disabling\n",
      "  warnings.warn('User provided device_type of \\'cuda\\', but CUDA is not available. Disabling')\n"
     ]
    },
    {
     "name": "stdout",
     "output_type": "stream",
     "text": [
      "50\n",
      "50\n"
     ]
    },
    {
     "name": "stderr",
     "output_type": "stream",
     "text": [
      "C:\\Users\\atefe\\Desktop\\tfo\\TFODCourse\\tfod\\lib\\site-packages\\torch\\autocast_mode.py:141: UserWarning: User provided device_type of 'cuda', but CUDA is not available. Disabling\n",
      "  warnings.warn('User provided device_type of \\'cuda\\', but CUDA is not available. Disabling')\n",
      "C:\\Users\\atefe\\Desktop\\tfo\\TFODCourse\\tfod\\lib\\site-packages\\torch\\autocast_mode.py:141: UserWarning: User provided device_type of 'cuda', but CUDA is not available. Disabling\n",
      "  warnings.warn('User provided device_type of \\'cuda\\', but CUDA is not available. Disabling')\n"
     ]
    },
    {
     "name": "stdout",
     "output_type": "stream",
     "text": [
      "51\n",
      "51\n"
     ]
    },
    {
     "name": "stderr",
     "output_type": "stream",
     "text": [
      "C:\\Users\\atefe\\Desktop\\tfo\\TFODCourse\\tfod\\lib\\site-packages\\torch\\autocast_mode.py:141: UserWarning: User provided device_type of 'cuda', but CUDA is not available. Disabling\n",
      "  warnings.warn('User provided device_type of \\'cuda\\', but CUDA is not available. Disabling')\n",
      "C:\\Users\\atefe\\Desktop\\tfo\\TFODCourse\\tfod\\lib\\site-packages\\torch\\autocast_mode.py:141: UserWarning: User provided device_type of 'cuda', but CUDA is not available. Disabling\n",
      "  warnings.warn('User provided device_type of \\'cuda\\', but CUDA is not available. Disabling')\n"
     ]
    },
    {
     "name": "stdout",
     "output_type": "stream",
     "text": [
      "52\n",
      "52\n"
     ]
    },
    {
     "name": "stderr",
     "output_type": "stream",
     "text": [
      "C:\\Users\\atefe\\Desktop\\tfo\\TFODCourse\\tfod\\lib\\site-packages\\torch\\autocast_mode.py:141: UserWarning: User provided device_type of 'cuda', but CUDA is not available. Disabling\n",
      "  warnings.warn('User provided device_type of \\'cuda\\', but CUDA is not available. Disabling')\n",
      "C:\\Users\\atefe\\Desktop\\tfo\\TFODCourse\\tfod\\lib\\site-packages\\torch\\autocast_mode.py:141: UserWarning: User provided device_type of 'cuda', but CUDA is not available. Disabling\n",
      "  warnings.warn('User provided device_type of \\'cuda\\', but CUDA is not available. Disabling')\n"
     ]
    },
    {
     "name": "stdout",
     "output_type": "stream",
     "text": [
      "53\n",
      "53\n"
     ]
    },
    {
     "name": "stderr",
     "output_type": "stream",
     "text": [
      "C:\\Users\\atefe\\Desktop\\tfo\\TFODCourse\\tfod\\lib\\site-packages\\torch\\autocast_mode.py:141: UserWarning: User provided device_type of 'cuda', but CUDA is not available. Disabling\n",
      "  warnings.warn('User provided device_type of \\'cuda\\', but CUDA is not available. Disabling')\n",
      "C:\\Users\\atefe\\Desktop\\tfo\\TFODCourse\\tfod\\lib\\site-packages\\torch\\autocast_mode.py:141: UserWarning: User provided device_type of 'cuda', but CUDA is not available. Disabling\n",
      "  warnings.warn('User provided device_type of \\'cuda\\', but CUDA is not available. Disabling')\n"
     ]
    },
    {
     "name": "stdout",
     "output_type": "stream",
     "text": [
      "54\n",
      "54\n"
     ]
    },
    {
     "name": "stderr",
     "output_type": "stream",
     "text": [
      "C:\\Users\\atefe\\Desktop\\tfo\\TFODCourse\\tfod\\lib\\site-packages\\torch\\autocast_mode.py:141: UserWarning: User provided device_type of 'cuda', but CUDA is not available. Disabling\n",
      "  warnings.warn('User provided device_type of \\'cuda\\', but CUDA is not available. Disabling')\n",
      "C:\\Users\\atefe\\Desktop\\tfo\\TFODCourse\\tfod\\lib\\site-packages\\torch\\autocast_mode.py:141: UserWarning: User provided device_type of 'cuda', but CUDA is not available. Disabling\n",
      "  warnings.warn('User provided device_type of \\'cuda\\', but CUDA is not available. Disabling')\n"
     ]
    },
    {
     "name": "stdout",
     "output_type": "stream",
     "text": [
      "55\n",
      "55\n"
     ]
    },
    {
     "name": "stderr",
     "output_type": "stream",
     "text": [
      "C:\\Users\\atefe\\Desktop\\tfo\\TFODCourse\\tfod\\lib\\site-packages\\torch\\autocast_mode.py:141: UserWarning: User provided device_type of 'cuda', but CUDA is not available. Disabling\n",
      "  warnings.warn('User provided device_type of \\'cuda\\', but CUDA is not available. Disabling')\n",
      "C:\\Users\\atefe\\Desktop\\tfo\\TFODCourse\\tfod\\lib\\site-packages\\torch\\autocast_mode.py:141: UserWarning: User provided device_type of 'cuda', but CUDA is not available. Disabling\n",
      "  warnings.warn('User provided device_type of \\'cuda\\', but CUDA is not available. Disabling')\n"
     ]
    },
    {
     "name": "stdout",
     "output_type": "stream",
     "text": [
      "56\n",
      "56\n"
     ]
    },
    {
     "name": "stderr",
     "output_type": "stream",
     "text": [
      "C:\\Users\\atefe\\Desktop\\tfo\\TFODCourse\\tfod\\lib\\site-packages\\torch\\autocast_mode.py:141: UserWarning: User provided device_type of 'cuda', but CUDA is not available. Disabling\n",
      "  warnings.warn('User provided device_type of \\'cuda\\', but CUDA is not available. Disabling')\n",
      "C:\\Users\\atefe\\Desktop\\tfo\\TFODCourse\\tfod\\lib\\site-packages\\torch\\autocast_mode.py:141: UserWarning: User provided device_type of 'cuda', but CUDA is not available. Disabling\n",
      "  warnings.warn('User provided device_type of \\'cuda\\', but CUDA is not available. Disabling')\n"
     ]
    },
    {
     "name": "stdout",
     "output_type": "stream",
     "text": [
      "57\n",
      "57\n"
     ]
    },
    {
     "name": "stderr",
     "output_type": "stream",
     "text": [
      "C:\\Users\\atefe\\Desktop\\tfo\\TFODCourse\\tfod\\lib\\site-packages\\torch\\autocast_mode.py:141: UserWarning: User provided device_type of 'cuda', but CUDA is not available. Disabling\n",
      "  warnings.warn('User provided device_type of \\'cuda\\', but CUDA is not available. Disabling')\n",
      "C:\\Users\\atefe\\Desktop\\tfo\\TFODCourse\\tfod\\lib\\site-packages\\torch\\autocast_mode.py:141: UserWarning: User provided device_type of 'cuda', but CUDA is not available. Disabling\n",
      "  warnings.warn('User provided device_type of \\'cuda\\', but CUDA is not available. Disabling')\n"
     ]
    },
    {
     "name": "stdout",
     "output_type": "stream",
     "text": [
      "58\n",
      "58\n"
     ]
    },
    {
     "name": "stderr",
     "output_type": "stream",
     "text": [
      "C:\\Users\\atefe\\Desktop\\tfo\\TFODCourse\\tfod\\lib\\site-packages\\torch\\autocast_mode.py:141: UserWarning: User provided device_type of 'cuda', but CUDA is not available. Disabling\n",
      "  warnings.warn('User provided device_type of \\'cuda\\', but CUDA is not available. Disabling')\n",
      "C:\\Users\\atefe\\Desktop\\tfo\\TFODCourse\\tfod\\lib\\site-packages\\torch\\autocast_mode.py:141: UserWarning: User provided device_type of 'cuda', but CUDA is not available. Disabling\n",
      "  warnings.warn('User provided device_type of \\'cuda\\', but CUDA is not available. Disabling')\n"
     ]
    },
    {
     "name": "stdout",
     "output_type": "stream",
     "text": [
      "59\n",
      "59\n"
     ]
    },
    {
     "name": "stderr",
     "output_type": "stream",
     "text": [
      "C:\\Users\\atefe\\Desktop\\tfo\\TFODCourse\\tfod\\lib\\site-packages\\torch\\autocast_mode.py:141: UserWarning: User provided device_type of 'cuda', but CUDA is not available. Disabling\n",
      "  warnings.warn('User provided device_type of \\'cuda\\', but CUDA is not available. Disabling')\n",
      "C:\\Users\\atefe\\Desktop\\tfo\\TFODCourse\\tfod\\lib\\site-packages\\torch\\autocast_mode.py:141: UserWarning: User provided device_type of 'cuda', but CUDA is not available. Disabling\n",
      "  warnings.warn('User provided device_type of \\'cuda\\', but CUDA is not available. Disabling')\n"
     ]
    },
    {
     "name": "stdout",
     "output_type": "stream",
     "text": [
      "60\n",
      "60\n"
     ]
    },
    {
     "name": "stderr",
     "output_type": "stream",
     "text": [
      "C:\\Users\\atefe\\Desktop\\tfo\\TFODCourse\\tfod\\lib\\site-packages\\torch\\autocast_mode.py:141: UserWarning: User provided device_type of 'cuda', but CUDA is not available. Disabling\n",
      "  warnings.warn('User provided device_type of \\'cuda\\', but CUDA is not available. Disabling')\n",
      "C:\\Users\\atefe\\Desktop\\tfo\\TFODCourse\\tfod\\lib\\site-packages\\torch\\autocast_mode.py:141: UserWarning: User provided device_type of 'cuda', but CUDA is not available. Disabling\n",
      "  warnings.warn('User provided device_type of \\'cuda\\', but CUDA is not available. Disabling')\n"
     ]
    },
    {
     "name": "stdout",
     "output_type": "stream",
     "text": [
      "61\n",
      "61\n"
     ]
    },
    {
     "name": "stderr",
     "output_type": "stream",
     "text": [
      "C:\\Users\\atefe\\Desktop\\tfo\\TFODCourse\\tfod\\lib\\site-packages\\torch\\autocast_mode.py:141: UserWarning: User provided device_type of 'cuda', but CUDA is not available. Disabling\n",
      "  warnings.warn('User provided device_type of \\'cuda\\', but CUDA is not available. Disabling')\n",
      "C:\\Users\\atefe\\Desktop\\tfo\\TFODCourse\\tfod\\lib\\site-packages\\torch\\autocast_mode.py:141: UserWarning: User provided device_type of 'cuda', but CUDA is not available. Disabling\n",
      "  warnings.warn('User provided device_type of \\'cuda\\', but CUDA is not available. Disabling')\n"
     ]
    },
    {
     "name": "stdout",
     "output_type": "stream",
     "text": [
      "62\n",
      "62\n"
     ]
    },
    {
     "name": "stderr",
     "output_type": "stream",
     "text": [
      "C:\\Users\\atefe\\Desktop\\tfo\\TFODCourse\\tfod\\lib\\site-packages\\torch\\autocast_mode.py:141: UserWarning: User provided device_type of 'cuda', but CUDA is not available. Disabling\n",
      "  warnings.warn('User provided device_type of \\'cuda\\', but CUDA is not available. Disabling')\n",
      "C:\\Users\\atefe\\Desktop\\tfo\\TFODCourse\\tfod\\lib\\site-packages\\torch\\autocast_mode.py:141: UserWarning: User provided device_type of 'cuda', but CUDA is not available. Disabling\n",
      "  warnings.warn('User provided device_type of \\'cuda\\', but CUDA is not available. Disabling')\n"
     ]
    },
    {
     "name": "stdout",
     "output_type": "stream",
     "text": [
      "63\n",
      "63\n"
     ]
    },
    {
     "name": "stderr",
     "output_type": "stream",
     "text": [
      "C:\\Users\\atefe\\Desktop\\tfo\\TFODCourse\\tfod\\lib\\site-packages\\torch\\autocast_mode.py:141: UserWarning: User provided device_type of 'cuda', but CUDA is not available. Disabling\n",
      "  warnings.warn('User provided device_type of \\'cuda\\', but CUDA is not available. Disabling')\n",
      "C:\\Users\\atefe\\Desktop\\tfo\\TFODCourse\\tfod\\lib\\site-packages\\torch\\autocast_mode.py:141: UserWarning: User provided device_type of 'cuda', but CUDA is not available. Disabling\n",
      "  warnings.warn('User provided device_type of \\'cuda\\', but CUDA is not available. Disabling')\n"
     ]
    },
    {
     "name": "stdout",
     "output_type": "stream",
     "text": [
      "64\n",
      "64\n"
     ]
    },
    {
     "name": "stderr",
     "output_type": "stream",
     "text": [
      "C:\\Users\\atefe\\Desktop\\tfo\\TFODCourse\\tfod\\lib\\site-packages\\torch\\autocast_mode.py:141: UserWarning: User provided device_type of 'cuda', but CUDA is not available. Disabling\n",
      "  warnings.warn('User provided device_type of \\'cuda\\', but CUDA is not available. Disabling')\n",
      "C:\\Users\\atefe\\Desktop\\tfo\\TFODCourse\\tfod\\lib\\site-packages\\torch\\autocast_mode.py:141: UserWarning: User provided device_type of 'cuda', but CUDA is not available. Disabling\n",
      "  warnings.warn('User provided device_type of \\'cuda\\', but CUDA is not available. Disabling')\n"
     ]
    },
    {
     "name": "stdout",
     "output_type": "stream",
     "text": [
      "65\n",
      "65\n"
     ]
    },
    {
     "name": "stderr",
     "output_type": "stream",
     "text": [
      "C:\\Users\\atefe\\Desktop\\tfo\\TFODCourse\\tfod\\lib\\site-packages\\torch\\autocast_mode.py:141: UserWarning: User provided device_type of 'cuda', but CUDA is not available. Disabling\n",
      "  warnings.warn('User provided device_type of \\'cuda\\', but CUDA is not available. Disabling')\n",
      "C:\\Users\\atefe\\Desktop\\tfo\\TFODCourse\\tfod\\lib\\site-packages\\torch\\autocast_mode.py:141: UserWarning: User provided device_type of 'cuda', but CUDA is not available. Disabling\n",
      "  warnings.warn('User provided device_type of \\'cuda\\', but CUDA is not available. Disabling')\n"
     ]
    },
    {
     "name": "stdout",
     "output_type": "stream",
     "text": [
      "66\n",
      "66\n"
     ]
    },
    {
     "name": "stderr",
     "output_type": "stream",
     "text": [
      "C:\\Users\\atefe\\Desktop\\tfo\\TFODCourse\\tfod\\lib\\site-packages\\torch\\autocast_mode.py:141: UserWarning: User provided device_type of 'cuda', but CUDA is not available. Disabling\n",
      "  warnings.warn('User provided device_type of \\'cuda\\', but CUDA is not available. Disabling')\n",
      "C:\\Users\\atefe\\Desktop\\tfo\\TFODCourse\\tfod\\lib\\site-packages\\torch\\autocast_mode.py:141: UserWarning: User provided device_type of 'cuda', but CUDA is not available. Disabling\n",
      "  warnings.warn('User provided device_type of \\'cuda\\', but CUDA is not available. Disabling')\n"
     ]
    },
    {
     "name": "stdout",
     "output_type": "stream",
     "text": [
      "67\n",
      "67\n"
     ]
    },
    {
     "name": "stderr",
     "output_type": "stream",
     "text": [
      "C:\\Users\\atefe\\Desktop\\tfo\\TFODCourse\\tfod\\lib\\site-packages\\torch\\autocast_mode.py:141: UserWarning: User provided device_type of 'cuda', but CUDA is not available. Disabling\n",
      "  warnings.warn('User provided device_type of \\'cuda\\', but CUDA is not available. Disabling')\n",
      "C:\\Users\\atefe\\Desktop\\tfo\\TFODCourse\\tfod\\lib\\site-packages\\torch\\autocast_mode.py:141: UserWarning: User provided device_type of 'cuda', but CUDA is not available. Disabling\n",
      "  warnings.warn('User provided device_type of \\'cuda\\', but CUDA is not available. Disabling')\n"
     ]
    },
    {
     "name": "stdout",
     "output_type": "stream",
     "text": [
      "68\n",
      "68\n"
     ]
    },
    {
     "name": "stderr",
     "output_type": "stream",
     "text": [
      "C:\\Users\\atefe\\Desktop\\tfo\\TFODCourse\\tfod\\lib\\site-packages\\torch\\autocast_mode.py:141: UserWarning: User provided device_type of 'cuda', but CUDA is not available. Disabling\n",
      "  warnings.warn('User provided device_type of \\'cuda\\', but CUDA is not available. Disabling')\n",
      "C:\\Users\\atefe\\Desktop\\tfo\\TFODCourse\\tfod\\lib\\site-packages\\torch\\autocast_mode.py:141: UserWarning: User provided device_type of 'cuda', but CUDA is not available. Disabling\n",
      "  warnings.warn('User provided device_type of \\'cuda\\', but CUDA is not available. Disabling')\n"
     ]
    },
    {
     "name": "stdout",
     "output_type": "stream",
     "text": [
      "69\n",
      "69\n"
     ]
    },
    {
     "name": "stderr",
     "output_type": "stream",
     "text": [
      "C:\\Users\\atefe\\Desktop\\tfo\\TFODCourse\\tfod\\lib\\site-packages\\torch\\autocast_mode.py:141: UserWarning: User provided device_type of 'cuda', but CUDA is not available. Disabling\n",
      "  warnings.warn('User provided device_type of \\'cuda\\', but CUDA is not available. Disabling')\n",
      "C:\\Users\\atefe\\Desktop\\tfo\\TFODCourse\\tfod\\lib\\site-packages\\torch\\autocast_mode.py:141: UserWarning: User provided device_type of 'cuda', but CUDA is not available. Disabling\n",
      "  warnings.warn('User provided device_type of \\'cuda\\', but CUDA is not available. Disabling')\n"
     ]
    },
    {
     "name": "stdout",
     "output_type": "stream",
     "text": [
      "70\n",
      "70\n"
     ]
    },
    {
     "name": "stderr",
     "output_type": "stream",
     "text": [
      "C:\\Users\\atefe\\Desktop\\tfo\\TFODCourse\\tfod\\lib\\site-packages\\torch\\autocast_mode.py:141: UserWarning: User provided device_type of 'cuda', but CUDA is not available. Disabling\n",
      "  warnings.warn('User provided device_type of \\'cuda\\', but CUDA is not available. Disabling')\n",
      "C:\\Users\\atefe\\Desktop\\tfo\\TFODCourse\\tfod\\lib\\site-packages\\torch\\autocast_mode.py:141: UserWarning: User provided device_type of 'cuda', but CUDA is not available. Disabling\n",
      "  warnings.warn('User provided device_type of \\'cuda\\', but CUDA is not available. Disabling')\n"
     ]
    },
    {
     "name": "stdout",
     "output_type": "stream",
     "text": [
      "71\n",
      "71\n"
     ]
    },
    {
     "name": "stderr",
     "output_type": "stream",
     "text": [
      "C:\\Users\\atefe\\Desktop\\tfo\\TFODCourse\\tfod\\lib\\site-packages\\torch\\autocast_mode.py:141: UserWarning: User provided device_type of 'cuda', but CUDA is not available. Disabling\n",
      "  warnings.warn('User provided device_type of \\'cuda\\', but CUDA is not available. Disabling')\n",
      "C:\\Users\\atefe\\Desktop\\tfo\\TFODCourse\\tfod\\lib\\site-packages\\torch\\autocast_mode.py:141: UserWarning: User provided device_type of 'cuda', but CUDA is not available. Disabling\n",
      "  warnings.warn('User provided device_type of \\'cuda\\', but CUDA is not available. Disabling')\n"
     ]
    },
    {
     "name": "stdout",
     "output_type": "stream",
     "text": [
      "72\n",
      "72\n"
     ]
    },
    {
     "name": "stderr",
     "output_type": "stream",
     "text": [
      "C:\\Users\\atefe\\Desktop\\tfo\\TFODCourse\\tfod\\lib\\site-packages\\torch\\autocast_mode.py:141: UserWarning: User provided device_type of 'cuda', but CUDA is not available. Disabling\n",
      "  warnings.warn('User provided device_type of \\'cuda\\', but CUDA is not available. Disabling')\n",
      "C:\\Users\\atefe\\Desktop\\tfo\\TFODCourse\\tfod\\lib\\site-packages\\torch\\autocast_mode.py:141: UserWarning: User provided device_type of 'cuda', but CUDA is not available. Disabling\n",
      "  warnings.warn('User provided device_type of \\'cuda\\', but CUDA is not available. Disabling')\n"
     ]
    },
    {
     "name": "stdout",
     "output_type": "stream",
     "text": [
      "73\n",
      "73\n"
     ]
    },
    {
     "name": "stderr",
     "output_type": "stream",
     "text": [
      "C:\\Users\\atefe\\Desktop\\tfo\\TFODCourse\\tfod\\lib\\site-packages\\torch\\autocast_mode.py:141: UserWarning: User provided device_type of 'cuda', but CUDA is not available. Disabling\n",
      "  warnings.warn('User provided device_type of \\'cuda\\', but CUDA is not available. Disabling')\n",
      "C:\\Users\\atefe\\Desktop\\tfo\\TFODCourse\\tfod\\lib\\site-packages\\torch\\autocast_mode.py:141: UserWarning: User provided device_type of 'cuda', but CUDA is not available. Disabling\n",
      "  warnings.warn('User provided device_type of \\'cuda\\', but CUDA is not available. Disabling')\n"
     ]
    },
    {
     "name": "stdout",
     "output_type": "stream",
     "text": [
      "74\n",
      "74\n"
     ]
    },
    {
     "name": "stderr",
     "output_type": "stream",
     "text": [
      "C:\\Users\\atefe\\Desktop\\tfo\\TFODCourse\\tfod\\lib\\site-packages\\torch\\autocast_mode.py:141: UserWarning: User provided device_type of 'cuda', but CUDA is not available. Disabling\n",
      "  warnings.warn('User provided device_type of \\'cuda\\', but CUDA is not available. Disabling')\n",
      "C:\\Users\\atefe\\Desktop\\tfo\\TFODCourse\\tfod\\lib\\site-packages\\torch\\autocast_mode.py:141: UserWarning: User provided device_type of 'cuda', but CUDA is not available. Disabling\n",
      "  warnings.warn('User provided device_type of \\'cuda\\', but CUDA is not available. Disabling')\n"
     ]
    },
    {
     "name": "stdout",
     "output_type": "stream",
     "text": [
      "75\n",
      "75\n"
     ]
    },
    {
     "name": "stderr",
     "output_type": "stream",
     "text": [
      "C:\\Users\\atefe\\Desktop\\tfo\\TFODCourse\\tfod\\lib\\site-packages\\torch\\autocast_mode.py:141: UserWarning: User provided device_type of 'cuda', but CUDA is not available. Disabling\n",
      "  warnings.warn('User provided device_type of \\'cuda\\', but CUDA is not available. Disabling')\n",
      "C:\\Users\\atefe\\Desktop\\tfo\\TFODCourse\\tfod\\lib\\site-packages\\torch\\autocast_mode.py:141: UserWarning: User provided device_type of 'cuda', but CUDA is not available. Disabling\n",
      "  warnings.warn('User provided device_type of \\'cuda\\', but CUDA is not available. Disabling')\n"
     ]
    },
    {
     "name": "stdout",
     "output_type": "stream",
     "text": [
      "76\n",
      "76\n"
     ]
    },
    {
     "name": "stderr",
     "output_type": "stream",
     "text": [
      "C:\\Users\\atefe\\Desktop\\tfo\\TFODCourse\\tfod\\lib\\site-packages\\torch\\autocast_mode.py:141: UserWarning: User provided device_type of 'cuda', but CUDA is not available. Disabling\n",
      "  warnings.warn('User provided device_type of \\'cuda\\', but CUDA is not available. Disabling')\n",
      "C:\\Users\\atefe\\Desktop\\tfo\\TFODCourse\\tfod\\lib\\site-packages\\torch\\autocast_mode.py:141: UserWarning: User provided device_type of 'cuda', but CUDA is not available. Disabling\n",
      "  warnings.warn('User provided device_type of \\'cuda\\', but CUDA is not available. Disabling')\n"
     ]
    },
    {
     "name": "stdout",
     "output_type": "stream",
     "text": [
      "77\n",
      "77\n"
     ]
    },
    {
     "name": "stderr",
     "output_type": "stream",
     "text": [
      "C:\\Users\\atefe\\Desktop\\tfo\\TFODCourse\\tfod\\lib\\site-packages\\torch\\autocast_mode.py:141: UserWarning: User provided device_type of 'cuda', but CUDA is not available. Disabling\n",
      "  warnings.warn('User provided device_type of \\'cuda\\', but CUDA is not available. Disabling')\n",
      "C:\\Users\\atefe\\Desktop\\tfo\\TFODCourse\\tfod\\lib\\site-packages\\torch\\autocast_mode.py:141: UserWarning: User provided device_type of 'cuda', but CUDA is not available. Disabling\n",
      "  warnings.warn('User provided device_type of \\'cuda\\', but CUDA is not available. Disabling')\n"
     ]
    },
    {
     "name": "stdout",
     "output_type": "stream",
     "text": [
      "78\n",
      "78\n"
     ]
    },
    {
     "name": "stderr",
     "output_type": "stream",
     "text": [
      "C:\\Users\\atefe\\Desktop\\tfo\\TFODCourse\\tfod\\lib\\site-packages\\torch\\autocast_mode.py:141: UserWarning: User provided device_type of 'cuda', but CUDA is not available. Disabling\n",
      "  warnings.warn('User provided device_type of \\'cuda\\', but CUDA is not available. Disabling')\n",
      "C:\\Users\\atefe\\Desktop\\tfo\\TFODCourse\\tfod\\lib\\site-packages\\torch\\autocast_mode.py:141: UserWarning: User provided device_type of 'cuda', but CUDA is not available. Disabling\n",
      "  warnings.warn('User provided device_type of \\'cuda\\', but CUDA is not available. Disabling')\n"
     ]
    },
    {
     "name": "stdout",
     "output_type": "stream",
     "text": [
      "79\n",
      "79\n"
     ]
    },
    {
     "name": "stderr",
     "output_type": "stream",
     "text": [
      "C:\\Users\\atefe\\Desktop\\tfo\\TFODCourse\\tfod\\lib\\site-packages\\torch\\autocast_mode.py:141: UserWarning: User provided device_type of 'cuda', but CUDA is not available. Disabling\n",
      "  warnings.warn('User provided device_type of \\'cuda\\', but CUDA is not available. Disabling')\n",
      "C:\\Users\\atefe\\Desktop\\tfo\\TFODCourse\\tfod\\lib\\site-packages\\torch\\autocast_mode.py:141: UserWarning: User provided device_type of 'cuda', but CUDA is not available. Disabling\n",
      "  warnings.warn('User provided device_type of \\'cuda\\', but CUDA is not available. Disabling')\n"
     ]
    },
    {
     "name": "stdout",
     "output_type": "stream",
     "text": [
      "80\n",
      "80\n"
     ]
    },
    {
     "name": "stderr",
     "output_type": "stream",
     "text": [
      "C:\\Users\\atefe\\Desktop\\tfo\\TFODCourse\\tfod\\lib\\site-packages\\torch\\autocast_mode.py:141: UserWarning: User provided device_type of 'cuda', but CUDA is not available. Disabling\n",
      "  warnings.warn('User provided device_type of \\'cuda\\', but CUDA is not available. Disabling')\n",
      "C:\\Users\\atefe\\Desktop\\tfo\\TFODCourse\\tfod\\lib\\site-packages\\torch\\autocast_mode.py:141: UserWarning: User provided device_type of 'cuda', but CUDA is not available. Disabling\n",
      "  warnings.warn('User provided device_type of \\'cuda\\', but CUDA is not available. Disabling')\n"
     ]
    },
    {
     "name": "stdout",
     "output_type": "stream",
     "text": [
      "81\n",
      "81\n"
     ]
    },
    {
     "name": "stderr",
     "output_type": "stream",
     "text": [
      "C:\\Users\\atefe\\Desktop\\tfo\\TFODCourse\\tfod\\lib\\site-packages\\torch\\autocast_mode.py:141: UserWarning: User provided device_type of 'cuda', but CUDA is not available. Disabling\n",
      "  warnings.warn('User provided device_type of \\'cuda\\', but CUDA is not available. Disabling')\n",
      "C:\\Users\\atefe\\Desktop\\tfo\\TFODCourse\\tfod\\lib\\site-packages\\torch\\autocast_mode.py:141: UserWarning: User provided device_type of 'cuda', but CUDA is not available. Disabling\n",
      "  warnings.warn('User provided device_type of \\'cuda\\', but CUDA is not available. Disabling')\n"
     ]
    },
    {
     "name": "stdout",
     "output_type": "stream",
     "text": [
      "82\n",
      "82\n"
     ]
    },
    {
     "name": "stderr",
     "output_type": "stream",
     "text": [
      "C:\\Users\\atefe\\Desktop\\tfo\\TFODCourse\\tfod\\lib\\site-packages\\torch\\autocast_mode.py:141: UserWarning: User provided device_type of 'cuda', but CUDA is not available. Disabling\n",
      "  warnings.warn('User provided device_type of \\'cuda\\', but CUDA is not available. Disabling')\n",
      "C:\\Users\\atefe\\Desktop\\tfo\\TFODCourse\\tfod\\lib\\site-packages\\torch\\autocast_mode.py:141: UserWarning: User provided device_type of 'cuda', but CUDA is not available. Disabling\n",
      "  warnings.warn('User provided device_type of \\'cuda\\', but CUDA is not available. Disabling')\n"
     ]
    },
    {
     "name": "stdout",
     "output_type": "stream",
     "text": [
      "83\n",
      "83\n"
     ]
    },
    {
     "name": "stderr",
     "output_type": "stream",
     "text": [
      "C:\\Users\\atefe\\Desktop\\tfo\\TFODCourse\\tfod\\lib\\site-packages\\torch\\autocast_mode.py:141: UserWarning: User provided device_type of 'cuda', but CUDA is not available. Disabling\n",
      "  warnings.warn('User provided device_type of \\'cuda\\', but CUDA is not available. Disabling')\n",
      "C:\\Users\\atefe\\Desktop\\tfo\\TFODCourse\\tfod\\lib\\site-packages\\torch\\autocast_mode.py:141: UserWarning: User provided device_type of 'cuda', but CUDA is not available. Disabling\n",
      "  warnings.warn('User provided device_type of \\'cuda\\', but CUDA is not available. Disabling')\n"
     ]
    },
    {
     "name": "stdout",
     "output_type": "stream",
     "text": [
      "84\n",
      "84\n"
     ]
    },
    {
     "name": "stderr",
     "output_type": "stream",
     "text": [
      "C:\\Users\\atefe\\Desktop\\tfo\\TFODCourse\\tfod\\lib\\site-packages\\torch\\autocast_mode.py:141: UserWarning: User provided device_type of 'cuda', but CUDA is not available. Disabling\n",
      "  warnings.warn('User provided device_type of \\'cuda\\', but CUDA is not available. Disabling')\n",
      "C:\\Users\\atefe\\Desktop\\tfo\\TFODCourse\\tfod\\lib\\site-packages\\torch\\autocast_mode.py:141: UserWarning: User provided device_type of 'cuda', but CUDA is not available. Disabling\n",
      "  warnings.warn('User provided device_type of \\'cuda\\', but CUDA is not available. Disabling')\n"
     ]
    },
    {
     "name": "stdout",
     "output_type": "stream",
     "text": [
      "85\n",
      "85\n"
     ]
    },
    {
     "name": "stderr",
     "output_type": "stream",
     "text": [
      "C:\\Users\\atefe\\Desktop\\tfo\\TFODCourse\\tfod\\lib\\site-packages\\torch\\autocast_mode.py:141: UserWarning: User provided device_type of 'cuda', but CUDA is not available. Disabling\n",
      "  warnings.warn('User provided device_type of \\'cuda\\', but CUDA is not available. Disabling')\n",
      "C:\\Users\\atefe\\Desktop\\tfo\\TFODCourse\\tfod\\lib\\site-packages\\torch\\autocast_mode.py:141: UserWarning: User provided device_type of 'cuda', but CUDA is not available. Disabling\n",
      "  warnings.warn('User provided device_type of \\'cuda\\', but CUDA is not available. Disabling')\n"
     ]
    },
    {
     "name": "stdout",
     "output_type": "stream",
     "text": [
      "86\n",
      "86\n"
     ]
    },
    {
     "name": "stderr",
     "output_type": "stream",
     "text": [
      "C:\\Users\\atefe\\Desktop\\tfo\\TFODCourse\\tfod\\lib\\site-packages\\torch\\autocast_mode.py:141: UserWarning: User provided device_type of 'cuda', but CUDA is not available. Disabling\n",
      "  warnings.warn('User provided device_type of \\'cuda\\', but CUDA is not available. Disabling')\n",
      "C:\\Users\\atefe\\Desktop\\tfo\\TFODCourse\\tfod\\lib\\site-packages\\torch\\autocast_mode.py:141: UserWarning: User provided device_type of 'cuda', but CUDA is not available. Disabling\n",
      "  warnings.warn('User provided device_type of \\'cuda\\', but CUDA is not available. Disabling')\n"
     ]
    },
    {
     "name": "stdout",
     "output_type": "stream",
     "text": [
      "87\n",
      "87\n"
     ]
    },
    {
     "name": "stderr",
     "output_type": "stream",
     "text": [
      "C:\\Users\\atefe\\Desktop\\tfo\\TFODCourse\\tfod\\lib\\site-packages\\torch\\autocast_mode.py:141: UserWarning: User provided device_type of 'cuda', but CUDA is not available. Disabling\n",
      "  warnings.warn('User provided device_type of \\'cuda\\', but CUDA is not available. Disabling')\n",
      "C:\\Users\\atefe\\Desktop\\tfo\\TFODCourse\\tfod\\lib\\site-packages\\torch\\autocast_mode.py:141: UserWarning: User provided device_type of 'cuda', but CUDA is not available. Disabling\n",
      "  warnings.warn('User provided device_type of \\'cuda\\', but CUDA is not available. Disabling')\n"
     ]
    },
    {
     "name": "stdout",
     "output_type": "stream",
     "text": [
      "88\n",
      "88\n"
     ]
    },
    {
     "name": "stderr",
     "output_type": "stream",
     "text": [
      "C:\\Users\\atefe\\Desktop\\tfo\\TFODCourse\\tfod\\lib\\site-packages\\torch\\autocast_mode.py:141: UserWarning: User provided device_type of 'cuda', but CUDA is not available. Disabling\n",
      "  warnings.warn('User provided device_type of \\'cuda\\', but CUDA is not available. Disabling')\n",
      "C:\\Users\\atefe\\Desktop\\tfo\\TFODCourse\\tfod\\lib\\site-packages\\torch\\autocast_mode.py:141: UserWarning: User provided device_type of 'cuda', but CUDA is not available. Disabling\n",
      "  warnings.warn('User provided device_type of \\'cuda\\', but CUDA is not available. Disabling')\n"
     ]
    },
    {
     "name": "stdout",
     "output_type": "stream",
     "text": [
      "89\n",
      "89\n"
     ]
    },
    {
     "name": "stderr",
     "output_type": "stream",
     "text": [
      "C:\\Users\\atefe\\Desktop\\tfo\\TFODCourse\\tfod\\lib\\site-packages\\torch\\autocast_mode.py:141: UserWarning: User provided device_type of 'cuda', but CUDA is not available. Disabling\n",
      "  warnings.warn('User provided device_type of \\'cuda\\', but CUDA is not available. Disabling')\n",
      "C:\\Users\\atefe\\Desktop\\tfo\\TFODCourse\\tfod\\lib\\site-packages\\torch\\autocast_mode.py:141: UserWarning: User provided device_type of 'cuda', but CUDA is not available. Disabling\n",
      "  warnings.warn('User provided device_type of \\'cuda\\', but CUDA is not available. Disabling')\n"
     ]
    },
    {
     "name": "stdout",
     "output_type": "stream",
     "text": [
      "90\n",
      "90\n"
     ]
    },
    {
     "name": "stderr",
     "output_type": "stream",
     "text": [
      "C:\\Users\\atefe\\Desktop\\tfo\\TFODCourse\\tfod\\lib\\site-packages\\torch\\autocast_mode.py:141: UserWarning: User provided device_type of 'cuda', but CUDA is not available. Disabling\n",
      "  warnings.warn('User provided device_type of \\'cuda\\', but CUDA is not available. Disabling')\n",
      "C:\\Users\\atefe\\Desktop\\tfo\\TFODCourse\\tfod\\lib\\site-packages\\torch\\autocast_mode.py:141: UserWarning: User provided device_type of 'cuda', but CUDA is not available. Disabling\n",
      "  warnings.warn('User provided device_type of \\'cuda\\', but CUDA is not available. Disabling')\n"
     ]
    },
    {
     "name": "stdout",
     "output_type": "stream",
     "text": [
      "91\n",
      "91\n"
     ]
    },
    {
     "name": "stderr",
     "output_type": "stream",
     "text": [
      "C:\\Users\\atefe\\Desktop\\tfo\\TFODCourse\\tfod\\lib\\site-packages\\torch\\autocast_mode.py:141: UserWarning: User provided device_type of 'cuda', but CUDA is not available. Disabling\n",
      "  warnings.warn('User provided device_type of \\'cuda\\', but CUDA is not available. Disabling')\n",
      "C:\\Users\\atefe\\Desktop\\tfo\\TFODCourse\\tfod\\lib\\site-packages\\torch\\autocast_mode.py:141: UserWarning: User provided device_type of 'cuda', but CUDA is not available. Disabling\n",
      "  warnings.warn('User provided device_type of \\'cuda\\', but CUDA is not available. Disabling')\n"
     ]
    },
    {
     "name": "stdout",
     "output_type": "stream",
     "text": [
      "92\n",
      "92\n"
     ]
    },
    {
     "name": "stderr",
     "output_type": "stream",
     "text": [
      "C:\\Users\\atefe\\Desktop\\tfo\\TFODCourse\\tfod\\lib\\site-packages\\torch\\autocast_mode.py:141: UserWarning: User provided device_type of 'cuda', but CUDA is not available. Disabling\n",
      "  warnings.warn('User provided device_type of \\'cuda\\', but CUDA is not available. Disabling')\n",
      "C:\\Users\\atefe\\Desktop\\tfo\\TFODCourse\\tfod\\lib\\site-packages\\torch\\autocast_mode.py:141: UserWarning: User provided device_type of 'cuda', but CUDA is not available. Disabling\n",
      "  warnings.warn('User provided device_type of \\'cuda\\', but CUDA is not available. Disabling')\n"
     ]
    },
    {
     "name": "stdout",
     "output_type": "stream",
     "text": [
      "93\n",
      "93\n"
     ]
    },
    {
     "name": "stderr",
     "output_type": "stream",
     "text": [
      "C:\\Users\\atefe\\Desktop\\tfo\\TFODCourse\\tfod\\lib\\site-packages\\torch\\autocast_mode.py:141: UserWarning: User provided device_type of 'cuda', but CUDA is not available. Disabling\n",
      "  warnings.warn('User provided device_type of \\'cuda\\', but CUDA is not available. Disabling')\n",
      "C:\\Users\\atefe\\Desktop\\tfo\\TFODCourse\\tfod\\lib\\site-packages\\torch\\autocast_mode.py:141: UserWarning: User provided device_type of 'cuda', but CUDA is not available. Disabling\n",
      "  warnings.warn('User provided device_type of \\'cuda\\', but CUDA is not available. Disabling')\n"
     ]
    },
    {
     "name": "stdout",
     "output_type": "stream",
     "text": [
      "94\n",
      "94\n"
     ]
    },
    {
     "name": "stderr",
     "output_type": "stream",
     "text": [
      "C:\\Users\\atefe\\Desktop\\tfo\\TFODCourse\\tfod\\lib\\site-packages\\torch\\autocast_mode.py:141: UserWarning: User provided device_type of 'cuda', but CUDA is not available. Disabling\n",
      "  warnings.warn('User provided device_type of \\'cuda\\', but CUDA is not available. Disabling')\n",
      "C:\\Users\\atefe\\Desktop\\tfo\\TFODCourse\\tfod\\lib\\site-packages\\torch\\autocast_mode.py:141: UserWarning: User provided device_type of 'cuda', but CUDA is not available. Disabling\n",
      "  warnings.warn('User provided device_type of \\'cuda\\', but CUDA is not available. Disabling')\n"
     ]
    },
    {
     "name": "stdout",
     "output_type": "stream",
     "text": [
      "95\n",
      "95\n"
     ]
    },
    {
     "name": "stderr",
     "output_type": "stream",
     "text": [
      "C:\\Users\\atefe\\Desktop\\tfo\\TFODCourse\\tfod\\lib\\site-packages\\torch\\autocast_mode.py:141: UserWarning: User provided device_type of 'cuda', but CUDA is not available. Disabling\n",
      "  warnings.warn('User provided device_type of \\'cuda\\', but CUDA is not available. Disabling')\n",
      "C:\\Users\\atefe\\Desktop\\tfo\\TFODCourse\\tfod\\lib\\site-packages\\torch\\autocast_mode.py:141: UserWarning: User provided device_type of 'cuda', but CUDA is not available. Disabling\n",
      "  warnings.warn('User provided device_type of \\'cuda\\', but CUDA is not available. Disabling')\n"
     ]
    },
    {
     "name": "stdout",
     "output_type": "stream",
     "text": [
      "96\n",
      "96\n"
     ]
    },
    {
     "name": "stderr",
     "output_type": "stream",
     "text": [
      "C:\\Users\\atefe\\Desktop\\tfo\\TFODCourse\\tfod\\lib\\site-packages\\torch\\autocast_mode.py:141: UserWarning: User provided device_type of 'cuda', but CUDA is not available. Disabling\n",
      "  warnings.warn('User provided device_type of \\'cuda\\', but CUDA is not available. Disabling')\n",
      "C:\\Users\\atefe\\Desktop\\tfo\\TFODCourse\\tfod\\lib\\site-packages\\torch\\autocast_mode.py:141: UserWarning: User provided device_type of 'cuda', but CUDA is not available. Disabling\n",
      "  warnings.warn('User provided device_type of \\'cuda\\', but CUDA is not available. Disabling')\n"
     ]
    },
    {
     "name": "stdout",
     "output_type": "stream",
     "text": [
      "97\n",
      "97\n"
     ]
    },
    {
     "name": "stderr",
     "output_type": "stream",
     "text": [
      "C:\\Users\\atefe\\Desktop\\tfo\\TFODCourse\\tfod\\lib\\site-packages\\torch\\autocast_mode.py:141: UserWarning: User provided device_type of 'cuda', but CUDA is not available. Disabling\n",
      "  warnings.warn('User provided device_type of \\'cuda\\', but CUDA is not available. Disabling')\n",
      "C:\\Users\\atefe\\Desktop\\tfo\\TFODCourse\\tfod\\lib\\site-packages\\torch\\autocast_mode.py:141: UserWarning: User provided device_type of 'cuda', but CUDA is not available. Disabling\n",
      "  warnings.warn('User provided device_type of \\'cuda\\', but CUDA is not available. Disabling')\n"
     ]
    },
    {
     "name": "stdout",
     "output_type": "stream",
     "text": [
      "98\n",
      "98\n"
     ]
    },
    {
     "name": "stderr",
     "output_type": "stream",
     "text": [
      "C:\\Users\\atefe\\Desktop\\tfo\\TFODCourse\\tfod\\lib\\site-packages\\torch\\autocast_mode.py:141: UserWarning: User provided device_type of 'cuda', but CUDA is not available. Disabling\n",
      "  warnings.warn('User provided device_type of \\'cuda\\', but CUDA is not available. Disabling')\n",
      "C:\\Users\\atefe\\Desktop\\tfo\\TFODCourse\\tfod\\lib\\site-packages\\torch\\autocast_mode.py:141: UserWarning: User provided device_type of 'cuda', but CUDA is not available. Disabling\n",
      "  warnings.warn('User provided device_type of \\'cuda\\', but CUDA is not available. Disabling')\n"
     ]
    },
    {
     "name": "stdout",
     "output_type": "stream",
     "text": [
      "99\n",
      "99\n"
     ]
    },
    {
     "name": "stderr",
     "output_type": "stream",
     "text": [
      "C:\\Users\\atefe\\Desktop\\tfo\\TFODCourse\\tfod\\lib\\site-packages\\torch\\autocast_mode.py:141: UserWarning: User provided device_type of 'cuda', but CUDA is not available. Disabling\n",
      "  warnings.warn('User provided device_type of \\'cuda\\', but CUDA is not available. Disabling')\n",
      "C:\\Users\\atefe\\Desktop\\tfo\\TFODCourse\\tfod\\lib\\site-packages\\torch\\autocast_mode.py:141: UserWarning: User provided device_type of 'cuda', but CUDA is not available. Disabling\n",
      "  warnings.warn('User provided device_type of \\'cuda\\', but CUDA is not available. Disabling')\n"
     ]
    },
    {
     "name": "stdout",
     "output_type": "stream",
     "text": [
      "100\n",
      "100\n"
     ]
    },
    {
     "name": "stderr",
     "output_type": "stream",
     "text": [
      "C:\\Users\\atefe\\Desktop\\tfo\\TFODCourse\\tfod\\lib\\site-packages\\torch\\autocast_mode.py:141: UserWarning: User provided device_type of 'cuda', but CUDA is not available. Disabling\n",
      "  warnings.warn('User provided device_type of \\'cuda\\', but CUDA is not available. Disabling')\n",
      "C:\\Users\\atefe\\Desktop\\tfo\\TFODCourse\\tfod\\lib\\site-packages\\torch\\autocast_mode.py:141: UserWarning: User provided device_type of 'cuda', but CUDA is not available. Disabling\n",
      "  warnings.warn('User provided device_type of \\'cuda\\', but CUDA is not available. Disabling')\n"
     ]
    },
    {
     "name": "stdout",
     "output_type": "stream",
     "text": [
      "101\n",
      "101\n"
     ]
    },
    {
     "name": "stderr",
     "output_type": "stream",
     "text": [
      "C:\\Users\\atefe\\Desktop\\tfo\\TFODCourse\\tfod\\lib\\site-packages\\torch\\autocast_mode.py:141: UserWarning: User provided device_type of 'cuda', but CUDA is not available. Disabling\n",
      "  warnings.warn('User provided device_type of \\'cuda\\', but CUDA is not available. Disabling')\n",
      "C:\\Users\\atefe\\Desktop\\tfo\\TFODCourse\\tfod\\lib\\site-packages\\torch\\autocast_mode.py:141: UserWarning: User provided device_type of 'cuda', but CUDA is not available. Disabling\n",
      "  warnings.warn('User provided device_type of \\'cuda\\', but CUDA is not available. Disabling')\n"
     ]
    },
    {
     "name": "stdout",
     "output_type": "stream",
     "text": [
      "102\n",
      "102\n"
     ]
    },
    {
     "name": "stderr",
     "output_type": "stream",
     "text": [
      "C:\\Users\\atefe\\Desktop\\tfo\\TFODCourse\\tfod\\lib\\site-packages\\torch\\autocast_mode.py:141: UserWarning: User provided device_type of 'cuda', but CUDA is not available. Disabling\n",
      "  warnings.warn('User provided device_type of \\'cuda\\', but CUDA is not available. Disabling')\n",
      "C:\\Users\\atefe\\Desktop\\tfo\\TFODCourse\\tfod\\lib\\site-packages\\torch\\autocast_mode.py:141: UserWarning: User provided device_type of 'cuda', but CUDA is not available. Disabling\n",
      "  warnings.warn('User provided device_type of \\'cuda\\', but CUDA is not available. Disabling')\n"
     ]
    },
    {
     "name": "stdout",
     "output_type": "stream",
     "text": [
      "103\n",
      "103\n"
     ]
    },
    {
     "name": "stderr",
     "output_type": "stream",
     "text": [
      "C:\\Users\\atefe\\Desktop\\tfo\\TFODCourse\\tfod\\lib\\site-packages\\torch\\autocast_mode.py:141: UserWarning: User provided device_type of 'cuda', but CUDA is not available. Disabling\n",
      "  warnings.warn('User provided device_type of \\'cuda\\', but CUDA is not available. Disabling')\n",
      "C:\\Users\\atefe\\Desktop\\tfo\\TFODCourse\\tfod\\lib\\site-packages\\torch\\autocast_mode.py:141: UserWarning: User provided device_type of 'cuda', but CUDA is not available. Disabling\n",
      "  warnings.warn('User provided device_type of \\'cuda\\', but CUDA is not available. Disabling')\n"
     ]
    },
    {
     "name": "stdout",
     "output_type": "stream",
     "text": [
      "104\n",
      "104\n"
     ]
    },
    {
     "name": "stderr",
     "output_type": "stream",
     "text": [
      "C:\\Users\\atefe\\Desktop\\tfo\\TFODCourse\\tfod\\lib\\site-packages\\torch\\autocast_mode.py:141: UserWarning: User provided device_type of 'cuda', but CUDA is not available. Disabling\n",
      "  warnings.warn('User provided device_type of \\'cuda\\', but CUDA is not available. Disabling')\n",
      "C:\\Users\\atefe\\Desktop\\tfo\\TFODCourse\\tfod\\lib\\site-packages\\torch\\autocast_mode.py:141: UserWarning: User provided device_type of 'cuda', but CUDA is not available. Disabling\n",
      "  warnings.warn('User provided device_type of \\'cuda\\', but CUDA is not available. Disabling')\n"
     ]
    },
    {
     "name": "stdout",
     "output_type": "stream",
     "text": [
      "105\n",
      "105\n"
     ]
    },
    {
     "name": "stderr",
     "output_type": "stream",
     "text": [
      "C:\\Users\\atefe\\Desktop\\tfo\\TFODCourse\\tfod\\lib\\site-packages\\torch\\autocast_mode.py:141: UserWarning: User provided device_type of 'cuda', but CUDA is not available. Disabling\n",
      "  warnings.warn('User provided device_type of \\'cuda\\', but CUDA is not available. Disabling')\n",
      "C:\\Users\\atefe\\Desktop\\tfo\\TFODCourse\\tfod\\lib\\site-packages\\torch\\autocast_mode.py:141: UserWarning: User provided device_type of 'cuda', but CUDA is not available. Disabling\n",
      "  warnings.warn('User provided device_type of \\'cuda\\', but CUDA is not available. Disabling')\n"
     ]
    },
    {
     "name": "stdout",
     "output_type": "stream",
     "text": [
      "106\n",
      "106\n"
     ]
    },
    {
     "name": "stderr",
     "output_type": "stream",
     "text": [
      "C:\\Users\\atefe\\Desktop\\tfo\\TFODCourse\\tfod\\lib\\site-packages\\torch\\autocast_mode.py:141: UserWarning: User provided device_type of 'cuda', but CUDA is not available. Disabling\n",
      "  warnings.warn('User provided device_type of \\'cuda\\', but CUDA is not available. Disabling')\n",
      "C:\\Users\\atefe\\Desktop\\tfo\\TFODCourse\\tfod\\lib\\site-packages\\torch\\autocast_mode.py:141: UserWarning: User provided device_type of 'cuda', but CUDA is not available. Disabling\n",
      "  warnings.warn('User provided device_type of \\'cuda\\', but CUDA is not available. Disabling')\n"
     ]
    },
    {
     "name": "stdout",
     "output_type": "stream",
     "text": [
      "107\n",
      "107\n"
     ]
    },
    {
     "name": "stderr",
     "output_type": "stream",
     "text": [
      "C:\\Users\\atefe\\Desktop\\tfo\\TFODCourse\\tfod\\lib\\site-packages\\torch\\autocast_mode.py:141: UserWarning: User provided device_type of 'cuda', but CUDA is not available. Disabling\n",
      "  warnings.warn('User provided device_type of \\'cuda\\', but CUDA is not available. Disabling')\n",
      "C:\\Users\\atefe\\Desktop\\tfo\\TFODCourse\\tfod\\lib\\site-packages\\torch\\autocast_mode.py:141: UserWarning: User provided device_type of 'cuda', but CUDA is not available. Disabling\n",
      "  warnings.warn('User provided device_type of \\'cuda\\', but CUDA is not available. Disabling')\n"
     ]
    },
    {
     "name": "stdout",
     "output_type": "stream",
     "text": [
      "108\n",
      "108\n"
     ]
    },
    {
     "name": "stderr",
     "output_type": "stream",
     "text": [
      "C:\\Users\\atefe\\Desktop\\tfo\\TFODCourse\\tfod\\lib\\site-packages\\torch\\autocast_mode.py:141: UserWarning: User provided device_type of 'cuda', but CUDA is not available. Disabling\n",
      "  warnings.warn('User provided device_type of \\'cuda\\', but CUDA is not available. Disabling')\n",
      "C:\\Users\\atefe\\Desktop\\tfo\\TFODCourse\\tfod\\lib\\site-packages\\torch\\autocast_mode.py:141: UserWarning: User provided device_type of 'cuda', but CUDA is not available. Disabling\n",
      "  warnings.warn('User provided device_type of \\'cuda\\', but CUDA is not available. Disabling')\n"
     ]
    },
    {
     "name": "stdout",
     "output_type": "stream",
     "text": [
      "109\n",
      "109\n"
     ]
    },
    {
     "name": "stderr",
     "output_type": "stream",
     "text": [
      "C:\\Users\\atefe\\Desktop\\tfo\\TFODCourse\\tfod\\lib\\site-packages\\torch\\autocast_mode.py:141: UserWarning: User provided device_type of 'cuda', but CUDA is not available. Disabling\n",
      "  warnings.warn('User provided device_type of \\'cuda\\', but CUDA is not available. Disabling')\n",
      "C:\\Users\\atefe\\Desktop\\tfo\\TFODCourse\\tfod\\lib\\site-packages\\torch\\autocast_mode.py:141: UserWarning: User provided device_type of 'cuda', but CUDA is not available. Disabling\n",
      "  warnings.warn('User provided device_type of \\'cuda\\', but CUDA is not available. Disabling')\n"
     ]
    },
    {
     "name": "stdout",
     "output_type": "stream",
     "text": [
      "110\n",
      "110\n"
     ]
    },
    {
     "name": "stderr",
     "output_type": "stream",
     "text": [
      "C:\\Users\\atefe\\Desktop\\tfo\\TFODCourse\\tfod\\lib\\site-packages\\torch\\autocast_mode.py:141: UserWarning: User provided device_type of 'cuda', but CUDA is not available. Disabling\n",
      "  warnings.warn('User provided device_type of \\'cuda\\', but CUDA is not available. Disabling')\n",
      "C:\\Users\\atefe\\Desktop\\tfo\\TFODCourse\\tfod\\lib\\site-packages\\torch\\autocast_mode.py:141: UserWarning: User provided device_type of 'cuda', but CUDA is not available. Disabling\n",
      "  warnings.warn('User provided device_type of \\'cuda\\', but CUDA is not available. Disabling')\n"
     ]
    },
    {
     "name": "stdout",
     "output_type": "stream",
     "text": [
      "111\n",
      "111\n"
     ]
    },
    {
     "name": "stderr",
     "output_type": "stream",
     "text": [
      "C:\\Users\\atefe\\Desktop\\tfo\\TFODCourse\\tfod\\lib\\site-packages\\torch\\autocast_mode.py:141: UserWarning: User provided device_type of 'cuda', but CUDA is not available. Disabling\n",
      "  warnings.warn('User provided device_type of \\'cuda\\', but CUDA is not available. Disabling')\n",
      "C:\\Users\\atefe\\Desktop\\tfo\\TFODCourse\\tfod\\lib\\site-packages\\torch\\autocast_mode.py:141: UserWarning: User provided device_type of 'cuda', but CUDA is not available. Disabling\n",
      "  warnings.warn('User provided device_type of \\'cuda\\', but CUDA is not available. Disabling')\n"
     ]
    },
    {
     "name": "stdout",
     "output_type": "stream",
     "text": [
      "112\n",
      "112\n"
     ]
    },
    {
     "name": "stderr",
     "output_type": "stream",
     "text": [
      "C:\\Users\\atefe\\Desktop\\tfo\\TFODCourse\\tfod\\lib\\site-packages\\torch\\autocast_mode.py:141: UserWarning: User provided device_type of 'cuda', but CUDA is not available. Disabling\n",
      "  warnings.warn('User provided device_type of \\'cuda\\', but CUDA is not available. Disabling')\n",
      "C:\\Users\\atefe\\Desktop\\tfo\\TFODCourse\\tfod\\lib\\site-packages\\torch\\autocast_mode.py:141: UserWarning: User provided device_type of 'cuda', but CUDA is not available. Disabling\n",
      "  warnings.warn('User provided device_type of \\'cuda\\', but CUDA is not available. Disabling')\n"
     ]
    },
    {
     "name": "stdout",
     "output_type": "stream",
     "text": [
      "113\n",
      "113\n"
     ]
    },
    {
     "name": "stderr",
     "output_type": "stream",
     "text": [
      "C:\\Users\\atefe\\Desktop\\tfo\\TFODCourse\\tfod\\lib\\site-packages\\torch\\autocast_mode.py:141: UserWarning: User provided device_type of 'cuda', but CUDA is not available. Disabling\n",
      "  warnings.warn('User provided device_type of \\'cuda\\', but CUDA is not available. Disabling')\n",
      "C:\\Users\\atefe\\Desktop\\tfo\\TFODCourse\\tfod\\lib\\site-packages\\torch\\autocast_mode.py:141: UserWarning: User provided device_type of 'cuda', but CUDA is not available. Disabling\n",
      "  warnings.warn('User provided device_type of \\'cuda\\', but CUDA is not available. Disabling')\n"
     ]
    },
    {
     "name": "stdout",
     "output_type": "stream",
     "text": [
      "114\n",
      "114\n"
     ]
    },
    {
     "name": "stderr",
     "output_type": "stream",
     "text": [
      "C:\\Users\\atefe\\Desktop\\tfo\\TFODCourse\\tfod\\lib\\site-packages\\torch\\autocast_mode.py:141: UserWarning: User provided device_type of 'cuda', but CUDA is not available. Disabling\n",
      "  warnings.warn('User provided device_type of \\'cuda\\', but CUDA is not available. Disabling')\n",
      "C:\\Users\\atefe\\Desktop\\tfo\\TFODCourse\\tfod\\lib\\site-packages\\torch\\autocast_mode.py:141: UserWarning: User provided device_type of 'cuda', but CUDA is not available. Disabling\n",
      "  warnings.warn('User provided device_type of \\'cuda\\', but CUDA is not available. Disabling')\n"
     ]
    },
    {
     "name": "stdout",
     "output_type": "stream",
     "text": [
      "115\n",
      "115\n"
     ]
    },
    {
     "name": "stderr",
     "output_type": "stream",
     "text": [
      "C:\\Users\\atefe\\Desktop\\tfo\\TFODCourse\\tfod\\lib\\site-packages\\torch\\autocast_mode.py:141: UserWarning: User provided device_type of 'cuda', but CUDA is not available. Disabling\n",
      "  warnings.warn('User provided device_type of \\'cuda\\', but CUDA is not available. Disabling')\n",
      "C:\\Users\\atefe\\Desktop\\tfo\\TFODCourse\\tfod\\lib\\site-packages\\torch\\autocast_mode.py:141: UserWarning: User provided device_type of 'cuda', but CUDA is not available. Disabling\n",
      "  warnings.warn('User provided device_type of \\'cuda\\', but CUDA is not available. Disabling')\n"
     ]
    },
    {
     "name": "stdout",
     "output_type": "stream",
     "text": [
      "116\n",
      "116\n"
     ]
    },
    {
     "name": "stderr",
     "output_type": "stream",
     "text": [
      "C:\\Users\\atefe\\Desktop\\tfo\\TFODCourse\\tfod\\lib\\site-packages\\torch\\autocast_mode.py:141: UserWarning: User provided device_type of 'cuda', but CUDA is not available. Disabling\n",
      "  warnings.warn('User provided device_type of \\'cuda\\', but CUDA is not available. Disabling')\n",
      "C:\\Users\\atefe\\Desktop\\tfo\\TFODCourse\\tfod\\lib\\site-packages\\torch\\autocast_mode.py:141: UserWarning: User provided device_type of 'cuda', but CUDA is not available. Disabling\n",
      "  warnings.warn('User provided device_type of \\'cuda\\', but CUDA is not available. Disabling')\n"
     ]
    },
    {
     "name": "stdout",
     "output_type": "stream",
     "text": [
      "117\n",
      "117\n"
     ]
    },
    {
     "name": "stderr",
     "output_type": "stream",
     "text": [
      "C:\\Users\\atefe\\Desktop\\tfo\\TFODCourse\\tfod\\lib\\site-packages\\torch\\autocast_mode.py:141: UserWarning: User provided device_type of 'cuda', but CUDA is not available. Disabling\n",
      "  warnings.warn('User provided device_type of \\'cuda\\', but CUDA is not available. Disabling')\n",
      "C:\\Users\\atefe\\Desktop\\tfo\\TFODCourse\\tfod\\lib\\site-packages\\torch\\autocast_mode.py:141: UserWarning: User provided device_type of 'cuda', but CUDA is not available. Disabling\n",
      "  warnings.warn('User provided device_type of \\'cuda\\', but CUDA is not available. Disabling')\n"
     ]
    },
    {
     "name": "stdout",
     "output_type": "stream",
     "text": [
      "118\n",
      "118\n"
     ]
    },
    {
     "name": "stderr",
     "output_type": "stream",
     "text": [
      "C:\\Users\\atefe\\Desktop\\tfo\\TFODCourse\\tfod\\lib\\site-packages\\torch\\autocast_mode.py:141: UserWarning: User provided device_type of 'cuda', but CUDA is not available. Disabling\n",
      "  warnings.warn('User provided device_type of \\'cuda\\', but CUDA is not available. Disabling')\n",
      "C:\\Users\\atefe\\Desktop\\tfo\\TFODCourse\\tfod\\lib\\site-packages\\torch\\autocast_mode.py:141: UserWarning: User provided device_type of 'cuda', but CUDA is not available. Disabling\n",
      "  warnings.warn('User provided device_type of \\'cuda\\', but CUDA is not available. Disabling')\n"
     ]
    },
    {
     "name": "stdout",
     "output_type": "stream",
     "text": [
      "119\n",
      "119\n"
     ]
    },
    {
     "name": "stderr",
     "output_type": "stream",
     "text": [
      "C:\\Users\\atefe\\Desktop\\tfo\\TFODCourse\\tfod\\lib\\site-packages\\torch\\autocast_mode.py:141: UserWarning: User provided device_type of 'cuda', but CUDA is not available. Disabling\n",
      "  warnings.warn('User provided device_type of \\'cuda\\', but CUDA is not available. Disabling')\n",
      "C:\\Users\\atefe\\Desktop\\tfo\\TFODCourse\\tfod\\lib\\site-packages\\torch\\autocast_mode.py:141: UserWarning: User provided device_type of 'cuda', but CUDA is not available. Disabling\n",
      "  warnings.warn('User provided device_type of \\'cuda\\', but CUDA is not available. Disabling')\n"
     ]
    },
    {
     "name": "stdout",
     "output_type": "stream",
     "text": [
      "120\n",
      "120\n"
     ]
    },
    {
     "name": "stderr",
     "output_type": "stream",
     "text": [
      "C:\\Users\\atefe\\Desktop\\tfo\\TFODCourse\\tfod\\lib\\site-packages\\torch\\autocast_mode.py:141: UserWarning: User provided device_type of 'cuda', but CUDA is not available. Disabling\n",
      "  warnings.warn('User provided device_type of \\'cuda\\', but CUDA is not available. Disabling')\n",
      "C:\\Users\\atefe\\Desktop\\tfo\\TFODCourse\\tfod\\lib\\site-packages\\torch\\autocast_mode.py:141: UserWarning: User provided device_type of 'cuda', but CUDA is not available. Disabling\n",
      "  warnings.warn('User provided device_type of \\'cuda\\', but CUDA is not available. Disabling')\n"
     ]
    },
    {
     "name": "stdout",
     "output_type": "stream",
     "text": [
      "121\n",
      "121\n"
     ]
    },
    {
     "name": "stderr",
     "output_type": "stream",
     "text": [
      "C:\\Users\\atefe\\Desktop\\tfo\\TFODCourse\\tfod\\lib\\site-packages\\torch\\autocast_mode.py:141: UserWarning: User provided device_type of 'cuda', but CUDA is not available. Disabling\n",
      "  warnings.warn('User provided device_type of \\'cuda\\', but CUDA is not available. Disabling')\n",
      "C:\\Users\\atefe\\Desktop\\tfo\\TFODCourse\\tfod\\lib\\site-packages\\torch\\autocast_mode.py:141: UserWarning: User provided device_type of 'cuda', but CUDA is not available. Disabling\n",
      "  warnings.warn('User provided device_type of \\'cuda\\', but CUDA is not available. Disabling')\n"
     ]
    },
    {
     "name": "stdout",
     "output_type": "stream",
     "text": [
      "122\n",
      "122\n"
     ]
    },
    {
     "name": "stderr",
     "output_type": "stream",
     "text": [
      "C:\\Users\\atefe\\Desktop\\tfo\\TFODCourse\\tfod\\lib\\site-packages\\torch\\autocast_mode.py:141: UserWarning: User provided device_type of 'cuda', but CUDA is not available. Disabling\n",
      "  warnings.warn('User provided device_type of \\'cuda\\', but CUDA is not available. Disabling')\n",
      "C:\\Users\\atefe\\Desktop\\tfo\\TFODCourse\\tfod\\lib\\site-packages\\torch\\autocast_mode.py:141: UserWarning: User provided device_type of 'cuda', but CUDA is not available. Disabling\n",
      "  warnings.warn('User provided device_type of \\'cuda\\', but CUDA is not available. Disabling')\n"
     ]
    },
    {
     "name": "stdout",
     "output_type": "stream",
     "text": [
      "123\n",
      "123\n"
     ]
    },
    {
     "name": "stderr",
     "output_type": "stream",
     "text": [
      "C:\\Users\\atefe\\Desktop\\tfo\\TFODCourse\\tfod\\lib\\site-packages\\torch\\autocast_mode.py:141: UserWarning: User provided device_type of 'cuda', but CUDA is not available. Disabling\n",
      "  warnings.warn('User provided device_type of \\'cuda\\', but CUDA is not available. Disabling')\n",
      "C:\\Users\\atefe\\Desktop\\tfo\\TFODCourse\\tfod\\lib\\site-packages\\torch\\autocast_mode.py:141: UserWarning: User provided device_type of 'cuda', but CUDA is not available. Disabling\n",
      "  warnings.warn('User provided device_type of \\'cuda\\', but CUDA is not available. Disabling')\n"
     ]
    },
    {
     "name": "stdout",
     "output_type": "stream",
     "text": [
      "124\n",
      "124\n"
     ]
    },
    {
     "name": "stderr",
     "output_type": "stream",
     "text": [
      "C:\\Users\\atefe\\Desktop\\tfo\\TFODCourse\\tfod\\lib\\site-packages\\torch\\autocast_mode.py:141: UserWarning: User provided device_type of 'cuda', but CUDA is not available. Disabling\n",
      "  warnings.warn('User provided device_type of \\'cuda\\', but CUDA is not available. Disabling')\n",
      "C:\\Users\\atefe\\Desktop\\tfo\\TFODCourse\\tfod\\lib\\site-packages\\torch\\autocast_mode.py:141: UserWarning: User provided device_type of 'cuda', but CUDA is not available. Disabling\n",
      "  warnings.warn('User provided device_type of \\'cuda\\', but CUDA is not available. Disabling')\n"
     ]
    },
    {
     "name": "stdout",
     "output_type": "stream",
     "text": [
      "125\n",
      "125\n"
     ]
    },
    {
     "name": "stderr",
     "output_type": "stream",
     "text": [
      "C:\\Users\\atefe\\Desktop\\tfo\\TFODCourse\\tfod\\lib\\site-packages\\torch\\autocast_mode.py:141: UserWarning: User provided device_type of 'cuda', but CUDA is not available. Disabling\n",
      "  warnings.warn('User provided device_type of \\'cuda\\', but CUDA is not available. Disabling')\n",
      "C:\\Users\\atefe\\Desktop\\tfo\\TFODCourse\\tfod\\lib\\site-packages\\torch\\autocast_mode.py:141: UserWarning: User provided device_type of 'cuda', but CUDA is not available. Disabling\n",
      "  warnings.warn('User provided device_type of \\'cuda\\', but CUDA is not available. Disabling')\n"
     ]
    },
    {
     "name": "stdout",
     "output_type": "stream",
     "text": [
      "126\n",
      "126\n"
     ]
    },
    {
     "name": "stderr",
     "output_type": "stream",
     "text": [
      "C:\\Users\\atefe\\Desktop\\tfo\\TFODCourse\\tfod\\lib\\site-packages\\torch\\autocast_mode.py:141: UserWarning: User provided device_type of 'cuda', but CUDA is not available. Disabling\n",
      "  warnings.warn('User provided device_type of \\'cuda\\', but CUDA is not available. Disabling')\n",
      "C:\\Users\\atefe\\Desktop\\tfo\\TFODCourse\\tfod\\lib\\site-packages\\torch\\autocast_mode.py:141: UserWarning: User provided device_type of 'cuda', but CUDA is not available. Disabling\n",
      "  warnings.warn('User provided device_type of \\'cuda\\', but CUDA is not available. Disabling')\n"
     ]
    },
    {
     "name": "stdout",
     "output_type": "stream",
     "text": [
      "127\n",
      "127\n"
     ]
    },
    {
     "name": "stderr",
     "output_type": "stream",
     "text": [
      "C:\\Users\\atefe\\Desktop\\tfo\\TFODCourse\\tfod\\lib\\site-packages\\torch\\autocast_mode.py:141: UserWarning: User provided device_type of 'cuda', but CUDA is not available. Disabling\n",
      "  warnings.warn('User provided device_type of \\'cuda\\', but CUDA is not available. Disabling')\n",
      "C:\\Users\\atefe\\Desktop\\tfo\\TFODCourse\\tfod\\lib\\site-packages\\torch\\autocast_mode.py:141: UserWarning: User provided device_type of 'cuda', but CUDA is not available. Disabling\n",
      "  warnings.warn('User provided device_type of \\'cuda\\', but CUDA is not available. Disabling')\n"
     ]
    },
    {
     "name": "stdout",
     "output_type": "stream",
     "text": [
      "128\n",
      "128\n"
     ]
    },
    {
     "name": "stderr",
     "output_type": "stream",
     "text": [
      "C:\\Users\\atefe\\Desktop\\tfo\\TFODCourse\\tfod\\lib\\site-packages\\torch\\autocast_mode.py:141: UserWarning: User provided device_type of 'cuda', but CUDA is not available. Disabling\n",
      "  warnings.warn('User provided device_type of \\'cuda\\', but CUDA is not available. Disabling')\n",
      "C:\\Users\\atefe\\Desktop\\tfo\\TFODCourse\\tfod\\lib\\site-packages\\torch\\autocast_mode.py:141: UserWarning: User provided device_type of 'cuda', but CUDA is not available. Disabling\n",
      "  warnings.warn('User provided device_type of \\'cuda\\', but CUDA is not available. Disabling')\n"
     ]
    },
    {
     "name": "stdout",
     "output_type": "stream",
     "text": [
      "129\n",
      "129\n"
     ]
    },
    {
     "name": "stderr",
     "output_type": "stream",
     "text": [
      "C:\\Users\\atefe\\Desktop\\tfo\\TFODCourse\\tfod\\lib\\site-packages\\torch\\autocast_mode.py:141: UserWarning: User provided device_type of 'cuda', but CUDA is not available. Disabling\n",
      "  warnings.warn('User provided device_type of \\'cuda\\', but CUDA is not available. Disabling')\n",
      "C:\\Users\\atefe\\Desktop\\tfo\\TFODCourse\\tfod\\lib\\site-packages\\torch\\autocast_mode.py:141: UserWarning: User provided device_type of 'cuda', but CUDA is not available. Disabling\n",
      "  warnings.warn('User provided device_type of \\'cuda\\', but CUDA is not available. Disabling')\n"
     ]
    },
    {
     "name": "stdout",
     "output_type": "stream",
     "text": [
      "130\n",
      "130\n"
     ]
    },
    {
     "name": "stderr",
     "output_type": "stream",
     "text": [
      "C:\\Users\\atefe\\Desktop\\tfo\\TFODCourse\\tfod\\lib\\site-packages\\torch\\autocast_mode.py:141: UserWarning: User provided device_type of 'cuda', but CUDA is not available. Disabling\n",
      "  warnings.warn('User provided device_type of \\'cuda\\', but CUDA is not available. Disabling')\n",
      "C:\\Users\\atefe\\Desktop\\tfo\\TFODCourse\\tfod\\lib\\site-packages\\torch\\autocast_mode.py:141: UserWarning: User provided device_type of 'cuda', but CUDA is not available. Disabling\n",
      "  warnings.warn('User provided device_type of \\'cuda\\', but CUDA is not available. Disabling')\n"
     ]
    },
    {
     "name": "stdout",
     "output_type": "stream",
     "text": [
      "131\n",
      "131\n"
     ]
    },
    {
     "name": "stderr",
     "output_type": "stream",
     "text": [
      "C:\\Users\\atefe\\Desktop\\tfo\\TFODCourse\\tfod\\lib\\site-packages\\torch\\autocast_mode.py:141: UserWarning: User provided device_type of 'cuda', but CUDA is not available. Disabling\n",
      "  warnings.warn('User provided device_type of \\'cuda\\', but CUDA is not available. Disabling')\n",
      "C:\\Users\\atefe\\Desktop\\tfo\\TFODCourse\\tfod\\lib\\site-packages\\torch\\autocast_mode.py:141: UserWarning: User provided device_type of 'cuda', but CUDA is not available. Disabling\n",
      "  warnings.warn('User provided device_type of \\'cuda\\', but CUDA is not available. Disabling')\n"
     ]
    },
    {
     "name": "stdout",
     "output_type": "stream",
     "text": [
      "132\n",
      "132\n"
     ]
    },
    {
     "name": "stderr",
     "output_type": "stream",
     "text": [
      "C:\\Users\\atefe\\Desktop\\tfo\\TFODCourse\\tfod\\lib\\site-packages\\torch\\autocast_mode.py:141: UserWarning: User provided device_type of 'cuda', but CUDA is not available. Disabling\n",
      "  warnings.warn('User provided device_type of \\'cuda\\', but CUDA is not available. Disabling')\n",
      "C:\\Users\\atefe\\Desktop\\tfo\\TFODCourse\\tfod\\lib\\site-packages\\torch\\autocast_mode.py:141: UserWarning: User provided device_type of 'cuda', but CUDA is not available. Disabling\n",
      "  warnings.warn('User provided device_type of \\'cuda\\', but CUDA is not available. Disabling')\n"
     ]
    },
    {
     "name": "stdout",
     "output_type": "stream",
     "text": [
      "133\n",
      "133\n"
     ]
    },
    {
     "name": "stderr",
     "output_type": "stream",
     "text": [
      "C:\\Users\\atefe\\Desktop\\tfo\\TFODCourse\\tfod\\lib\\site-packages\\torch\\autocast_mode.py:141: UserWarning: User provided device_type of 'cuda', but CUDA is not available. Disabling\n",
      "  warnings.warn('User provided device_type of \\'cuda\\', but CUDA is not available. Disabling')\n",
      "C:\\Users\\atefe\\Desktop\\tfo\\TFODCourse\\tfod\\lib\\site-packages\\torch\\autocast_mode.py:141: UserWarning: User provided device_type of 'cuda', but CUDA is not available. Disabling\n",
      "  warnings.warn('User provided device_type of \\'cuda\\', but CUDA is not available. Disabling')\n"
     ]
    },
    {
     "name": "stdout",
     "output_type": "stream",
     "text": [
      "134\n",
      "134\n"
     ]
    },
    {
     "name": "stderr",
     "output_type": "stream",
     "text": [
      "C:\\Users\\atefe\\Desktop\\tfo\\TFODCourse\\tfod\\lib\\site-packages\\torch\\autocast_mode.py:141: UserWarning: User provided device_type of 'cuda', but CUDA is not available. Disabling\n",
      "  warnings.warn('User provided device_type of \\'cuda\\', but CUDA is not available. Disabling')\n",
      "C:\\Users\\atefe\\Desktop\\tfo\\TFODCourse\\tfod\\lib\\site-packages\\torch\\autocast_mode.py:141: UserWarning: User provided device_type of 'cuda', but CUDA is not available. Disabling\n",
      "  warnings.warn('User provided device_type of \\'cuda\\', but CUDA is not available. Disabling')\n"
     ]
    },
    {
     "name": "stdout",
     "output_type": "stream",
     "text": [
      "135\n",
      "135\n"
     ]
    },
    {
     "name": "stderr",
     "output_type": "stream",
     "text": [
      "C:\\Users\\atefe\\Desktop\\tfo\\TFODCourse\\tfod\\lib\\site-packages\\torch\\autocast_mode.py:141: UserWarning: User provided device_type of 'cuda', but CUDA is not available. Disabling\n",
      "  warnings.warn('User provided device_type of \\'cuda\\', but CUDA is not available. Disabling')\n",
      "C:\\Users\\atefe\\Desktop\\tfo\\TFODCourse\\tfod\\lib\\site-packages\\torch\\autocast_mode.py:141: UserWarning: User provided device_type of 'cuda', but CUDA is not available. Disabling\n",
      "  warnings.warn('User provided device_type of \\'cuda\\', but CUDA is not available. Disabling')\n"
     ]
    },
    {
     "name": "stdout",
     "output_type": "stream",
     "text": [
      "136\n",
      "136\n"
     ]
    },
    {
     "name": "stderr",
     "output_type": "stream",
     "text": [
      "C:\\Users\\atefe\\Desktop\\tfo\\TFODCourse\\tfod\\lib\\site-packages\\torch\\autocast_mode.py:141: UserWarning: User provided device_type of 'cuda', but CUDA is not available. Disabling\n",
      "  warnings.warn('User provided device_type of \\'cuda\\', but CUDA is not available. Disabling')\n",
      "C:\\Users\\atefe\\Desktop\\tfo\\TFODCourse\\tfod\\lib\\site-packages\\torch\\autocast_mode.py:141: UserWarning: User provided device_type of 'cuda', but CUDA is not available. Disabling\n",
      "  warnings.warn('User provided device_type of \\'cuda\\', but CUDA is not available. Disabling')\n"
     ]
    },
    {
     "name": "stdout",
     "output_type": "stream",
     "text": [
      "137\n",
      "137\n"
     ]
    },
    {
     "name": "stderr",
     "output_type": "stream",
     "text": [
      "C:\\Users\\atefe\\Desktop\\tfo\\TFODCourse\\tfod\\lib\\site-packages\\torch\\autocast_mode.py:141: UserWarning: User provided device_type of 'cuda', but CUDA is not available. Disabling\n",
      "  warnings.warn('User provided device_type of \\'cuda\\', but CUDA is not available. Disabling')\n",
      "C:\\Users\\atefe\\Desktop\\tfo\\TFODCourse\\tfod\\lib\\site-packages\\torch\\autocast_mode.py:141: UserWarning: User provided device_type of 'cuda', but CUDA is not available. Disabling\n",
      "  warnings.warn('User provided device_type of \\'cuda\\', but CUDA is not available. Disabling')\n"
     ]
    },
    {
     "name": "stdout",
     "output_type": "stream",
     "text": [
      "138\n",
      "138\n"
     ]
    },
    {
     "name": "stderr",
     "output_type": "stream",
     "text": [
      "C:\\Users\\atefe\\Desktop\\tfo\\TFODCourse\\tfod\\lib\\site-packages\\torch\\autocast_mode.py:141: UserWarning: User provided device_type of 'cuda', but CUDA is not available. Disabling\n",
      "  warnings.warn('User provided device_type of \\'cuda\\', but CUDA is not available. Disabling')\n",
      "C:\\Users\\atefe\\Desktop\\tfo\\TFODCourse\\tfod\\lib\\site-packages\\torch\\autocast_mode.py:141: UserWarning: User provided device_type of 'cuda', but CUDA is not available. Disabling\n",
      "  warnings.warn('User provided device_type of \\'cuda\\', but CUDA is not available. Disabling')\n"
     ]
    },
    {
     "name": "stdout",
     "output_type": "stream",
     "text": [
      "139\n",
      "139\n"
     ]
    },
    {
     "name": "stderr",
     "output_type": "stream",
     "text": [
      "C:\\Users\\atefe\\Desktop\\tfo\\TFODCourse\\tfod\\lib\\site-packages\\torch\\autocast_mode.py:141: UserWarning: User provided device_type of 'cuda', but CUDA is not available. Disabling\n",
      "  warnings.warn('User provided device_type of \\'cuda\\', but CUDA is not available. Disabling')\n",
      "C:\\Users\\atefe\\Desktop\\tfo\\TFODCourse\\tfod\\lib\\site-packages\\torch\\autocast_mode.py:141: UserWarning: User provided device_type of 'cuda', but CUDA is not available. Disabling\n",
      "  warnings.warn('User provided device_type of \\'cuda\\', but CUDA is not available. Disabling')\n"
     ]
    },
    {
     "name": "stdout",
     "output_type": "stream",
     "text": [
      "140\n",
      "140\n"
     ]
    },
    {
     "name": "stderr",
     "output_type": "stream",
     "text": [
      "C:\\Users\\atefe\\Desktop\\tfo\\TFODCourse\\tfod\\lib\\site-packages\\torch\\autocast_mode.py:141: UserWarning: User provided device_type of 'cuda', but CUDA is not available. Disabling\n",
      "  warnings.warn('User provided device_type of \\'cuda\\', but CUDA is not available. Disabling')\n",
      "C:\\Users\\atefe\\Desktop\\tfo\\TFODCourse\\tfod\\lib\\site-packages\\torch\\autocast_mode.py:141: UserWarning: User provided device_type of 'cuda', but CUDA is not available. Disabling\n",
      "  warnings.warn('User provided device_type of \\'cuda\\', but CUDA is not available. Disabling')\n"
     ]
    },
    {
     "name": "stdout",
     "output_type": "stream",
     "text": [
      "141\n",
      "141\n"
     ]
    },
    {
     "name": "stderr",
     "output_type": "stream",
     "text": [
      "C:\\Users\\atefe\\Desktop\\tfo\\TFODCourse\\tfod\\lib\\site-packages\\torch\\autocast_mode.py:141: UserWarning: User provided device_type of 'cuda', but CUDA is not available. Disabling\n",
      "  warnings.warn('User provided device_type of \\'cuda\\', but CUDA is not available. Disabling')\n",
      "C:\\Users\\atefe\\Desktop\\tfo\\TFODCourse\\tfod\\lib\\site-packages\\torch\\autocast_mode.py:141: UserWarning: User provided device_type of 'cuda', but CUDA is not available. Disabling\n",
      "  warnings.warn('User provided device_type of \\'cuda\\', but CUDA is not available. Disabling')\n"
     ]
    },
    {
     "name": "stdout",
     "output_type": "stream",
     "text": [
      "142\n",
      "142\n"
     ]
    },
    {
     "name": "stderr",
     "output_type": "stream",
     "text": [
      "C:\\Users\\atefe\\Desktop\\tfo\\TFODCourse\\tfod\\lib\\site-packages\\torch\\autocast_mode.py:141: UserWarning: User provided device_type of 'cuda', but CUDA is not available. Disabling\n",
      "  warnings.warn('User provided device_type of \\'cuda\\', but CUDA is not available. Disabling')\n",
      "C:\\Users\\atefe\\Desktop\\tfo\\TFODCourse\\tfod\\lib\\site-packages\\torch\\autocast_mode.py:141: UserWarning: User provided device_type of 'cuda', but CUDA is not available. Disabling\n",
      "  warnings.warn('User provided device_type of \\'cuda\\', but CUDA is not available. Disabling')\n"
     ]
    },
    {
     "name": "stdout",
     "output_type": "stream",
     "text": [
      "143\n",
      "143\n"
     ]
    },
    {
     "name": "stderr",
     "output_type": "stream",
     "text": [
      "C:\\Users\\atefe\\Desktop\\tfo\\TFODCourse\\tfod\\lib\\site-packages\\torch\\autocast_mode.py:141: UserWarning: User provided device_type of 'cuda', but CUDA is not available. Disabling\n",
      "  warnings.warn('User provided device_type of \\'cuda\\', but CUDA is not available. Disabling')\n",
      "C:\\Users\\atefe\\Desktop\\tfo\\TFODCourse\\tfod\\lib\\site-packages\\torch\\autocast_mode.py:141: UserWarning: User provided device_type of 'cuda', but CUDA is not available. Disabling\n",
      "  warnings.warn('User provided device_type of \\'cuda\\', but CUDA is not available. Disabling')\n"
     ]
    },
    {
     "name": "stdout",
     "output_type": "stream",
     "text": [
      "144\n",
      "144\n"
     ]
    },
    {
     "name": "stderr",
     "output_type": "stream",
     "text": [
      "C:\\Users\\atefe\\Desktop\\tfo\\TFODCourse\\tfod\\lib\\site-packages\\torch\\autocast_mode.py:141: UserWarning: User provided device_type of 'cuda', but CUDA is not available. Disabling\n",
      "  warnings.warn('User provided device_type of \\'cuda\\', but CUDA is not available. Disabling')\n",
      "C:\\Users\\atefe\\Desktop\\tfo\\TFODCourse\\tfod\\lib\\site-packages\\torch\\autocast_mode.py:141: UserWarning: User provided device_type of 'cuda', but CUDA is not available. Disabling\n",
      "  warnings.warn('User provided device_type of \\'cuda\\', but CUDA is not available. Disabling')\n"
     ]
    },
    {
     "name": "stdout",
     "output_type": "stream",
     "text": [
      "145\n",
      "145\n"
     ]
    },
    {
     "name": "stderr",
     "output_type": "stream",
     "text": [
      "C:\\Users\\atefe\\Desktop\\tfo\\TFODCourse\\tfod\\lib\\site-packages\\torch\\autocast_mode.py:141: UserWarning: User provided device_type of 'cuda', but CUDA is not available. Disabling\n",
      "  warnings.warn('User provided device_type of \\'cuda\\', but CUDA is not available. Disabling')\n",
      "C:\\Users\\atefe\\Desktop\\tfo\\TFODCourse\\tfod\\lib\\site-packages\\torch\\autocast_mode.py:141: UserWarning: User provided device_type of 'cuda', but CUDA is not available. Disabling\n",
      "  warnings.warn('User provided device_type of \\'cuda\\', but CUDA is not available. Disabling')\n"
     ]
    },
    {
     "name": "stdout",
     "output_type": "stream",
     "text": [
      "146\n",
      "146\n"
     ]
    },
    {
     "name": "stderr",
     "output_type": "stream",
     "text": [
      "C:\\Users\\atefe\\Desktop\\tfo\\TFODCourse\\tfod\\lib\\site-packages\\torch\\autocast_mode.py:141: UserWarning: User provided device_type of 'cuda', but CUDA is not available. Disabling\n",
      "  warnings.warn('User provided device_type of \\'cuda\\', but CUDA is not available. Disabling')\n",
      "C:\\Users\\atefe\\Desktop\\tfo\\TFODCourse\\tfod\\lib\\site-packages\\torch\\autocast_mode.py:141: UserWarning: User provided device_type of 'cuda', but CUDA is not available. Disabling\n",
      "  warnings.warn('User provided device_type of \\'cuda\\', but CUDA is not available. Disabling')\n"
     ]
    },
    {
     "name": "stdout",
     "output_type": "stream",
     "text": [
      "147\n",
      "147\n"
     ]
    },
    {
     "name": "stderr",
     "output_type": "stream",
     "text": [
      "C:\\Users\\atefe\\Desktop\\tfo\\TFODCourse\\tfod\\lib\\site-packages\\torch\\autocast_mode.py:141: UserWarning: User provided device_type of 'cuda', but CUDA is not available. Disabling\n",
      "  warnings.warn('User provided device_type of \\'cuda\\', but CUDA is not available. Disabling')\n",
      "C:\\Users\\atefe\\Desktop\\tfo\\TFODCourse\\tfod\\lib\\site-packages\\torch\\autocast_mode.py:141: UserWarning: User provided device_type of 'cuda', but CUDA is not available. Disabling\n",
      "  warnings.warn('User provided device_type of \\'cuda\\', but CUDA is not available. Disabling')\n"
     ]
    },
    {
     "name": "stdout",
     "output_type": "stream",
     "text": [
      "148\n",
      "148\n"
     ]
    },
    {
     "name": "stderr",
     "output_type": "stream",
     "text": [
      "C:\\Users\\atefe\\Desktop\\tfo\\TFODCourse\\tfod\\lib\\site-packages\\torch\\autocast_mode.py:141: UserWarning: User provided device_type of 'cuda', but CUDA is not available. Disabling\n",
      "  warnings.warn('User provided device_type of \\'cuda\\', but CUDA is not available. Disabling')\n",
      "C:\\Users\\atefe\\Desktop\\tfo\\TFODCourse\\tfod\\lib\\site-packages\\torch\\autocast_mode.py:141: UserWarning: User provided device_type of 'cuda', but CUDA is not available. Disabling\n",
      "  warnings.warn('User provided device_type of \\'cuda\\', but CUDA is not available. Disabling')\n"
     ]
    },
    {
     "name": "stdout",
     "output_type": "stream",
     "text": [
      "149\n",
      "149\n"
     ]
    },
    {
     "name": "stderr",
     "output_type": "stream",
     "text": [
      "C:\\Users\\atefe\\Desktop\\tfo\\TFODCourse\\tfod\\lib\\site-packages\\torch\\autocast_mode.py:141: UserWarning: User provided device_type of 'cuda', but CUDA is not available. Disabling\n",
      "  warnings.warn('User provided device_type of \\'cuda\\', but CUDA is not available. Disabling')\n",
      "C:\\Users\\atefe\\Desktop\\tfo\\TFODCourse\\tfod\\lib\\site-packages\\torch\\autocast_mode.py:141: UserWarning: User provided device_type of 'cuda', but CUDA is not available. Disabling\n",
      "  warnings.warn('User provided device_type of \\'cuda\\', but CUDA is not available. Disabling')\n"
     ]
    },
    {
     "name": "stdout",
     "output_type": "stream",
     "text": [
      "150\n",
      "150\n"
     ]
    },
    {
     "name": "stderr",
     "output_type": "stream",
     "text": [
      "C:\\Users\\atefe\\Desktop\\tfo\\TFODCourse\\tfod\\lib\\site-packages\\torch\\autocast_mode.py:141: UserWarning: User provided device_type of 'cuda', but CUDA is not available. Disabling\n",
      "  warnings.warn('User provided device_type of \\'cuda\\', but CUDA is not available. Disabling')\n",
      "C:\\Users\\atefe\\Desktop\\tfo\\TFODCourse\\tfod\\lib\\site-packages\\torch\\autocast_mode.py:141: UserWarning: User provided device_type of 'cuda', but CUDA is not available. Disabling\n",
      "  warnings.warn('User provided device_type of \\'cuda\\', but CUDA is not available. Disabling')\n"
     ]
    },
    {
     "name": "stdout",
     "output_type": "stream",
     "text": [
      "151\n",
      "151\n"
     ]
    },
    {
     "name": "stderr",
     "output_type": "stream",
     "text": [
      "C:\\Users\\atefe\\Desktop\\tfo\\TFODCourse\\tfod\\lib\\site-packages\\torch\\autocast_mode.py:141: UserWarning: User provided device_type of 'cuda', but CUDA is not available. Disabling\n",
      "  warnings.warn('User provided device_type of \\'cuda\\', but CUDA is not available. Disabling')\n",
      "C:\\Users\\atefe\\Desktop\\tfo\\TFODCourse\\tfod\\lib\\site-packages\\torch\\autocast_mode.py:141: UserWarning: User provided device_type of 'cuda', but CUDA is not available. Disabling\n",
      "  warnings.warn('User provided device_type of \\'cuda\\', but CUDA is not available. Disabling')\n"
     ]
    },
    {
     "name": "stdout",
     "output_type": "stream",
     "text": [
      "152\n",
      "152\n"
     ]
    },
    {
     "name": "stderr",
     "output_type": "stream",
     "text": [
      "C:\\Users\\atefe\\Desktop\\tfo\\TFODCourse\\tfod\\lib\\site-packages\\torch\\autocast_mode.py:141: UserWarning: User provided device_type of 'cuda', but CUDA is not available. Disabling\n",
      "  warnings.warn('User provided device_type of \\'cuda\\', but CUDA is not available. Disabling')\n",
      "C:\\Users\\atefe\\Desktop\\tfo\\TFODCourse\\tfod\\lib\\site-packages\\torch\\autocast_mode.py:141: UserWarning: User provided device_type of 'cuda', but CUDA is not available. Disabling\n",
      "  warnings.warn('User provided device_type of \\'cuda\\', but CUDA is not available. Disabling')\n"
     ]
    },
    {
     "name": "stdout",
     "output_type": "stream",
     "text": [
      "153\n",
      "153\n"
     ]
    },
    {
     "name": "stderr",
     "output_type": "stream",
     "text": [
      "C:\\Users\\atefe\\Desktop\\tfo\\TFODCourse\\tfod\\lib\\site-packages\\torch\\autocast_mode.py:141: UserWarning: User provided device_type of 'cuda', but CUDA is not available. Disabling\n",
      "  warnings.warn('User provided device_type of \\'cuda\\', but CUDA is not available. Disabling')\n",
      "C:\\Users\\atefe\\Desktop\\tfo\\TFODCourse\\tfod\\lib\\site-packages\\torch\\autocast_mode.py:141: UserWarning: User provided device_type of 'cuda', but CUDA is not available. Disabling\n",
      "  warnings.warn('User provided device_type of \\'cuda\\', but CUDA is not available. Disabling')\n"
     ]
    },
    {
     "name": "stdout",
     "output_type": "stream",
     "text": [
      "154\n",
      "154\n"
     ]
    },
    {
     "name": "stderr",
     "output_type": "stream",
     "text": [
      "C:\\Users\\atefe\\Desktop\\tfo\\TFODCourse\\tfod\\lib\\site-packages\\torch\\autocast_mode.py:141: UserWarning: User provided device_type of 'cuda', but CUDA is not available. Disabling\n",
      "  warnings.warn('User provided device_type of \\'cuda\\', but CUDA is not available. Disabling')\n",
      "C:\\Users\\atefe\\Desktop\\tfo\\TFODCourse\\tfod\\lib\\site-packages\\torch\\autocast_mode.py:141: UserWarning: User provided device_type of 'cuda', but CUDA is not available. Disabling\n",
      "  warnings.warn('User provided device_type of \\'cuda\\', but CUDA is not available. Disabling')\n"
     ]
    },
    {
     "name": "stdout",
     "output_type": "stream",
     "text": [
      "155\n",
      "155\n"
     ]
    },
    {
     "name": "stderr",
     "output_type": "stream",
     "text": [
      "C:\\Users\\atefe\\Desktop\\tfo\\TFODCourse\\tfod\\lib\\site-packages\\torch\\autocast_mode.py:141: UserWarning: User provided device_type of 'cuda', but CUDA is not available. Disabling\n",
      "  warnings.warn('User provided device_type of \\'cuda\\', but CUDA is not available. Disabling')\n",
      "C:\\Users\\atefe\\Desktop\\tfo\\TFODCourse\\tfod\\lib\\site-packages\\torch\\autocast_mode.py:141: UserWarning: User provided device_type of 'cuda', but CUDA is not available. Disabling\n",
      "  warnings.warn('User provided device_type of \\'cuda\\', but CUDA is not available. Disabling')\n"
     ]
    },
    {
     "name": "stdout",
     "output_type": "stream",
     "text": [
      "156\n",
      "156\n"
     ]
    },
    {
     "name": "stderr",
     "output_type": "stream",
     "text": [
      "C:\\Users\\atefe\\Desktop\\tfo\\TFODCourse\\tfod\\lib\\site-packages\\torch\\autocast_mode.py:141: UserWarning: User provided device_type of 'cuda', but CUDA is not available. Disabling\n",
      "  warnings.warn('User provided device_type of \\'cuda\\', but CUDA is not available. Disabling')\n",
      "C:\\Users\\atefe\\Desktop\\tfo\\TFODCourse\\tfod\\lib\\site-packages\\torch\\autocast_mode.py:141: UserWarning: User provided device_type of 'cuda', but CUDA is not available. Disabling\n",
      "  warnings.warn('User provided device_type of \\'cuda\\', but CUDA is not available. Disabling')\n"
     ]
    },
    {
     "name": "stdout",
     "output_type": "stream",
     "text": [
      "157\n",
      "157\n"
     ]
    },
    {
     "name": "stderr",
     "output_type": "stream",
     "text": [
      "C:\\Users\\atefe\\Desktop\\tfo\\TFODCourse\\tfod\\lib\\site-packages\\torch\\autocast_mode.py:141: UserWarning: User provided device_type of 'cuda', but CUDA is not available. Disabling\n",
      "  warnings.warn('User provided device_type of \\'cuda\\', but CUDA is not available. Disabling')\n",
      "C:\\Users\\atefe\\Desktop\\tfo\\TFODCourse\\tfod\\lib\\site-packages\\torch\\autocast_mode.py:141: UserWarning: User provided device_type of 'cuda', but CUDA is not available. Disabling\n",
      "  warnings.warn('User provided device_type of \\'cuda\\', but CUDA is not available. Disabling')\n"
     ]
    },
    {
     "name": "stdout",
     "output_type": "stream",
     "text": [
      "158\n",
      "158\n"
     ]
    },
    {
     "name": "stderr",
     "output_type": "stream",
     "text": [
      "C:\\Users\\atefe\\Desktop\\tfo\\TFODCourse\\tfod\\lib\\site-packages\\torch\\autocast_mode.py:141: UserWarning: User provided device_type of 'cuda', but CUDA is not available. Disabling\n",
      "  warnings.warn('User provided device_type of \\'cuda\\', but CUDA is not available. Disabling')\n",
      "C:\\Users\\atefe\\Desktop\\tfo\\TFODCourse\\tfod\\lib\\site-packages\\torch\\autocast_mode.py:141: UserWarning: User provided device_type of 'cuda', but CUDA is not available. Disabling\n",
      "  warnings.warn('User provided device_type of \\'cuda\\', but CUDA is not available. Disabling')\n"
     ]
    },
    {
     "name": "stdout",
     "output_type": "stream",
     "text": [
      "159\n",
      "159\n"
     ]
    },
    {
     "name": "stderr",
     "output_type": "stream",
     "text": [
      "C:\\Users\\atefe\\Desktop\\tfo\\TFODCourse\\tfod\\lib\\site-packages\\torch\\autocast_mode.py:141: UserWarning: User provided device_type of 'cuda', but CUDA is not available. Disabling\n",
      "  warnings.warn('User provided device_type of \\'cuda\\', but CUDA is not available. Disabling')\n",
      "C:\\Users\\atefe\\Desktop\\tfo\\TFODCourse\\tfod\\lib\\site-packages\\torch\\autocast_mode.py:141: UserWarning: User provided device_type of 'cuda', but CUDA is not available. Disabling\n",
      "  warnings.warn('User provided device_type of \\'cuda\\', but CUDA is not available. Disabling')\n"
     ]
    },
    {
     "name": "stdout",
     "output_type": "stream",
     "text": [
      "160\n",
      "160\n"
     ]
    },
    {
     "name": "stderr",
     "output_type": "stream",
     "text": [
      "C:\\Users\\atefe\\Desktop\\tfo\\TFODCourse\\tfod\\lib\\site-packages\\torch\\autocast_mode.py:141: UserWarning: User provided device_type of 'cuda', but CUDA is not available. Disabling\n",
      "  warnings.warn('User provided device_type of \\'cuda\\', but CUDA is not available. Disabling')\n",
      "C:\\Users\\atefe\\Desktop\\tfo\\TFODCourse\\tfod\\lib\\site-packages\\torch\\autocast_mode.py:141: UserWarning: User provided device_type of 'cuda', but CUDA is not available. Disabling\n",
      "  warnings.warn('User provided device_type of \\'cuda\\', but CUDA is not available. Disabling')\n"
     ]
    },
    {
     "name": "stdout",
     "output_type": "stream",
     "text": [
      "161\n",
      "161\n"
     ]
    },
    {
     "name": "stderr",
     "output_type": "stream",
     "text": [
      "C:\\Users\\atefe\\Desktop\\tfo\\TFODCourse\\tfod\\lib\\site-packages\\torch\\autocast_mode.py:141: UserWarning: User provided device_type of 'cuda', but CUDA is not available. Disabling\n",
      "  warnings.warn('User provided device_type of \\'cuda\\', but CUDA is not available. Disabling')\n",
      "C:\\Users\\atefe\\Desktop\\tfo\\TFODCourse\\tfod\\lib\\site-packages\\torch\\autocast_mode.py:141: UserWarning: User provided device_type of 'cuda', but CUDA is not available. Disabling\n",
      "  warnings.warn('User provided device_type of \\'cuda\\', but CUDA is not available. Disabling')\n"
     ]
    },
    {
     "name": "stdout",
     "output_type": "stream",
     "text": [
      "162\n",
      "162\n"
     ]
    },
    {
     "name": "stderr",
     "output_type": "stream",
     "text": [
      "C:\\Users\\atefe\\Desktop\\tfo\\TFODCourse\\tfod\\lib\\site-packages\\torch\\autocast_mode.py:141: UserWarning: User provided device_type of 'cuda', but CUDA is not available. Disabling\n",
      "  warnings.warn('User provided device_type of \\'cuda\\', but CUDA is not available. Disabling')\n",
      "C:\\Users\\atefe\\Desktop\\tfo\\TFODCourse\\tfod\\lib\\site-packages\\torch\\autocast_mode.py:141: UserWarning: User provided device_type of 'cuda', but CUDA is not available. Disabling\n",
      "  warnings.warn('User provided device_type of \\'cuda\\', but CUDA is not available. Disabling')\n"
     ]
    },
    {
     "name": "stdout",
     "output_type": "stream",
     "text": [
      "163\n",
      "163\n"
     ]
    },
    {
     "name": "stderr",
     "output_type": "stream",
     "text": [
      "C:\\Users\\atefe\\Desktop\\tfo\\TFODCourse\\tfod\\lib\\site-packages\\torch\\autocast_mode.py:141: UserWarning: User provided device_type of 'cuda', but CUDA is not available. Disabling\n",
      "  warnings.warn('User provided device_type of \\'cuda\\', but CUDA is not available. Disabling')\n",
      "C:\\Users\\atefe\\Desktop\\tfo\\TFODCourse\\tfod\\lib\\site-packages\\torch\\autocast_mode.py:141: UserWarning: User provided device_type of 'cuda', but CUDA is not available. Disabling\n",
      "  warnings.warn('User provided device_type of \\'cuda\\', but CUDA is not available. Disabling')\n"
     ]
    },
    {
     "name": "stdout",
     "output_type": "stream",
     "text": [
      "164\n",
      "164\n"
     ]
    },
    {
     "name": "stderr",
     "output_type": "stream",
     "text": [
      "C:\\Users\\atefe\\Desktop\\tfo\\TFODCourse\\tfod\\lib\\site-packages\\torch\\autocast_mode.py:141: UserWarning: User provided device_type of 'cuda', but CUDA is not available. Disabling\n",
      "  warnings.warn('User provided device_type of \\'cuda\\', but CUDA is not available. Disabling')\n",
      "C:\\Users\\atefe\\Desktop\\tfo\\TFODCourse\\tfod\\lib\\site-packages\\torch\\autocast_mode.py:141: UserWarning: User provided device_type of 'cuda', but CUDA is not available. Disabling\n",
      "  warnings.warn('User provided device_type of \\'cuda\\', but CUDA is not available. Disabling')\n"
     ]
    },
    {
     "name": "stdout",
     "output_type": "stream",
     "text": [
      "165\n",
      "165\n"
     ]
    },
    {
     "name": "stderr",
     "output_type": "stream",
     "text": [
      "C:\\Users\\atefe\\Desktop\\tfo\\TFODCourse\\tfod\\lib\\site-packages\\torch\\autocast_mode.py:141: UserWarning: User provided device_type of 'cuda', but CUDA is not available. Disabling\n",
      "  warnings.warn('User provided device_type of \\'cuda\\', but CUDA is not available. Disabling')\n",
      "C:\\Users\\atefe\\Desktop\\tfo\\TFODCourse\\tfod\\lib\\site-packages\\torch\\autocast_mode.py:141: UserWarning: User provided device_type of 'cuda', but CUDA is not available. Disabling\n",
      "  warnings.warn('User provided device_type of \\'cuda\\', but CUDA is not available. Disabling')\n"
     ]
    },
    {
     "name": "stdout",
     "output_type": "stream",
     "text": [
      "166\n",
      "166\n"
     ]
    },
    {
     "name": "stderr",
     "output_type": "stream",
     "text": [
      "C:\\Users\\atefe\\Desktop\\tfo\\TFODCourse\\tfod\\lib\\site-packages\\torch\\autocast_mode.py:141: UserWarning: User provided device_type of 'cuda', but CUDA is not available. Disabling\n",
      "  warnings.warn('User provided device_type of \\'cuda\\', but CUDA is not available. Disabling')\n",
      "C:\\Users\\atefe\\Desktop\\tfo\\TFODCourse\\tfod\\lib\\site-packages\\torch\\autocast_mode.py:141: UserWarning: User provided device_type of 'cuda', but CUDA is not available. Disabling\n",
      "  warnings.warn('User provided device_type of \\'cuda\\', but CUDA is not available. Disabling')\n"
     ]
    },
    {
     "name": "stdout",
     "output_type": "stream",
     "text": [
      "167\n",
      "167\n"
     ]
    },
    {
     "name": "stderr",
     "output_type": "stream",
     "text": [
      "C:\\Users\\atefe\\Desktop\\tfo\\TFODCourse\\tfod\\lib\\site-packages\\torch\\autocast_mode.py:141: UserWarning: User provided device_type of 'cuda', but CUDA is not available. Disabling\n",
      "  warnings.warn('User provided device_type of \\'cuda\\', but CUDA is not available. Disabling')\n",
      "C:\\Users\\atefe\\Desktop\\tfo\\TFODCourse\\tfod\\lib\\site-packages\\torch\\autocast_mode.py:141: UserWarning: User provided device_type of 'cuda', but CUDA is not available. Disabling\n",
      "  warnings.warn('User provided device_type of \\'cuda\\', but CUDA is not available. Disabling')\n"
     ]
    },
    {
     "name": "stdout",
     "output_type": "stream",
     "text": [
      "168\n",
      "168\n"
     ]
    },
    {
     "name": "stderr",
     "output_type": "stream",
     "text": [
      "C:\\Users\\atefe\\Desktop\\tfo\\TFODCourse\\tfod\\lib\\site-packages\\torch\\autocast_mode.py:141: UserWarning: User provided device_type of 'cuda', but CUDA is not available. Disabling\n",
      "  warnings.warn('User provided device_type of \\'cuda\\', but CUDA is not available. Disabling')\n",
      "C:\\Users\\atefe\\Desktop\\tfo\\TFODCourse\\tfod\\lib\\site-packages\\torch\\autocast_mode.py:141: UserWarning: User provided device_type of 'cuda', but CUDA is not available. Disabling\n",
      "  warnings.warn('User provided device_type of \\'cuda\\', but CUDA is not available. Disabling')\n"
     ]
    },
    {
     "name": "stdout",
     "output_type": "stream",
     "text": [
      "169\n",
      "169\n"
     ]
    },
    {
     "name": "stderr",
     "output_type": "stream",
     "text": [
      "C:\\Users\\atefe\\Desktop\\tfo\\TFODCourse\\tfod\\lib\\site-packages\\torch\\autocast_mode.py:141: UserWarning: User provided device_type of 'cuda', but CUDA is not available. Disabling\n",
      "  warnings.warn('User provided device_type of \\'cuda\\', but CUDA is not available. Disabling')\n",
      "C:\\Users\\atefe\\Desktop\\tfo\\TFODCourse\\tfod\\lib\\site-packages\\torch\\autocast_mode.py:141: UserWarning: User provided device_type of 'cuda', but CUDA is not available. Disabling\n",
      "  warnings.warn('User provided device_type of \\'cuda\\', but CUDA is not available. Disabling')\n"
     ]
    },
    {
     "name": "stdout",
     "output_type": "stream",
     "text": [
      "170\n",
      "170\n"
     ]
    },
    {
     "name": "stderr",
     "output_type": "stream",
     "text": [
      "C:\\Users\\atefe\\Desktop\\tfo\\TFODCourse\\tfod\\lib\\site-packages\\torch\\autocast_mode.py:141: UserWarning: User provided device_type of 'cuda', but CUDA is not available. Disabling\n",
      "  warnings.warn('User provided device_type of \\'cuda\\', but CUDA is not available. Disabling')\n",
      "C:\\Users\\atefe\\Desktop\\tfo\\TFODCourse\\tfod\\lib\\site-packages\\torch\\autocast_mode.py:141: UserWarning: User provided device_type of 'cuda', but CUDA is not available. Disabling\n",
      "  warnings.warn('User provided device_type of \\'cuda\\', but CUDA is not available. Disabling')\n"
     ]
    },
    {
     "name": "stdout",
     "output_type": "stream",
     "text": [
      "171\n",
      "171\n"
     ]
    },
    {
     "name": "stderr",
     "output_type": "stream",
     "text": [
      "C:\\Users\\atefe\\Desktop\\tfo\\TFODCourse\\tfod\\lib\\site-packages\\torch\\autocast_mode.py:141: UserWarning: User provided device_type of 'cuda', but CUDA is not available. Disabling\n",
      "  warnings.warn('User provided device_type of \\'cuda\\', but CUDA is not available. Disabling')\n",
      "C:\\Users\\atefe\\Desktop\\tfo\\TFODCourse\\tfod\\lib\\site-packages\\torch\\autocast_mode.py:141: UserWarning: User provided device_type of 'cuda', but CUDA is not available. Disabling\n",
      "  warnings.warn('User provided device_type of \\'cuda\\', but CUDA is not available. Disabling')\n"
     ]
    },
    {
     "name": "stdout",
     "output_type": "stream",
     "text": [
      "172\n",
      "172\n"
     ]
    },
    {
     "name": "stderr",
     "output_type": "stream",
     "text": [
      "C:\\Users\\atefe\\Desktop\\tfo\\TFODCourse\\tfod\\lib\\site-packages\\torch\\autocast_mode.py:141: UserWarning: User provided device_type of 'cuda', but CUDA is not available. Disabling\n",
      "  warnings.warn('User provided device_type of \\'cuda\\', but CUDA is not available. Disabling')\n",
      "C:\\Users\\atefe\\Desktop\\tfo\\TFODCourse\\tfod\\lib\\site-packages\\torch\\autocast_mode.py:141: UserWarning: User provided device_type of 'cuda', but CUDA is not available. Disabling\n",
      "  warnings.warn('User provided device_type of \\'cuda\\', but CUDA is not available. Disabling')\n"
     ]
    },
    {
     "name": "stdout",
     "output_type": "stream",
     "text": [
      "173\n",
      "173\n"
     ]
    },
    {
     "name": "stderr",
     "output_type": "stream",
     "text": [
      "C:\\Users\\atefe\\Desktop\\tfo\\TFODCourse\\tfod\\lib\\site-packages\\torch\\autocast_mode.py:141: UserWarning: User provided device_type of 'cuda', but CUDA is not available. Disabling\n",
      "  warnings.warn('User provided device_type of \\'cuda\\', but CUDA is not available. Disabling')\n",
      "C:\\Users\\atefe\\Desktop\\tfo\\TFODCourse\\tfod\\lib\\site-packages\\torch\\autocast_mode.py:141: UserWarning: User provided device_type of 'cuda', but CUDA is not available. Disabling\n",
      "  warnings.warn('User provided device_type of \\'cuda\\', but CUDA is not available. Disabling')\n"
     ]
    },
    {
     "name": "stdout",
     "output_type": "stream",
     "text": [
      "174\n",
      "174\n"
     ]
    },
    {
     "name": "stderr",
     "output_type": "stream",
     "text": [
      "C:\\Users\\atefe\\Desktop\\tfo\\TFODCourse\\tfod\\lib\\site-packages\\torch\\autocast_mode.py:141: UserWarning: User provided device_type of 'cuda', but CUDA is not available. Disabling\n",
      "  warnings.warn('User provided device_type of \\'cuda\\', but CUDA is not available. Disabling')\n",
      "C:\\Users\\atefe\\Desktop\\tfo\\TFODCourse\\tfod\\lib\\site-packages\\torch\\autocast_mode.py:141: UserWarning: User provided device_type of 'cuda', but CUDA is not available. Disabling\n",
      "  warnings.warn('User provided device_type of \\'cuda\\', but CUDA is not available. Disabling')\n"
     ]
    },
    {
     "name": "stdout",
     "output_type": "stream",
     "text": [
      "175\n",
      "175\n"
     ]
    },
    {
     "name": "stderr",
     "output_type": "stream",
     "text": [
      "C:\\Users\\atefe\\Desktop\\tfo\\TFODCourse\\tfod\\lib\\site-packages\\torch\\autocast_mode.py:141: UserWarning: User provided device_type of 'cuda', but CUDA is not available. Disabling\n",
      "  warnings.warn('User provided device_type of \\'cuda\\', but CUDA is not available. Disabling')\n",
      "C:\\Users\\atefe\\Desktop\\tfo\\TFODCourse\\tfod\\lib\\site-packages\\torch\\autocast_mode.py:141: UserWarning: User provided device_type of 'cuda', but CUDA is not available. Disabling\n",
      "  warnings.warn('User provided device_type of \\'cuda\\', but CUDA is not available. Disabling')\n"
     ]
    },
    {
     "name": "stdout",
     "output_type": "stream",
     "text": [
      "176\n",
      "176\n"
     ]
    },
    {
     "name": "stderr",
     "output_type": "stream",
     "text": [
      "C:\\Users\\atefe\\Desktop\\tfo\\TFODCourse\\tfod\\lib\\site-packages\\torch\\autocast_mode.py:141: UserWarning: User provided device_type of 'cuda', but CUDA is not available. Disabling\n",
      "  warnings.warn('User provided device_type of \\'cuda\\', but CUDA is not available. Disabling')\n",
      "C:\\Users\\atefe\\Desktop\\tfo\\TFODCourse\\tfod\\lib\\site-packages\\torch\\autocast_mode.py:141: UserWarning: User provided device_type of 'cuda', but CUDA is not available. Disabling\n",
      "  warnings.warn('User provided device_type of \\'cuda\\', but CUDA is not available. Disabling')\n"
     ]
    },
    {
     "name": "stdout",
     "output_type": "stream",
     "text": [
      "177\n",
      "177\n"
     ]
    },
    {
     "name": "stderr",
     "output_type": "stream",
     "text": [
      "C:\\Users\\atefe\\Desktop\\tfo\\TFODCourse\\tfod\\lib\\site-packages\\torch\\autocast_mode.py:141: UserWarning: User provided device_type of 'cuda', but CUDA is not available. Disabling\n",
      "  warnings.warn('User provided device_type of \\'cuda\\', but CUDA is not available. Disabling')\n",
      "C:\\Users\\atefe\\Desktop\\tfo\\TFODCourse\\tfod\\lib\\site-packages\\torch\\autocast_mode.py:141: UserWarning: User provided device_type of 'cuda', but CUDA is not available. Disabling\n",
      "  warnings.warn('User provided device_type of \\'cuda\\', but CUDA is not available. Disabling')\n"
     ]
    },
    {
     "name": "stdout",
     "output_type": "stream",
     "text": [
      "178\n",
      "178\n"
     ]
    },
    {
     "name": "stderr",
     "output_type": "stream",
     "text": [
      "C:\\Users\\atefe\\Desktop\\tfo\\TFODCourse\\tfod\\lib\\site-packages\\torch\\autocast_mode.py:141: UserWarning: User provided device_type of 'cuda', but CUDA is not available. Disabling\n",
      "  warnings.warn('User provided device_type of \\'cuda\\', but CUDA is not available. Disabling')\n",
      "C:\\Users\\atefe\\Desktop\\tfo\\TFODCourse\\tfod\\lib\\site-packages\\torch\\autocast_mode.py:141: UserWarning: User provided device_type of 'cuda', but CUDA is not available. Disabling\n",
      "  warnings.warn('User provided device_type of \\'cuda\\', but CUDA is not available. Disabling')\n"
     ]
    },
    {
     "name": "stdout",
     "output_type": "stream",
     "text": [
      "179\n",
      "179\n"
     ]
    },
    {
     "name": "stderr",
     "output_type": "stream",
     "text": [
      "C:\\Users\\atefe\\Desktop\\tfo\\TFODCourse\\tfod\\lib\\site-packages\\torch\\autocast_mode.py:141: UserWarning: User provided device_type of 'cuda', but CUDA is not available. Disabling\n",
      "  warnings.warn('User provided device_type of \\'cuda\\', but CUDA is not available. Disabling')\n",
      "C:\\Users\\atefe\\Desktop\\tfo\\TFODCourse\\tfod\\lib\\site-packages\\torch\\autocast_mode.py:141: UserWarning: User provided device_type of 'cuda', but CUDA is not available. Disabling\n",
      "  warnings.warn('User provided device_type of \\'cuda\\', but CUDA is not available. Disabling')\n"
     ]
    },
    {
     "name": "stdout",
     "output_type": "stream",
     "text": [
      "180\n",
      "180\n"
     ]
    },
    {
     "name": "stderr",
     "output_type": "stream",
     "text": [
      "C:\\Users\\atefe\\Desktop\\tfo\\TFODCourse\\tfod\\lib\\site-packages\\torch\\autocast_mode.py:141: UserWarning: User provided device_type of 'cuda', but CUDA is not available. Disabling\n",
      "  warnings.warn('User provided device_type of \\'cuda\\', but CUDA is not available. Disabling')\n",
      "C:\\Users\\atefe\\Desktop\\tfo\\TFODCourse\\tfod\\lib\\site-packages\\torch\\autocast_mode.py:141: UserWarning: User provided device_type of 'cuda', but CUDA is not available. Disabling\n",
      "  warnings.warn('User provided device_type of \\'cuda\\', but CUDA is not available. Disabling')\n"
     ]
    },
    {
     "name": "stdout",
     "output_type": "stream",
     "text": [
      "181\n",
      "181\n"
     ]
    },
    {
     "name": "stderr",
     "output_type": "stream",
     "text": [
      "C:\\Users\\atefe\\Desktop\\tfo\\TFODCourse\\tfod\\lib\\site-packages\\torch\\autocast_mode.py:141: UserWarning: User provided device_type of 'cuda', but CUDA is not available. Disabling\n",
      "  warnings.warn('User provided device_type of \\'cuda\\', but CUDA is not available. Disabling')\n",
      "C:\\Users\\atefe\\Desktop\\tfo\\TFODCourse\\tfod\\lib\\site-packages\\torch\\autocast_mode.py:141: UserWarning: User provided device_type of 'cuda', but CUDA is not available. Disabling\n",
      "  warnings.warn('User provided device_type of \\'cuda\\', but CUDA is not available. Disabling')\n"
     ]
    },
    {
     "name": "stdout",
     "output_type": "stream",
     "text": [
      "182\n",
      "182\n"
     ]
    },
    {
     "name": "stderr",
     "output_type": "stream",
     "text": [
      "C:\\Users\\atefe\\Desktop\\tfo\\TFODCourse\\tfod\\lib\\site-packages\\torch\\autocast_mode.py:141: UserWarning: User provided device_type of 'cuda', but CUDA is not available. Disabling\n",
      "  warnings.warn('User provided device_type of \\'cuda\\', but CUDA is not available. Disabling')\n",
      "C:\\Users\\atefe\\Desktop\\tfo\\TFODCourse\\tfod\\lib\\site-packages\\torch\\autocast_mode.py:141: UserWarning: User provided device_type of 'cuda', but CUDA is not available. Disabling\n",
      "  warnings.warn('User provided device_type of \\'cuda\\', but CUDA is not available. Disabling')\n"
     ]
    },
    {
     "name": "stdout",
     "output_type": "stream",
     "text": [
      "183\n",
      "183\n"
     ]
    },
    {
     "name": "stderr",
     "output_type": "stream",
     "text": [
      "C:\\Users\\atefe\\Desktop\\tfo\\TFODCourse\\tfod\\lib\\site-packages\\torch\\autocast_mode.py:141: UserWarning: User provided device_type of 'cuda', but CUDA is not available. Disabling\n",
      "  warnings.warn('User provided device_type of \\'cuda\\', but CUDA is not available. Disabling')\n",
      "C:\\Users\\atefe\\Desktop\\tfo\\TFODCourse\\tfod\\lib\\site-packages\\torch\\autocast_mode.py:141: UserWarning: User provided device_type of 'cuda', but CUDA is not available. Disabling\n",
      "  warnings.warn('User provided device_type of \\'cuda\\', but CUDA is not available. Disabling')\n"
     ]
    },
    {
     "name": "stdout",
     "output_type": "stream",
     "text": [
      "184\n",
      "184\n"
     ]
    },
    {
     "name": "stderr",
     "output_type": "stream",
     "text": [
      "C:\\Users\\atefe\\Desktop\\tfo\\TFODCourse\\tfod\\lib\\site-packages\\torch\\autocast_mode.py:141: UserWarning: User provided device_type of 'cuda', but CUDA is not available. Disabling\n",
      "  warnings.warn('User provided device_type of \\'cuda\\', but CUDA is not available. Disabling')\n",
      "C:\\Users\\atefe\\Desktop\\tfo\\TFODCourse\\tfod\\lib\\site-packages\\torch\\autocast_mode.py:141: UserWarning: User provided device_type of 'cuda', but CUDA is not available. Disabling\n",
      "  warnings.warn('User provided device_type of \\'cuda\\', but CUDA is not available. Disabling')\n"
     ]
    },
    {
     "name": "stdout",
     "output_type": "stream",
     "text": [
      "185\n",
      "185\n"
     ]
    },
    {
     "name": "stderr",
     "output_type": "stream",
     "text": [
      "C:\\Users\\atefe\\Desktop\\tfo\\TFODCourse\\tfod\\lib\\site-packages\\torch\\autocast_mode.py:141: UserWarning: User provided device_type of 'cuda', but CUDA is not available. Disabling\n",
      "  warnings.warn('User provided device_type of \\'cuda\\', but CUDA is not available. Disabling')\n",
      "C:\\Users\\atefe\\Desktop\\tfo\\TFODCourse\\tfod\\lib\\site-packages\\torch\\autocast_mode.py:141: UserWarning: User provided device_type of 'cuda', but CUDA is not available. Disabling\n",
      "  warnings.warn('User provided device_type of \\'cuda\\', but CUDA is not available. Disabling')\n"
     ]
    },
    {
     "name": "stdout",
     "output_type": "stream",
     "text": [
      "186\n",
      "186\n"
     ]
    },
    {
     "name": "stderr",
     "output_type": "stream",
     "text": [
      "C:\\Users\\atefe\\Desktop\\tfo\\TFODCourse\\tfod\\lib\\site-packages\\torch\\autocast_mode.py:141: UserWarning: User provided device_type of 'cuda', but CUDA is not available. Disabling\n",
      "  warnings.warn('User provided device_type of \\'cuda\\', but CUDA is not available. Disabling')\n",
      "C:\\Users\\atefe\\Desktop\\tfo\\TFODCourse\\tfod\\lib\\site-packages\\torch\\autocast_mode.py:141: UserWarning: User provided device_type of 'cuda', but CUDA is not available. Disabling\n",
      "  warnings.warn('User provided device_type of \\'cuda\\', but CUDA is not available. Disabling')\n"
     ]
    },
    {
     "name": "stdout",
     "output_type": "stream",
     "text": [
      "187\n",
      "187\n"
     ]
    },
    {
     "name": "stderr",
     "output_type": "stream",
     "text": [
      "C:\\Users\\atefe\\Desktop\\tfo\\TFODCourse\\tfod\\lib\\site-packages\\torch\\autocast_mode.py:141: UserWarning: User provided device_type of 'cuda', but CUDA is not available. Disabling\n",
      "  warnings.warn('User provided device_type of \\'cuda\\', but CUDA is not available. Disabling')\n",
      "C:\\Users\\atefe\\Desktop\\tfo\\TFODCourse\\tfod\\lib\\site-packages\\torch\\autocast_mode.py:141: UserWarning: User provided device_type of 'cuda', but CUDA is not available. Disabling\n",
      "  warnings.warn('User provided device_type of \\'cuda\\', but CUDA is not available. Disabling')\n"
     ]
    },
    {
     "name": "stdout",
     "output_type": "stream",
     "text": [
      "188\n",
      "188\n"
     ]
    },
    {
     "name": "stderr",
     "output_type": "stream",
     "text": [
      "C:\\Users\\atefe\\Desktop\\tfo\\TFODCourse\\tfod\\lib\\site-packages\\torch\\autocast_mode.py:141: UserWarning: User provided device_type of 'cuda', but CUDA is not available. Disabling\n",
      "  warnings.warn('User provided device_type of \\'cuda\\', but CUDA is not available. Disabling')\n",
      "C:\\Users\\atefe\\Desktop\\tfo\\TFODCourse\\tfod\\lib\\site-packages\\torch\\autocast_mode.py:141: UserWarning: User provided device_type of 'cuda', but CUDA is not available. Disabling\n",
      "  warnings.warn('User provided device_type of \\'cuda\\', but CUDA is not available. Disabling')\n"
     ]
    },
    {
     "name": "stdout",
     "output_type": "stream",
     "text": [
      "189\n",
      "189\n"
     ]
    },
    {
     "name": "stderr",
     "output_type": "stream",
     "text": [
      "C:\\Users\\atefe\\Desktop\\tfo\\TFODCourse\\tfod\\lib\\site-packages\\torch\\autocast_mode.py:141: UserWarning: User provided device_type of 'cuda', but CUDA is not available. Disabling\n",
      "  warnings.warn('User provided device_type of \\'cuda\\', but CUDA is not available. Disabling')\n",
      "C:\\Users\\atefe\\Desktop\\tfo\\TFODCourse\\tfod\\lib\\site-packages\\torch\\autocast_mode.py:141: UserWarning: User provided device_type of 'cuda', but CUDA is not available. Disabling\n",
      "  warnings.warn('User provided device_type of \\'cuda\\', but CUDA is not available. Disabling')\n"
     ]
    },
    {
     "name": "stdout",
     "output_type": "stream",
     "text": [
      "190\n",
      "190\n"
     ]
    },
    {
     "name": "stderr",
     "output_type": "stream",
     "text": [
      "C:\\Users\\atefe\\Desktop\\tfo\\TFODCourse\\tfod\\lib\\site-packages\\torch\\autocast_mode.py:141: UserWarning: User provided device_type of 'cuda', but CUDA is not available. Disabling\n",
      "  warnings.warn('User provided device_type of \\'cuda\\', but CUDA is not available. Disabling')\n",
      "C:\\Users\\atefe\\Desktop\\tfo\\TFODCourse\\tfod\\lib\\site-packages\\torch\\autocast_mode.py:141: UserWarning: User provided device_type of 'cuda', but CUDA is not available. Disabling\n",
      "  warnings.warn('User provided device_type of \\'cuda\\', but CUDA is not available. Disabling')\n"
     ]
    },
    {
     "name": "stdout",
     "output_type": "stream",
     "text": [
      "191\n",
      "191\n"
     ]
    },
    {
     "name": "stderr",
     "output_type": "stream",
     "text": [
      "C:\\Users\\atefe\\Desktop\\tfo\\TFODCourse\\tfod\\lib\\site-packages\\torch\\autocast_mode.py:141: UserWarning: User provided device_type of 'cuda', but CUDA is not available. Disabling\n",
      "  warnings.warn('User provided device_type of \\'cuda\\', but CUDA is not available. Disabling')\n",
      "C:\\Users\\atefe\\Desktop\\tfo\\TFODCourse\\tfod\\lib\\site-packages\\torch\\autocast_mode.py:141: UserWarning: User provided device_type of 'cuda', but CUDA is not available. Disabling\n",
      "  warnings.warn('User provided device_type of \\'cuda\\', but CUDA is not available. Disabling')\n"
     ]
    },
    {
     "name": "stdout",
     "output_type": "stream",
     "text": [
      "192\n",
      "192\n"
     ]
    },
    {
     "name": "stderr",
     "output_type": "stream",
     "text": [
      "C:\\Users\\atefe\\Desktop\\tfo\\TFODCourse\\tfod\\lib\\site-packages\\torch\\autocast_mode.py:141: UserWarning: User provided device_type of 'cuda', but CUDA is not available. Disabling\n",
      "  warnings.warn('User provided device_type of \\'cuda\\', but CUDA is not available. Disabling')\n",
      "C:\\Users\\atefe\\Desktop\\tfo\\TFODCourse\\tfod\\lib\\site-packages\\torch\\autocast_mode.py:141: UserWarning: User provided device_type of 'cuda', but CUDA is not available. Disabling\n",
      "  warnings.warn('User provided device_type of \\'cuda\\', but CUDA is not available. Disabling')\n"
     ]
    },
    {
     "name": "stdout",
     "output_type": "stream",
     "text": [
      "193\n",
      "193\n"
     ]
    },
    {
     "name": "stderr",
     "output_type": "stream",
     "text": [
      "C:\\Users\\atefe\\Desktop\\tfo\\TFODCourse\\tfod\\lib\\site-packages\\torch\\autocast_mode.py:141: UserWarning: User provided device_type of 'cuda', but CUDA is not available. Disabling\n",
      "  warnings.warn('User provided device_type of \\'cuda\\', but CUDA is not available. Disabling')\n",
      "C:\\Users\\atefe\\Desktop\\tfo\\TFODCourse\\tfod\\lib\\site-packages\\torch\\autocast_mode.py:141: UserWarning: User provided device_type of 'cuda', but CUDA is not available. Disabling\n",
      "  warnings.warn('User provided device_type of \\'cuda\\', but CUDA is not available. Disabling')\n"
     ]
    },
    {
     "name": "stdout",
     "output_type": "stream",
     "text": [
      "194\n",
      "194\n"
     ]
    },
    {
     "name": "stderr",
     "output_type": "stream",
     "text": [
      "C:\\Users\\atefe\\Desktop\\tfo\\TFODCourse\\tfod\\lib\\site-packages\\torch\\autocast_mode.py:141: UserWarning: User provided device_type of 'cuda', but CUDA is not available. Disabling\n",
      "  warnings.warn('User provided device_type of \\'cuda\\', but CUDA is not available. Disabling')\n",
      "C:\\Users\\atefe\\Desktop\\tfo\\TFODCourse\\tfod\\lib\\site-packages\\torch\\autocast_mode.py:141: UserWarning: User provided device_type of 'cuda', but CUDA is not available. Disabling\n",
      "  warnings.warn('User provided device_type of \\'cuda\\', but CUDA is not available. Disabling')\n"
     ]
    },
    {
     "name": "stdout",
     "output_type": "stream",
     "text": [
      "195\n",
      "195\n"
     ]
    },
    {
     "name": "stderr",
     "output_type": "stream",
     "text": [
      "C:\\Users\\atefe\\Desktop\\tfo\\TFODCourse\\tfod\\lib\\site-packages\\torch\\autocast_mode.py:141: UserWarning: User provided device_type of 'cuda', but CUDA is not available. Disabling\n",
      "  warnings.warn('User provided device_type of \\'cuda\\', but CUDA is not available. Disabling')\n",
      "C:\\Users\\atefe\\Desktop\\tfo\\TFODCourse\\tfod\\lib\\site-packages\\torch\\autocast_mode.py:141: UserWarning: User provided device_type of 'cuda', but CUDA is not available. Disabling\n",
      "  warnings.warn('User provided device_type of \\'cuda\\', but CUDA is not available. Disabling')\n"
     ]
    },
    {
     "name": "stdout",
     "output_type": "stream",
     "text": [
      "196\n",
      "196\n"
     ]
    },
    {
     "name": "stderr",
     "output_type": "stream",
     "text": [
      "C:\\Users\\atefe\\Desktop\\tfo\\TFODCourse\\tfod\\lib\\site-packages\\torch\\autocast_mode.py:141: UserWarning: User provided device_type of 'cuda', but CUDA is not available. Disabling\n",
      "  warnings.warn('User provided device_type of \\'cuda\\', but CUDA is not available. Disabling')\n",
      "C:\\Users\\atefe\\Desktop\\tfo\\TFODCourse\\tfod\\lib\\site-packages\\torch\\autocast_mode.py:141: UserWarning: User provided device_type of 'cuda', but CUDA is not available. Disabling\n",
      "  warnings.warn('User provided device_type of \\'cuda\\', but CUDA is not available. Disabling')\n"
     ]
    },
    {
     "name": "stdout",
     "output_type": "stream",
     "text": [
      "197\n",
      "197\n"
     ]
    },
    {
     "name": "stderr",
     "output_type": "stream",
     "text": [
      "C:\\Users\\atefe\\Desktop\\tfo\\TFODCourse\\tfod\\lib\\site-packages\\torch\\autocast_mode.py:141: UserWarning: User provided device_type of 'cuda', but CUDA is not available. Disabling\n",
      "  warnings.warn('User provided device_type of \\'cuda\\', but CUDA is not available. Disabling')\n",
      "C:\\Users\\atefe\\Desktop\\tfo\\TFODCourse\\tfod\\lib\\site-packages\\torch\\autocast_mode.py:141: UserWarning: User provided device_type of 'cuda', but CUDA is not available. Disabling\n",
      "  warnings.warn('User provided device_type of \\'cuda\\', but CUDA is not available. Disabling')\n"
     ]
    },
    {
     "name": "stdout",
     "output_type": "stream",
     "text": [
      "198\n",
      "198\n"
     ]
    },
    {
     "name": "stderr",
     "output_type": "stream",
     "text": [
      "C:\\Users\\atefe\\Desktop\\tfo\\TFODCourse\\tfod\\lib\\site-packages\\torch\\autocast_mode.py:141: UserWarning: User provided device_type of 'cuda', but CUDA is not available. Disabling\n",
      "  warnings.warn('User provided device_type of \\'cuda\\', but CUDA is not available. Disabling')\n",
      "C:\\Users\\atefe\\Desktop\\tfo\\TFODCourse\\tfod\\lib\\site-packages\\torch\\autocast_mode.py:141: UserWarning: User provided device_type of 'cuda', but CUDA is not available. Disabling\n",
      "  warnings.warn('User provided device_type of \\'cuda\\', but CUDA is not available. Disabling')\n"
     ]
    },
    {
     "name": "stdout",
     "output_type": "stream",
     "text": [
      "199\n",
      "199\n"
     ]
    },
    {
     "name": "stderr",
     "output_type": "stream",
     "text": [
      "C:\\Users\\atefe\\Desktop\\tfo\\TFODCourse\\tfod\\lib\\site-packages\\torch\\autocast_mode.py:141: UserWarning: User provided device_type of 'cuda', but CUDA is not available. Disabling\n",
      "  warnings.warn('User provided device_type of \\'cuda\\', but CUDA is not available. Disabling')\n",
      "C:\\Users\\atefe\\Desktop\\tfo\\TFODCourse\\tfod\\lib\\site-packages\\torch\\autocast_mode.py:141: UserWarning: User provided device_type of 'cuda', but CUDA is not available. Disabling\n",
      "  warnings.warn('User provided device_type of \\'cuda\\', but CUDA is not available. Disabling')\n"
     ]
    },
    {
     "name": "stdout",
     "output_type": "stream",
     "text": [
      "200\n",
      "200\n"
     ]
    },
    {
     "name": "stderr",
     "output_type": "stream",
     "text": [
      "C:\\Users\\atefe\\Desktop\\tfo\\TFODCourse\\tfod\\lib\\site-packages\\torch\\autocast_mode.py:141: UserWarning: User provided device_type of 'cuda', but CUDA is not available. Disabling\n",
      "  warnings.warn('User provided device_type of \\'cuda\\', but CUDA is not available. Disabling')\n",
      "C:\\Users\\atefe\\Desktop\\tfo\\TFODCourse\\tfod\\lib\\site-packages\\torch\\autocast_mode.py:141: UserWarning: User provided device_type of 'cuda', but CUDA is not available. Disabling\n",
      "  warnings.warn('User provided device_type of \\'cuda\\', but CUDA is not available. Disabling')\n"
     ]
    },
    {
     "name": "stdout",
     "output_type": "stream",
     "text": [
      "201\n",
      "201\n"
     ]
    },
    {
     "name": "stderr",
     "output_type": "stream",
     "text": [
      "C:\\Users\\atefe\\Desktop\\tfo\\TFODCourse\\tfod\\lib\\site-packages\\torch\\autocast_mode.py:141: UserWarning: User provided device_type of 'cuda', but CUDA is not available. Disabling\n",
      "  warnings.warn('User provided device_type of \\'cuda\\', but CUDA is not available. Disabling')\n",
      "C:\\Users\\atefe\\Desktop\\tfo\\TFODCourse\\tfod\\lib\\site-packages\\torch\\autocast_mode.py:141: UserWarning: User provided device_type of 'cuda', but CUDA is not available. Disabling\n",
      "  warnings.warn('User provided device_type of \\'cuda\\', but CUDA is not available. Disabling')\n"
     ]
    },
    {
     "name": "stdout",
     "output_type": "stream",
     "text": [
      "202\n",
      "202\n"
     ]
    },
    {
     "name": "stderr",
     "output_type": "stream",
     "text": [
      "C:\\Users\\atefe\\Desktop\\tfo\\TFODCourse\\tfod\\lib\\site-packages\\torch\\autocast_mode.py:141: UserWarning: User provided device_type of 'cuda', but CUDA is not available. Disabling\n",
      "  warnings.warn('User provided device_type of \\'cuda\\', but CUDA is not available. Disabling')\n",
      "C:\\Users\\atefe\\Desktop\\tfo\\TFODCourse\\tfod\\lib\\site-packages\\torch\\autocast_mode.py:141: UserWarning: User provided device_type of 'cuda', but CUDA is not available. Disabling\n",
      "  warnings.warn('User provided device_type of \\'cuda\\', but CUDA is not available. Disabling')\n"
     ]
    },
    {
     "name": "stdout",
     "output_type": "stream",
     "text": [
      "203\n",
      "203\n"
     ]
    },
    {
     "name": "stderr",
     "output_type": "stream",
     "text": [
      "C:\\Users\\atefe\\Desktop\\tfo\\TFODCourse\\tfod\\lib\\site-packages\\torch\\autocast_mode.py:141: UserWarning: User provided device_type of 'cuda', but CUDA is not available. Disabling\n",
      "  warnings.warn('User provided device_type of \\'cuda\\', but CUDA is not available. Disabling')\n",
      "C:\\Users\\atefe\\Desktop\\tfo\\TFODCourse\\tfod\\lib\\site-packages\\torch\\autocast_mode.py:141: UserWarning: User provided device_type of 'cuda', but CUDA is not available. Disabling\n",
      "  warnings.warn('User provided device_type of \\'cuda\\', but CUDA is not available. Disabling')\n"
     ]
    },
    {
     "name": "stdout",
     "output_type": "stream",
     "text": [
      "204\n",
      "204\n"
     ]
    },
    {
     "name": "stderr",
     "output_type": "stream",
     "text": [
      "C:\\Users\\atefe\\Desktop\\tfo\\TFODCourse\\tfod\\lib\\site-packages\\torch\\autocast_mode.py:141: UserWarning: User provided device_type of 'cuda', but CUDA is not available. Disabling\n",
      "  warnings.warn('User provided device_type of \\'cuda\\', but CUDA is not available. Disabling')\n",
      "C:\\Users\\atefe\\Desktop\\tfo\\TFODCourse\\tfod\\lib\\site-packages\\torch\\autocast_mode.py:141: UserWarning: User provided device_type of 'cuda', but CUDA is not available. Disabling\n",
      "  warnings.warn('User provided device_type of \\'cuda\\', but CUDA is not available. Disabling')\n"
     ]
    },
    {
     "name": "stdout",
     "output_type": "stream",
     "text": [
      "205\n",
      "205\n"
     ]
    },
    {
     "name": "stderr",
     "output_type": "stream",
     "text": [
      "C:\\Users\\atefe\\Desktop\\tfo\\TFODCourse\\tfod\\lib\\site-packages\\torch\\autocast_mode.py:141: UserWarning: User provided device_type of 'cuda', but CUDA is not available. Disabling\n",
      "  warnings.warn('User provided device_type of \\'cuda\\', but CUDA is not available. Disabling')\n",
      "C:\\Users\\atefe\\Desktop\\tfo\\TFODCourse\\tfod\\lib\\site-packages\\torch\\autocast_mode.py:141: UserWarning: User provided device_type of 'cuda', but CUDA is not available. Disabling\n",
      "  warnings.warn('User provided device_type of \\'cuda\\', but CUDA is not available. Disabling')\n"
     ]
    },
    {
     "name": "stdout",
     "output_type": "stream",
     "text": [
      "206\n",
      "206\n"
     ]
    },
    {
     "name": "stderr",
     "output_type": "stream",
     "text": [
      "C:\\Users\\atefe\\Desktop\\tfo\\TFODCourse\\tfod\\lib\\site-packages\\torch\\autocast_mode.py:141: UserWarning: User provided device_type of 'cuda', but CUDA is not available. Disabling\n",
      "  warnings.warn('User provided device_type of \\'cuda\\', but CUDA is not available. Disabling')\n",
      "C:\\Users\\atefe\\Desktop\\tfo\\TFODCourse\\tfod\\lib\\site-packages\\torch\\autocast_mode.py:141: UserWarning: User provided device_type of 'cuda', but CUDA is not available. Disabling\n",
      "  warnings.warn('User provided device_type of \\'cuda\\', but CUDA is not available. Disabling')\n"
     ]
    },
    {
     "name": "stdout",
     "output_type": "stream",
     "text": [
      "207\n",
      "207\n"
     ]
    },
    {
     "name": "stderr",
     "output_type": "stream",
     "text": [
      "C:\\Users\\atefe\\Desktop\\tfo\\TFODCourse\\tfod\\lib\\site-packages\\torch\\autocast_mode.py:141: UserWarning: User provided device_type of 'cuda', but CUDA is not available. Disabling\n",
      "  warnings.warn('User provided device_type of \\'cuda\\', but CUDA is not available. Disabling')\n",
      "C:\\Users\\atefe\\Desktop\\tfo\\TFODCourse\\tfod\\lib\\site-packages\\torch\\autocast_mode.py:141: UserWarning: User provided device_type of 'cuda', but CUDA is not available. Disabling\n",
      "  warnings.warn('User provided device_type of \\'cuda\\', but CUDA is not available. Disabling')\n"
     ]
    },
    {
     "name": "stdout",
     "output_type": "stream",
     "text": [
      "208\n",
      "208\n"
     ]
    },
    {
     "name": "stderr",
     "output_type": "stream",
     "text": [
      "C:\\Users\\atefe\\Desktop\\tfo\\TFODCourse\\tfod\\lib\\site-packages\\torch\\autocast_mode.py:141: UserWarning: User provided device_type of 'cuda', but CUDA is not available. Disabling\n",
      "  warnings.warn('User provided device_type of \\'cuda\\', but CUDA is not available. Disabling')\n",
      "C:\\Users\\atefe\\Desktop\\tfo\\TFODCourse\\tfod\\lib\\site-packages\\torch\\autocast_mode.py:141: UserWarning: User provided device_type of 'cuda', but CUDA is not available. Disabling\n",
      "  warnings.warn('User provided device_type of \\'cuda\\', but CUDA is not available. Disabling')\n"
     ]
    },
    {
     "name": "stdout",
     "output_type": "stream",
     "text": [
      "209\n",
      "209\n"
     ]
    },
    {
     "name": "stderr",
     "output_type": "stream",
     "text": [
      "C:\\Users\\atefe\\Desktop\\tfo\\TFODCourse\\tfod\\lib\\site-packages\\torch\\autocast_mode.py:141: UserWarning: User provided device_type of 'cuda', but CUDA is not available. Disabling\n",
      "  warnings.warn('User provided device_type of \\'cuda\\', but CUDA is not available. Disabling')\n",
      "C:\\Users\\atefe\\Desktop\\tfo\\TFODCourse\\tfod\\lib\\site-packages\\torch\\autocast_mode.py:141: UserWarning: User provided device_type of 'cuda', but CUDA is not available. Disabling\n",
      "  warnings.warn('User provided device_type of \\'cuda\\', but CUDA is not available. Disabling')\n"
     ]
    },
    {
     "name": "stdout",
     "output_type": "stream",
     "text": [
      "210\n",
      "210\n"
     ]
    },
    {
     "name": "stderr",
     "output_type": "stream",
     "text": [
      "C:\\Users\\atefe\\Desktop\\tfo\\TFODCourse\\tfod\\lib\\site-packages\\torch\\autocast_mode.py:141: UserWarning: User provided device_type of 'cuda', but CUDA is not available. Disabling\n",
      "  warnings.warn('User provided device_type of \\'cuda\\', but CUDA is not available. Disabling')\n",
      "C:\\Users\\atefe\\Desktop\\tfo\\TFODCourse\\tfod\\lib\\site-packages\\torch\\autocast_mode.py:141: UserWarning: User provided device_type of 'cuda', but CUDA is not available. Disabling\n",
      "  warnings.warn('User provided device_type of \\'cuda\\', but CUDA is not available. Disabling')\n"
     ]
    },
    {
     "name": "stdout",
     "output_type": "stream",
     "text": [
      "211\n",
      "211\n"
     ]
    },
    {
     "name": "stderr",
     "output_type": "stream",
     "text": [
      "C:\\Users\\atefe\\Desktop\\tfo\\TFODCourse\\tfod\\lib\\site-packages\\torch\\autocast_mode.py:141: UserWarning: User provided device_type of 'cuda', but CUDA is not available. Disabling\n",
      "  warnings.warn('User provided device_type of \\'cuda\\', but CUDA is not available. Disabling')\n",
      "C:\\Users\\atefe\\Desktop\\tfo\\TFODCourse\\tfod\\lib\\site-packages\\torch\\autocast_mode.py:141: UserWarning: User provided device_type of 'cuda', but CUDA is not available. Disabling\n",
      "  warnings.warn('User provided device_type of \\'cuda\\', but CUDA is not available. Disabling')\n"
     ]
    },
    {
     "name": "stdout",
     "output_type": "stream",
     "text": [
      "212\n",
      "212\n"
     ]
    },
    {
     "name": "stderr",
     "output_type": "stream",
     "text": [
      "C:\\Users\\atefe\\Desktop\\tfo\\TFODCourse\\tfod\\lib\\site-packages\\torch\\autocast_mode.py:141: UserWarning: User provided device_type of 'cuda', but CUDA is not available. Disabling\n",
      "  warnings.warn('User provided device_type of \\'cuda\\', but CUDA is not available. Disabling')\n",
      "C:\\Users\\atefe\\Desktop\\tfo\\TFODCourse\\tfod\\lib\\site-packages\\torch\\autocast_mode.py:141: UserWarning: User provided device_type of 'cuda', but CUDA is not available. Disabling\n",
      "  warnings.warn('User provided device_type of \\'cuda\\', but CUDA is not available. Disabling')\n"
     ]
    },
    {
     "name": "stdout",
     "output_type": "stream",
     "text": [
      "213\n",
      "213\n"
     ]
    },
    {
     "name": "stderr",
     "output_type": "stream",
     "text": [
      "C:\\Users\\atefe\\Desktop\\tfo\\TFODCourse\\tfod\\lib\\site-packages\\torch\\autocast_mode.py:141: UserWarning: User provided device_type of 'cuda', but CUDA is not available. Disabling\n",
      "  warnings.warn('User provided device_type of \\'cuda\\', but CUDA is not available. Disabling')\n",
      "C:\\Users\\atefe\\Desktop\\tfo\\TFODCourse\\tfod\\lib\\site-packages\\torch\\autocast_mode.py:141: UserWarning: User provided device_type of 'cuda', but CUDA is not available. Disabling\n",
      "  warnings.warn('User provided device_type of \\'cuda\\', but CUDA is not available. Disabling')\n"
     ]
    },
    {
     "name": "stdout",
     "output_type": "stream",
     "text": [
      "214\n",
      "214\n"
     ]
    },
    {
     "name": "stderr",
     "output_type": "stream",
     "text": [
      "C:\\Users\\atefe\\Desktop\\tfo\\TFODCourse\\tfod\\lib\\site-packages\\torch\\autocast_mode.py:141: UserWarning: User provided device_type of 'cuda', but CUDA is not available. Disabling\n",
      "  warnings.warn('User provided device_type of \\'cuda\\', but CUDA is not available. Disabling')\n",
      "C:\\Users\\atefe\\Desktop\\tfo\\TFODCourse\\tfod\\lib\\site-packages\\torch\\autocast_mode.py:141: UserWarning: User provided device_type of 'cuda', but CUDA is not available. Disabling\n",
      "  warnings.warn('User provided device_type of \\'cuda\\', but CUDA is not available. Disabling')\n"
     ]
    },
    {
     "name": "stdout",
     "output_type": "stream",
     "text": [
      "215\n",
      "215\n"
     ]
    },
    {
     "name": "stderr",
     "output_type": "stream",
     "text": [
      "C:\\Users\\atefe\\Desktop\\tfo\\TFODCourse\\tfod\\lib\\site-packages\\torch\\autocast_mode.py:141: UserWarning: User provided device_type of 'cuda', but CUDA is not available. Disabling\n",
      "  warnings.warn('User provided device_type of \\'cuda\\', but CUDA is not available. Disabling')\n",
      "C:\\Users\\atefe\\Desktop\\tfo\\TFODCourse\\tfod\\lib\\site-packages\\torch\\autocast_mode.py:141: UserWarning: User provided device_type of 'cuda', but CUDA is not available. Disabling\n",
      "  warnings.warn('User provided device_type of \\'cuda\\', but CUDA is not available. Disabling')\n"
     ]
    },
    {
     "name": "stdout",
     "output_type": "stream",
     "text": [
      "216\n",
      "216\n"
     ]
    },
    {
     "name": "stderr",
     "output_type": "stream",
     "text": [
      "C:\\Users\\atefe\\Desktop\\tfo\\TFODCourse\\tfod\\lib\\site-packages\\torch\\autocast_mode.py:141: UserWarning: User provided device_type of 'cuda', but CUDA is not available. Disabling\n",
      "  warnings.warn('User provided device_type of \\'cuda\\', but CUDA is not available. Disabling')\n",
      "C:\\Users\\atefe\\Desktop\\tfo\\TFODCourse\\tfod\\lib\\site-packages\\torch\\autocast_mode.py:141: UserWarning: User provided device_type of 'cuda', but CUDA is not available. Disabling\n",
      "  warnings.warn('User provided device_type of \\'cuda\\', but CUDA is not available. Disabling')\n"
     ]
    },
    {
     "name": "stdout",
     "output_type": "stream",
     "text": [
      "217\n",
      "217\n"
     ]
    },
    {
     "name": "stderr",
     "output_type": "stream",
     "text": [
      "C:\\Users\\atefe\\Desktop\\tfo\\TFODCourse\\tfod\\lib\\site-packages\\torch\\autocast_mode.py:141: UserWarning: User provided device_type of 'cuda', but CUDA is not available. Disabling\n",
      "  warnings.warn('User provided device_type of \\'cuda\\', but CUDA is not available. Disabling')\n",
      "C:\\Users\\atefe\\Desktop\\tfo\\TFODCourse\\tfod\\lib\\site-packages\\torch\\autocast_mode.py:141: UserWarning: User provided device_type of 'cuda', but CUDA is not available. Disabling\n",
      "  warnings.warn('User provided device_type of \\'cuda\\', but CUDA is not available. Disabling')\n"
     ]
    },
    {
     "name": "stdout",
     "output_type": "stream",
     "text": [
      "218\n",
      "218\n"
     ]
    },
    {
     "name": "stderr",
     "output_type": "stream",
     "text": [
      "C:\\Users\\atefe\\Desktop\\tfo\\TFODCourse\\tfod\\lib\\site-packages\\torch\\autocast_mode.py:141: UserWarning: User provided device_type of 'cuda', but CUDA is not available. Disabling\n",
      "  warnings.warn('User provided device_type of \\'cuda\\', but CUDA is not available. Disabling')\n",
      "C:\\Users\\atefe\\Desktop\\tfo\\TFODCourse\\tfod\\lib\\site-packages\\torch\\autocast_mode.py:141: UserWarning: User provided device_type of 'cuda', but CUDA is not available. Disabling\n",
      "  warnings.warn('User provided device_type of \\'cuda\\', but CUDA is not available. Disabling')\n"
     ]
    },
    {
     "name": "stdout",
     "output_type": "stream",
     "text": [
      "219\n",
      "219\n"
     ]
    },
    {
     "name": "stderr",
     "output_type": "stream",
     "text": [
      "C:\\Users\\atefe\\Desktop\\tfo\\TFODCourse\\tfod\\lib\\site-packages\\torch\\autocast_mode.py:141: UserWarning: User provided device_type of 'cuda', but CUDA is not available. Disabling\n",
      "  warnings.warn('User provided device_type of \\'cuda\\', but CUDA is not available. Disabling')\n",
      "C:\\Users\\atefe\\Desktop\\tfo\\TFODCourse\\tfod\\lib\\site-packages\\torch\\autocast_mode.py:141: UserWarning: User provided device_type of 'cuda', but CUDA is not available. Disabling\n",
      "  warnings.warn('User provided device_type of \\'cuda\\', but CUDA is not available. Disabling')\n"
     ]
    },
    {
     "name": "stdout",
     "output_type": "stream",
     "text": [
      "220\n",
      "220\n"
     ]
    },
    {
     "name": "stderr",
     "output_type": "stream",
     "text": [
      "C:\\Users\\atefe\\Desktop\\tfo\\TFODCourse\\tfod\\lib\\site-packages\\torch\\autocast_mode.py:141: UserWarning: User provided device_type of 'cuda', but CUDA is not available. Disabling\n",
      "  warnings.warn('User provided device_type of \\'cuda\\', but CUDA is not available. Disabling')\n",
      "C:\\Users\\atefe\\Desktop\\tfo\\TFODCourse\\tfod\\lib\\site-packages\\torch\\autocast_mode.py:141: UserWarning: User provided device_type of 'cuda', but CUDA is not available. Disabling\n",
      "  warnings.warn('User provided device_type of \\'cuda\\', but CUDA is not available. Disabling')\n"
     ]
    },
    {
     "name": "stdout",
     "output_type": "stream",
     "text": [
      "221\n",
      "221\n"
     ]
    },
    {
     "name": "stderr",
     "output_type": "stream",
     "text": [
      "C:\\Users\\atefe\\Desktop\\tfo\\TFODCourse\\tfod\\lib\\site-packages\\torch\\autocast_mode.py:141: UserWarning: User provided device_type of 'cuda', but CUDA is not available. Disabling\n",
      "  warnings.warn('User provided device_type of \\'cuda\\', but CUDA is not available. Disabling')\n",
      "C:\\Users\\atefe\\Desktop\\tfo\\TFODCourse\\tfod\\lib\\site-packages\\torch\\autocast_mode.py:141: UserWarning: User provided device_type of 'cuda', but CUDA is not available. Disabling\n",
      "  warnings.warn('User provided device_type of \\'cuda\\', but CUDA is not available. Disabling')\n"
     ]
    },
    {
     "name": "stdout",
     "output_type": "stream",
     "text": [
      "222\n",
      "222\n"
     ]
    },
    {
     "name": "stderr",
     "output_type": "stream",
     "text": [
      "C:\\Users\\atefe\\Desktop\\tfo\\TFODCourse\\tfod\\lib\\site-packages\\torch\\autocast_mode.py:141: UserWarning: User provided device_type of 'cuda', but CUDA is not available. Disabling\n",
      "  warnings.warn('User provided device_type of \\'cuda\\', but CUDA is not available. Disabling')\n",
      "C:\\Users\\atefe\\Desktop\\tfo\\TFODCourse\\tfod\\lib\\site-packages\\torch\\autocast_mode.py:141: UserWarning: User provided device_type of 'cuda', but CUDA is not available. Disabling\n",
      "  warnings.warn('User provided device_type of \\'cuda\\', but CUDA is not available. Disabling')\n"
     ]
    },
    {
     "name": "stdout",
     "output_type": "stream",
     "text": [
      "223\n",
      "223\n"
     ]
    },
    {
     "name": "stderr",
     "output_type": "stream",
     "text": [
      "C:\\Users\\atefe\\Desktop\\tfo\\TFODCourse\\tfod\\lib\\site-packages\\torch\\autocast_mode.py:141: UserWarning: User provided device_type of 'cuda', but CUDA is not available. Disabling\n",
      "  warnings.warn('User provided device_type of \\'cuda\\', but CUDA is not available. Disabling')\n",
      "C:\\Users\\atefe\\Desktop\\tfo\\TFODCourse\\tfod\\lib\\site-packages\\torch\\autocast_mode.py:141: UserWarning: User provided device_type of 'cuda', but CUDA is not available. Disabling\n",
      "  warnings.warn('User provided device_type of \\'cuda\\', but CUDA is not available. Disabling')\n"
     ]
    },
    {
     "name": "stdout",
     "output_type": "stream",
     "text": [
      "224\n",
      "224\n"
     ]
    },
    {
     "name": "stderr",
     "output_type": "stream",
     "text": [
      "C:\\Users\\atefe\\Desktop\\tfo\\TFODCourse\\tfod\\lib\\site-packages\\torch\\autocast_mode.py:141: UserWarning: User provided device_type of 'cuda', but CUDA is not available. Disabling\n",
      "  warnings.warn('User provided device_type of \\'cuda\\', but CUDA is not available. Disabling')\n",
      "C:\\Users\\atefe\\Desktop\\tfo\\TFODCourse\\tfod\\lib\\site-packages\\torch\\autocast_mode.py:141: UserWarning: User provided device_type of 'cuda', but CUDA is not available. Disabling\n",
      "  warnings.warn('User provided device_type of \\'cuda\\', but CUDA is not available. Disabling')\n"
     ]
    },
    {
     "name": "stdout",
     "output_type": "stream",
     "text": [
      "225\n",
      "225\n"
     ]
    },
    {
     "name": "stderr",
     "output_type": "stream",
     "text": [
      "C:\\Users\\atefe\\Desktop\\tfo\\TFODCourse\\tfod\\lib\\site-packages\\torch\\autocast_mode.py:141: UserWarning: User provided device_type of 'cuda', but CUDA is not available. Disabling\n",
      "  warnings.warn('User provided device_type of \\'cuda\\', but CUDA is not available. Disabling')\n",
      "C:\\Users\\atefe\\Desktop\\tfo\\TFODCourse\\tfod\\lib\\site-packages\\torch\\autocast_mode.py:141: UserWarning: User provided device_type of 'cuda', but CUDA is not available. Disabling\n",
      "  warnings.warn('User provided device_type of \\'cuda\\', but CUDA is not available. Disabling')\n"
     ]
    },
    {
     "name": "stdout",
     "output_type": "stream",
     "text": [
      "226\n",
      "226\n"
     ]
    },
    {
     "name": "stderr",
     "output_type": "stream",
     "text": [
      "C:\\Users\\atefe\\Desktop\\tfo\\TFODCourse\\tfod\\lib\\site-packages\\torch\\autocast_mode.py:141: UserWarning: User provided device_type of 'cuda', but CUDA is not available. Disabling\n",
      "  warnings.warn('User provided device_type of \\'cuda\\', but CUDA is not available. Disabling')\n",
      "C:\\Users\\atefe\\Desktop\\tfo\\TFODCourse\\tfod\\lib\\site-packages\\torch\\autocast_mode.py:141: UserWarning: User provided device_type of 'cuda', but CUDA is not available. Disabling\n",
      "  warnings.warn('User provided device_type of \\'cuda\\', but CUDA is not available. Disabling')\n"
     ]
    },
    {
     "name": "stdout",
     "output_type": "stream",
     "text": [
      "227\n",
      "227\n"
     ]
    },
    {
     "name": "stderr",
     "output_type": "stream",
     "text": [
      "C:\\Users\\atefe\\Desktop\\tfo\\TFODCourse\\tfod\\lib\\site-packages\\torch\\autocast_mode.py:141: UserWarning: User provided device_type of 'cuda', but CUDA is not available. Disabling\n",
      "  warnings.warn('User provided device_type of \\'cuda\\', but CUDA is not available. Disabling')\n",
      "C:\\Users\\atefe\\Desktop\\tfo\\TFODCourse\\tfod\\lib\\site-packages\\torch\\autocast_mode.py:141: UserWarning: User provided device_type of 'cuda', but CUDA is not available. Disabling\n",
      "  warnings.warn('User provided device_type of \\'cuda\\', but CUDA is not available. Disabling')\n"
     ]
    },
    {
     "name": "stdout",
     "output_type": "stream",
     "text": [
      "228\n",
      "228\n"
     ]
    },
    {
     "name": "stderr",
     "output_type": "stream",
     "text": [
      "C:\\Users\\atefe\\Desktop\\tfo\\TFODCourse\\tfod\\lib\\site-packages\\torch\\autocast_mode.py:141: UserWarning: User provided device_type of 'cuda', but CUDA is not available. Disabling\n",
      "  warnings.warn('User provided device_type of \\'cuda\\', but CUDA is not available. Disabling')\n",
      "C:\\Users\\atefe\\Desktop\\tfo\\TFODCourse\\tfod\\lib\\site-packages\\torch\\autocast_mode.py:141: UserWarning: User provided device_type of 'cuda', but CUDA is not available. Disabling\n",
      "  warnings.warn('User provided device_type of \\'cuda\\', but CUDA is not available. Disabling')\n"
     ]
    },
    {
     "name": "stdout",
     "output_type": "stream",
     "text": [
      "229\n",
      "229\n"
     ]
    },
    {
     "name": "stderr",
     "output_type": "stream",
     "text": [
      "C:\\Users\\atefe\\Desktop\\tfo\\TFODCourse\\tfod\\lib\\site-packages\\torch\\autocast_mode.py:141: UserWarning: User provided device_type of 'cuda', but CUDA is not available. Disabling\n",
      "  warnings.warn('User provided device_type of \\'cuda\\', but CUDA is not available. Disabling')\n",
      "C:\\Users\\atefe\\Desktop\\tfo\\TFODCourse\\tfod\\lib\\site-packages\\torch\\autocast_mode.py:141: UserWarning: User provided device_type of 'cuda', but CUDA is not available. Disabling\n",
      "  warnings.warn('User provided device_type of \\'cuda\\', but CUDA is not available. Disabling')\n"
     ]
    },
    {
     "name": "stdout",
     "output_type": "stream",
     "text": [
      "230\n",
      "230\n"
     ]
    },
    {
     "name": "stderr",
     "output_type": "stream",
     "text": [
      "C:\\Users\\atefe\\Desktop\\tfo\\TFODCourse\\tfod\\lib\\site-packages\\torch\\autocast_mode.py:141: UserWarning: User provided device_type of 'cuda', but CUDA is not available. Disabling\n",
      "  warnings.warn('User provided device_type of \\'cuda\\', but CUDA is not available. Disabling')\n",
      "C:\\Users\\atefe\\Desktop\\tfo\\TFODCourse\\tfod\\lib\\site-packages\\torch\\autocast_mode.py:141: UserWarning: User provided device_type of 'cuda', but CUDA is not available. Disabling\n",
      "  warnings.warn('User provided device_type of \\'cuda\\', but CUDA is not available. Disabling')\n"
     ]
    },
    {
     "name": "stdout",
     "output_type": "stream",
     "text": [
      "231\n",
      "231\n"
     ]
    },
    {
     "name": "stderr",
     "output_type": "stream",
     "text": [
      "C:\\Users\\atefe\\Desktop\\tfo\\TFODCourse\\tfod\\lib\\site-packages\\torch\\autocast_mode.py:141: UserWarning: User provided device_type of 'cuda', but CUDA is not available. Disabling\n",
      "  warnings.warn('User provided device_type of \\'cuda\\', but CUDA is not available. Disabling')\n",
      "C:\\Users\\atefe\\Desktop\\tfo\\TFODCourse\\tfod\\lib\\site-packages\\torch\\autocast_mode.py:141: UserWarning: User provided device_type of 'cuda', but CUDA is not available. Disabling\n",
      "  warnings.warn('User provided device_type of \\'cuda\\', but CUDA is not available. Disabling')\n"
     ]
    },
    {
     "name": "stdout",
     "output_type": "stream",
     "text": [
      "232\n",
      "232\n"
     ]
    },
    {
     "name": "stderr",
     "output_type": "stream",
     "text": [
      "C:\\Users\\atefe\\Desktop\\tfo\\TFODCourse\\tfod\\lib\\site-packages\\torch\\autocast_mode.py:141: UserWarning: User provided device_type of 'cuda', but CUDA is not available. Disabling\n",
      "  warnings.warn('User provided device_type of \\'cuda\\', but CUDA is not available. Disabling')\n",
      "C:\\Users\\atefe\\Desktop\\tfo\\TFODCourse\\tfod\\lib\\site-packages\\torch\\autocast_mode.py:141: UserWarning: User provided device_type of 'cuda', but CUDA is not available. Disabling\n",
      "  warnings.warn('User provided device_type of \\'cuda\\', but CUDA is not available. Disabling')\n"
     ]
    },
    {
     "name": "stdout",
     "output_type": "stream",
     "text": [
      "233\n",
      "233\n"
     ]
    },
    {
     "name": "stderr",
     "output_type": "stream",
     "text": [
      "C:\\Users\\atefe\\Desktop\\tfo\\TFODCourse\\tfod\\lib\\site-packages\\torch\\autocast_mode.py:141: UserWarning: User provided device_type of 'cuda', but CUDA is not available. Disabling\n",
      "  warnings.warn('User provided device_type of \\'cuda\\', but CUDA is not available. Disabling')\n",
      "C:\\Users\\atefe\\Desktop\\tfo\\TFODCourse\\tfod\\lib\\site-packages\\torch\\autocast_mode.py:141: UserWarning: User provided device_type of 'cuda', but CUDA is not available. Disabling\n",
      "  warnings.warn('User provided device_type of \\'cuda\\', but CUDA is not available. Disabling')\n"
     ]
    },
    {
     "name": "stdout",
     "output_type": "stream",
     "text": [
      "234\n",
      "234\n"
     ]
    },
    {
     "name": "stderr",
     "output_type": "stream",
     "text": [
      "C:\\Users\\atefe\\Desktop\\tfo\\TFODCourse\\tfod\\lib\\site-packages\\torch\\autocast_mode.py:141: UserWarning: User provided device_type of 'cuda', but CUDA is not available. Disabling\n",
      "  warnings.warn('User provided device_type of \\'cuda\\', but CUDA is not available. Disabling')\n",
      "C:\\Users\\atefe\\Desktop\\tfo\\TFODCourse\\tfod\\lib\\site-packages\\torch\\autocast_mode.py:141: UserWarning: User provided device_type of 'cuda', but CUDA is not available. Disabling\n",
      "  warnings.warn('User provided device_type of \\'cuda\\', but CUDA is not available. Disabling')\n"
     ]
    },
    {
     "name": "stdout",
     "output_type": "stream",
     "text": [
      "235\n",
      "235\n"
     ]
    },
    {
     "name": "stderr",
     "output_type": "stream",
     "text": [
      "C:\\Users\\atefe\\Desktop\\tfo\\TFODCourse\\tfod\\lib\\site-packages\\torch\\autocast_mode.py:141: UserWarning: User provided device_type of 'cuda', but CUDA is not available. Disabling\n",
      "  warnings.warn('User provided device_type of \\'cuda\\', but CUDA is not available. Disabling')\n",
      "C:\\Users\\atefe\\Desktop\\tfo\\TFODCourse\\tfod\\lib\\site-packages\\torch\\autocast_mode.py:141: UserWarning: User provided device_type of 'cuda', but CUDA is not available. Disabling\n",
      "  warnings.warn('User provided device_type of \\'cuda\\', but CUDA is not available. Disabling')\n"
     ]
    },
    {
     "name": "stdout",
     "output_type": "stream",
     "text": [
      "236\n",
      "236\n"
     ]
    },
    {
     "name": "stderr",
     "output_type": "stream",
     "text": [
      "C:\\Users\\atefe\\Desktop\\tfo\\TFODCourse\\tfod\\lib\\site-packages\\torch\\autocast_mode.py:141: UserWarning: User provided device_type of 'cuda', but CUDA is not available. Disabling\n",
      "  warnings.warn('User provided device_type of \\'cuda\\', but CUDA is not available. Disabling')\n",
      "C:\\Users\\atefe\\Desktop\\tfo\\TFODCourse\\tfod\\lib\\site-packages\\torch\\autocast_mode.py:141: UserWarning: User provided device_type of 'cuda', but CUDA is not available. Disabling\n",
      "  warnings.warn('User provided device_type of \\'cuda\\', but CUDA is not available. Disabling')\n"
     ]
    },
    {
     "name": "stdout",
     "output_type": "stream",
     "text": [
      "237\n",
      "237\n"
     ]
    },
    {
     "name": "stderr",
     "output_type": "stream",
     "text": [
      "C:\\Users\\atefe\\Desktop\\tfo\\TFODCourse\\tfod\\lib\\site-packages\\torch\\autocast_mode.py:141: UserWarning: User provided device_type of 'cuda', but CUDA is not available. Disabling\n",
      "  warnings.warn('User provided device_type of \\'cuda\\', but CUDA is not available. Disabling')\n",
      "C:\\Users\\atefe\\Desktop\\tfo\\TFODCourse\\tfod\\lib\\site-packages\\torch\\autocast_mode.py:141: UserWarning: User provided device_type of 'cuda', but CUDA is not available. Disabling\n",
      "  warnings.warn('User provided device_type of \\'cuda\\', but CUDA is not available. Disabling')\n"
     ]
    },
    {
     "name": "stdout",
     "output_type": "stream",
     "text": [
      "238\n",
      "238\n"
     ]
    },
    {
     "name": "stderr",
     "output_type": "stream",
     "text": [
      "C:\\Users\\atefe\\Desktop\\tfo\\TFODCourse\\tfod\\lib\\site-packages\\torch\\autocast_mode.py:141: UserWarning: User provided device_type of 'cuda', but CUDA is not available. Disabling\n",
      "  warnings.warn('User provided device_type of \\'cuda\\', but CUDA is not available. Disabling')\n",
      "C:\\Users\\atefe\\Desktop\\tfo\\TFODCourse\\tfod\\lib\\site-packages\\torch\\autocast_mode.py:141: UserWarning: User provided device_type of 'cuda', but CUDA is not available. Disabling\n",
      "  warnings.warn('User provided device_type of \\'cuda\\', but CUDA is not available. Disabling')\n"
     ]
    },
    {
     "name": "stdout",
     "output_type": "stream",
     "text": [
      "239\n",
      "239\n"
     ]
    },
    {
     "name": "stderr",
     "output_type": "stream",
     "text": [
      "C:\\Users\\atefe\\Desktop\\tfo\\TFODCourse\\tfod\\lib\\site-packages\\torch\\autocast_mode.py:141: UserWarning: User provided device_type of 'cuda', but CUDA is not available. Disabling\n",
      "  warnings.warn('User provided device_type of \\'cuda\\', but CUDA is not available. Disabling')\n",
      "C:\\Users\\atefe\\Desktop\\tfo\\TFODCourse\\tfod\\lib\\site-packages\\torch\\autocast_mode.py:141: UserWarning: User provided device_type of 'cuda', but CUDA is not available. Disabling\n",
      "  warnings.warn('User provided device_type of \\'cuda\\', but CUDA is not available. Disabling')\n"
     ]
    },
    {
     "name": "stdout",
     "output_type": "stream",
     "text": [
      "240\n",
      "240\n"
     ]
    },
    {
     "name": "stderr",
     "output_type": "stream",
     "text": [
      "C:\\Users\\atefe\\Desktop\\tfo\\TFODCourse\\tfod\\lib\\site-packages\\torch\\autocast_mode.py:141: UserWarning: User provided device_type of 'cuda', but CUDA is not available. Disabling\n",
      "  warnings.warn('User provided device_type of \\'cuda\\', but CUDA is not available. Disabling')\n",
      "C:\\Users\\atefe\\Desktop\\tfo\\TFODCourse\\tfod\\lib\\site-packages\\torch\\autocast_mode.py:141: UserWarning: User provided device_type of 'cuda', but CUDA is not available. Disabling\n",
      "  warnings.warn('User provided device_type of \\'cuda\\', but CUDA is not available. Disabling')\n"
     ]
    },
    {
     "name": "stdout",
     "output_type": "stream",
     "text": [
      "241\n",
      "241\n"
     ]
    },
    {
     "name": "stderr",
     "output_type": "stream",
     "text": [
      "C:\\Users\\atefe\\Desktop\\tfo\\TFODCourse\\tfod\\lib\\site-packages\\torch\\autocast_mode.py:141: UserWarning: User provided device_type of 'cuda', but CUDA is not available. Disabling\n",
      "  warnings.warn('User provided device_type of \\'cuda\\', but CUDA is not available. Disabling')\n",
      "C:\\Users\\atefe\\Desktop\\tfo\\TFODCourse\\tfod\\lib\\site-packages\\torch\\autocast_mode.py:141: UserWarning: User provided device_type of 'cuda', but CUDA is not available. Disabling\n",
      "  warnings.warn('User provided device_type of \\'cuda\\', but CUDA is not available. Disabling')\n"
     ]
    },
    {
     "name": "stdout",
     "output_type": "stream",
     "text": [
      "242\n",
      "242\n"
     ]
    },
    {
     "name": "stderr",
     "output_type": "stream",
     "text": [
      "C:\\Users\\atefe\\Desktop\\tfo\\TFODCourse\\tfod\\lib\\site-packages\\torch\\autocast_mode.py:141: UserWarning: User provided device_type of 'cuda', but CUDA is not available. Disabling\n",
      "  warnings.warn('User provided device_type of \\'cuda\\', but CUDA is not available. Disabling')\n",
      "C:\\Users\\atefe\\Desktop\\tfo\\TFODCourse\\tfod\\lib\\site-packages\\torch\\autocast_mode.py:141: UserWarning: User provided device_type of 'cuda', but CUDA is not available. Disabling\n",
      "  warnings.warn('User provided device_type of \\'cuda\\', but CUDA is not available. Disabling')\n"
     ]
    },
    {
     "name": "stdout",
     "output_type": "stream",
     "text": [
      "243\n",
      "243\n"
     ]
    },
    {
     "name": "stderr",
     "output_type": "stream",
     "text": [
      "C:\\Users\\atefe\\Desktop\\tfo\\TFODCourse\\tfod\\lib\\site-packages\\torch\\autocast_mode.py:141: UserWarning: User provided device_type of 'cuda', but CUDA is not available. Disabling\n",
      "  warnings.warn('User provided device_type of \\'cuda\\', but CUDA is not available. Disabling')\n",
      "C:\\Users\\atefe\\Desktop\\tfo\\TFODCourse\\tfod\\lib\\site-packages\\torch\\autocast_mode.py:141: UserWarning: User provided device_type of 'cuda', but CUDA is not available. Disabling\n",
      "  warnings.warn('User provided device_type of \\'cuda\\', but CUDA is not available. Disabling')\n"
     ]
    },
    {
     "name": "stdout",
     "output_type": "stream",
     "text": [
      "244\n",
      "244\n"
     ]
    },
    {
     "name": "stderr",
     "output_type": "stream",
     "text": [
      "C:\\Users\\atefe\\Desktop\\tfo\\TFODCourse\\tfod\\lib\\site-packages\\torch\\autocast_mode.py:141: UserWarning: User provided device_type of 'cuda', but CUDA is not available. Disabling\n",
      "  warnings.warn('User provided device_type of \\'cuda\\', but CUDA is not available. Disabling')\n",
      "C:\\Users\\atefe\\Desktop\\tfo\\TFODCourse\\tfod\\lib\\site-packages\\torch\\autocast_mode.py:141: UserWarning: User provided device_type of 'cuda', but CUDA is not available. Disabling\n",
      "  warnings.warn('User provided device_type of \\'cuda\\', but CUDA is not available. Disabling')\n"
     ]
    },
    {
     "name": "stdout",
     "output_type": "stream",
     "text": [
      "245\n",
      "245\n"
     ]
    },
    {
     "name": "stderr",
     "output_type": "stream",
     "text": [
      "C:\\Users\\atefe\\Desktop\\tfo\\TFODCourse\\tfod\\lib\\site-packages\\torch\\autocast_mode.py:141: UserWarning: User provided device_type of 'cuda', but CUDA is not available. Disabling\n",
      "  warnings.warn('User provided device_type of \\'cuda\\', but CUDA is not available. Disabling')\n",
      "C:\\Users\\atefe\\Desktop\\tfo\\TFODCourse\\tfod\\lib\\site-packages\\torch\\autocast_mode.py:141: UserWarning: User provided device_type of 'cuda', but CUDA is not available. Disabling\n",
      "  warnings.warn('User provided device_type of \\'cuda\\', but CUDA is not available. Disabling')\n"
     ]
    },
    {
     "name": "stdout",
     "output_type": "stream",
     "text": [
      "246\n",
      "246\n"
     ]
    },
    {
     "name": "stderr",
     "output_type": "stream",
     "text": [
      "C:\\Users\\atefe\\Desktop\\tfo\\TFODCourse\\tfod\\lib\\site-packages\\torch\\autocast_mode.py:141: UserWarning: User provided device_type of 'cuda', but CUDA is not available. Disabling\n",
      "  warnings.warn('User provided device_type of \\'cuda\\', but CUDA is not available. Disabling')\n",
      "C:\\Users\\atefe\\Desktop\\tfo\\TFODCourse\\tfod\\lib\\site-packages\\torch\\autocast_mode.py:141: UserWarning: User provided device_type of 'cuda', but CUDA is not available. Disabling\n",
      "  warnings.warn('User provided device_type of \\'cuda\\', but CUDA is not available. Disabling')\n"
     ]
    },
    {
     "name": "stdout",
     "output_type": "stream",
     "text": [
      "247\n",
      "247\n"
     ]
    },
    {
     "name": "stderr",
     "output_type": "stream",
     "text": [
      "C:\\Users\\atefe\\Desktop\\tfo\\TFODCourse\\tfod\\lib\\site-packages\\torch\\autocast_mode.py:141: UserWarning: User provided device_type of 'cuda', but CUDA is not available. Disabling\n",
      "  warnings.warn('User provided device_type of \\'cuda\\', but CUDA is not available. Disabling')\n",
      "C:\\Users\\atefe\\Desktop\\tfo\\TFODCourse\\tfod\\lib\\site-packages\\torch\\autocast_mode.py:141: UserWarning: User provided device_type of 'cuda', but CUDA is not available. Disabling\n",
      "  warnings.warn('User provided device_type of \\'cuda\\', but CUDA is not available. Disabling')\n"
     ]
    },
    {
     "name": "stdout",
     "output_type": "stream",
     "text": [
      "248\n",
      "248\n"
     ]
    },
    {
     "name": "stderr",
     "output_type": "stream",
     "text": [
      "C:\\Users\\atefe\\Desktop\\tfo\\TFODCourse\\tfod\\lib\\site-packages\\torch\\autocast_mode.py:141: UserWarning: User provided device_type of 'cuda', but CUDA is not available. Disabling\n",
      "  warnings.warn('User provided device_type of \\'cuda\\', but CUDA is not available. Disabling')\n",
      "C:\\Users\\atefe\\Desktop\\tfo\\TFODCourse\\tfod\\lib\\site-packages\\torch\\autocast_mode.py:141: UserWarning: User provided device_type of 'cuda', but CUDA is not available. Disabling\n",
      "  warnings.warn('User provided device_type of \\'cuda\\', but CUDA is not available. Disabling')\n"
     ]
    },
    {
     "name": "stdout",
     "output_type": "stream",
     "text": [
      "249\n",
      "249\n"
     ]
    },
    {
     "name": "stderr",
     "output_type": "stream",
     "text": [
      "C:\\Users\\atefe\\Desktop\\tfo\\TFODCourse\\tfod\\lib\\site-packages\\torch\\autocast_mode.py:141: UserWarning: User provided device_type of 'cuda', but CUDA is not available. Disabling\n",
      "  warnings.warn('User provided device_type of \\'cuda\\', but CUDA is not available. Disabling')\n",
      "C:\\Users\\atefe\\Desktop\\tfo\\TFODCourse\\tfod\\lib\\site-packages\\torch\\autocast_mode.py:141: UserWarning: User provided device_type of 'cuda', but CUDA is not available. Disabling\n",
      "  warnings.warn('User provided device_type of \\'cuda\\', but CUDA is not available. Disabling')\n"
     ]
    },
    {
     "name": "stdout",
     "output_type": "stream",
     "text": [
      "250\n",
      "250\n"
     ]
    }
   ],
   "source": [
    "datas = pd.DataFrame()\n",
    "for i in range(len(list_test)):\n",
    "    predict=model(list_test[i])\n",
    "    if len(predict.pandas().xyxy[0])>0:\n",
    "        data = pd.DataFrame()\n",
    "        data = predict.pandas().xyxy[0]\n",
    "        data['Id'] = test_images[i]\n",
    "        datas=datas.append(data, ignore_index=True)\n",
    "    else:\n",
    "        empty_data = pd.DataFrame([[0,0,0,0,0,100]],columns = ['xmin', 'ymin', 'xmax', 'ymax', 'confidence', 'class'])\n",
    "        empty_data['Id'] = test_images[i]\n",
    "        datas = datas.append(empty_data, ignore_index=True)\n",
    "\n",
    "    print(i)   \n",
    "    "
   ]
  },
  {
   "cell_type": "code",
   "execution_count": 13,
   "id": "b23f6bef",
   "metadata": {},
   "outputs": [
    {
     "data": {
      "text/html": [
       "<div>\n",
       "<style scoped>\n",
       "    .dataframe tbody tr th:only-of-type {\n",
       "        vertical-align: middle;\n",
       "    }\n",
       "\n",
       "    .dataframe tbody tr th {\n",
       "        vertical-align: top;\n",
       "    }\n",
       "\n",
       "    .dataframe thead th {\n",
       "        text-align: right;\n",
       "    }\n",
       "</style>\n",
       "<table border=\"1\" class=\"dataframe\">\n",
       "  <thead>\n",
       "    <tr style=\"text-align: right;\">\n",
       "      <th></th>\n",
       "      <th>xmin</th>\n",
       "      <th>ymin</th>\n",
       "      <th>xmax</th>\n",
       "      <th>ymax</th>\n",
       "      <th>confidence</th>\n",
       "      <th>class</th>\n",
       "      <th>name</th>\n",
       "      <th>Id</th>\n",
       "    </tr>\n",
       "  </thead>\n",
       "  <tbody>\n",
       "    <tr>\n",
       "      <th>0</th>\n",
       "      <td>619.656860</td>\n",
       "      <td>766.166260</td>\n",
       "      <td>978.101440</td>\n",
       "      <td>846.433472</td>\n",
       "      <td>0.847896</td>\n",
       "      <td>0</td>\n",
       "      <td>signatured</td>\n",
       "      <td>0148e4778e6d8b22a8980bf4fc89351b_12</td>\n",
       "    </tr>\n",
       "    <tr>\n",
       "      <th>1</th>\n",
       "      <td>109.058571</td>\n",
       "      <td>115.285889</td>\n",
       "      <td>509.200653</td>\n",
       "      <td>178.800232</td>\n",
       "      <td>0.552115</td>\n",
       "      <td>0</td>\n",
       "      <td>signatured</td>\n",
       "      <td>0148e4778e6d8b22a8980bf4fc89351b_12</td>\n",
       "    </tr>\n",
       "    <tr>\n",
       "      <th>2</th>\n",
       "      <td>0.000000</td>\n",
       "      <td>0.000000</td>\n",
       "      <td>0.000000</td>\n",
       "      <td>0.000000</td>\n",
       "      <td>0.000000</td>\n",
       "      <td>100</td>\n",
       "      <td>NaN</td>\n",
       "      <td>0148e4778e6d8b22a8980bf4fc89351b_25</td>\n",
       "    </tr>\n",
       "    <tr>\n",
       "      <th>3</th>\n",
       "      <td>0.000000</td>\n",
       "      <td>0.000000</td>\n",
       "      <td>0.000000</td>\n",
       "      <td>0.000000</td>\n",
       "      <td>0.000000</td>\n",
       "      <td>100</td>\n",
       "      <td>NaN</td>\n",
       "      <td>0148e4778e6d8b22a8980bf4fc89351b_30</td>\n",
       "    </tr>\n",
       "    <tr>\n",
       "      <th>4</th>\n",
       "      <td>0.000000</td>\n",
       "      <td>0.000000</td>\n",
       "      <td>0.000000</td>\n",
       "      <td>0.000000</td>\n",
       "      <td>0.000000</td>\n",
       "      <td>100</td>\n",
       "      <td>NaN</td>\n",
       "      <td>0148e4778e6d8b22a8980bf4fc89351b_37</td>\n",
       "    </tr>\n",
       "    <tr>\n",
       "      <th>...</th>\n",
       "      <td>...</td>\n",
       "      <td>...</td>\n",
       "      <td>...</td>\n",
       "      <td>...</td>\n",
       "      <td>...</td>\n",
       "      <td>...</td>\n",
       "      <td>...</td>\n",
       "      <td>...</td>\n",
       "    </tr>\n",
       "    <tr>\n",
       "      <th>320</th>\n",
       "      <td>775.168335</td>\n",
       "      <td>1210.556519</td>\n",
       "      <td>1277.113159</td>\n",
       "      <td>1326.026245</td>\n",
       "      <td>0.843796</td>\n",
       "      <td>0</td>\n",
       "      <td>signatured</td>\n",
       "      <td>f8f36df9b645fa97e0f0ea027195ffc2</td>\n",
       "    </tr>\n",
       "    <tr>\n",
       "      <th>321</th>\n",
       "      <td>1370.282593</td>\n",
       "      <td>134.285156</td>\n",
       "      <td>1509.314697</td>\n",
       "      <td>213.507141</td>\n",
       "      <td>0.557516</td>\n",
       "      <td>0</td>\n",
       "      <td>signatured</td>\n",
       "      <td>f8f36df9b645fa97e0f0ea027195ffc2</td>\n",
       "    </tr>\n",
       "    <tr>\n",
       "      <th>322</th>\n",
       "      <td>658.991394</td>\n",
       "      <td>1118.899658</td>\n",
       "      <td>884.093262</td>\n",
       "      <td>1179.104980</td>\n",
       "      <td>0.865011</td>\n",
       "      <td>0</td>\n",
       "      <td>signatured</td>\n",
       "      <td>f95151d46ab46fe856074feb728f4190</td>\n",
       "    </tr>\n",
       "    <tr>\n",
       "      <th>323</th>\n",
       "      <td>1239.770874</td>\n",
       "      <td>2463.147217</td>\n",
       "      <td>1815.096313</td>\n",
       "      <td>2638.264404</td>\n",
       "      <td>0.878315</td>\n",
       "      <td>0</td>\n",
       "      <td>signatured</td>\n",
       "      <td>fd40cbeac18b5764fbd2f8d1d52e5640</td>\n",
       "    </tr>\n",
       "    <tr>\n",
       "      <th>324</th>\n",
       "      <td>0.000000</td>\n",
       "      <td>0.000000</td>\n",
       "      <td>0.000000</td>\n",
       "      <td>0.000000</td>\n",
       "      <td>0.000000</td>\n",
       "      <td>100</td>\n",
       "      <td>NaN</td>\n",
       "      <td>fef37ea5a0c4dd7978a4a433fa3a31ce_2</td>\n",
       "    </tr>\n",
       "  </tbody>\n",
       "</table>\n",
       "<p>325 rows × 8 columns</p>\n",
       "</div>"
      ],
      "text/plain": [
       "            xmin         ymin         xmax         ymax  confidence  class  \\\n",
       "0     619.656860   766.166260   978.101440   846.433472    0.847896      0   \n",
       "1     109.058571   115.285889   509.200653   178.800232    0.552115      0   \n",
       "2       0.000000     0.000000     0.000000     0.000000    0.000000    100   \n",
       "3       0.000000     0.000000     0.000000     0.000000    0.000000    100   \n",
       "4       0.000000     0.000000     0.000000     0.000000    0.000000    100   \n",
       "..           ...          ...          ...          ...         ...    ...   \n",
       "320   775.168335  1210.556519  1277.113159  1326.026245    0.843796      0   \n",
       "321  1370.282593   134.285156  1509.314697   213.507141    0.557516      0   \n",
       "322   658.991394  1118.899658   884.093262  1179.104980    0.865011      0   \n",
       "323  1239.770874  2463.147217  1815.096313  2638.264404    0.878315      0   \n",
       "324     0.000000     0.000000     0.000000     0.000000    0.000000    100   \n",
       "\n",
       "           name                                   Id  \n",
       "0    signatured  0148e4778e6d8b22a8980bf4fc89351b_12  \n",
       "1    signatured  0148e4778e6d8b22a8980bf4fc89351b_12  \n",
       "2           NaN  0148e4778e6d8b22a8980bf4fc89351b_25  \n",
       "3           NaN  0148e4778e6d8b22a8980bf4fc89351b_30  \n",
       "4           NaN  0148e4778e6d8b22a8980bf4fc89351b_37  \n",
       "..          ...                                  ...  \n",
       "320  signatured     f8f36df9b645fa97e0f0ea027195ffc2  \n",
       "321  signatured     f8f36df9b645fa97e0f0ea027195ffc2  \n",
       "322  signatured     f95151d46ab46fe856074feb728f4190  \n",
       "323  signatured     fd40cbeac18b5764fbd2f8d1d52e5640  \n",
       "324         NaN   fef37ea5a0c4dd7978a4a433fa3a31ce_2  \n",
       "\n",
       "[325 rows x 8 columns]"
      ]
     },
     "execution_count": 13,
     "metadata": {},
     "output_type": "execute_result"
    },
    {
     "data": {
      "text/html": [
       "<div>\n",
       "<style scoped>\n",
       "    .dataframe tbody tr th:only-of-type {\n",
       "        vertical-align: middle;\n",
       "    }\n",
       "\n",
       "    .dataframe tbody tr th {\n",
       "        vertical-align: top;\n",
       "    }\n",
       "\n",
       "    .dataframe thead th {\n",
       "        text-align: right;\n",
       "    }\n",
       "</style>\n",
       "<table border=\"1\" class=\"dataframe\">\n",
       "  <thead>\n",
       "    <tr style=\"text-align: right;\">\n",
       "      <th></th>\n",
       "      <th>xmin</th>\n",
       "      <th>ymin</th>\n",
       "      <th>xmax</th>\n",
       "      <th>ymax</th>\n",
       "      <th>confidence</th>\n",
       "      <th>class</th>\n",
       "      <th>name</th>\n",
       "      <th>Id</th>\n",
       "    </tr>\n",
       "  </thead>\n",
       "  <tbody>\n",
       "    <tr>\n",
       "      <th>0</th>\n",
       "      <td>619.656860</td>\n",
       "      <td>766.166260</td>\n",
       "      <td>978.101440</td>\n",
       "      <td>846.433472</td>\n",
       "      <td>0.847896</td>\n",
       "      <td>0</td>\n",
       "      <td>signatured</td>\n",
       "      <td>0148e4778e6d8b22a8980bf4fc89351b_12</td>\n",
       "    </tr>\n",
       "    <tr>\n",
       "      <th>1</th>\n",
       "      <td>109.058571</td>\n",
       "      <td>115.285889</td>\n",
       "      <td>509.200653</td>\n",
       "      <td>178.800232</td>\n",
       "      <td>0.552115</td>\n",
       "      <td>0</td>\n",
       "      <td>signatured</td>\n",
       "      <td>0148e4778e6d8b22a8980bf4fc89351b_12</td>\n",
       "    </tr>\n",
       "    <tr>\n",
       "      <th>2</th>\n",
       "      <td>0.000000</td>\n",
       "      <td>0.000000</td>\n",
       "      <td>0.000000</td>\n",
       "      <td>0.000000</td>\n",
       "      <td>0.000000</td>\n",
       "      <td>100</td>\n",
       "      <td>NaN</td>\n",
       "      <td>0148e4778e6d8b22a8980bf4fc89351b_25</td>\n",
       "    </tr>\n",
       "    <tr>\n",
       "      <th>3</th>\n",
       "      <td>0.000000</td>\n",
       "      <td>0.000000</td>\n",
       "      <td>0.000000</td>\n",
       "      <td>0.000000</td>\n",
       "      <td>0.000000</td>\n",
       "      <td>100</td>\n",
       "      <td>NaN</td>\n",
       "      <td>0148e4778e6d8b22a8980bf4fc89351b_30</td>\n",
       "    </tr>\n",
       "    <tr>\n",
       "      <th>4</th>\n",
       "      <td>0.000000</td>\n",
       "      <td>0.000000</td>\n",
       "      <td>0.000000</td>\n",
       "      <td>0.000000</td>\n",
       "      <td>0.000000</td>\n",
       "      <td>100</td>\n",
       "      <td>NaN</td>\n",
       "      <td>0148e4778e6d8b22a8980bf4fc89351b_37</td>\n",
       "    </tr>\n",
       "    <tr>\n",
       "      <th>...</th>\n",
       "      <td>...</td>\n",
       "      <td>...</td>\n",
       "      <td>...</td>\n",
       "      <td>...</td>\n",
       "      <td>...</td>\n",
       "      <td>...</td>\n",
       "      <td>...</td>\n",
       "      <td>...</td>\n",
       "    </tr>\n",
       "    <tr>\n",
       "      <th>320</th>\n",
       "      <td>775.168335</td>\n",
       "      <td>1210.556519</td>\n",
       "      <td>1277.113159</td>\n",
       "      <td>1326.026245</td>\n",
       "      <td>0.843796</td>\n",
       "      <td>0</td>\n",
       "      <td>signatured</td>\n",
       "      <td>f8f36df9b645fa97e0f0ea027195ffc2</td>\n",
       "    </tr>\n",
       "    <tr>\n",
       "      <th>321</th>\n",
       "      <td>1370.282593</td>\n",
       "      <td>134.285156</td>\n",
       "      <td>1509.314697</td>\n",
       "      <td>213.507141</td>\n",
       "      <td>0.557516</td>\n",
       "      <td>0</td>\n",
       "      <td>signatured</td>\n",
       "      <td>f8f36df9b645fa97e0f0ea027195ffc2</td>\n",
       "    </tr>\n",
       "    <tr>\n",
       "      <th>322</th>\n",
       "      <td>658.991394</td>\n",
       "      <td>1118.899658</td>\n",
       "      <td>884.093262</td>\n",
       "      <td>1179.104980</td>\n",
       "      <td>0.865011</td>\n",
       "      <td>0</td>\n",
       "      <td>signatured</td>\n",
       "      <td>f95151d46ab46fe856074feb728f4190</td>\n",
       "    </tr>\n",
       "    <tr>\n",
       "      <th>323</th>\n",
       "      <td>1239.770874</td>\n",
       "      <td>2463.147217</td>\n",
       "      <td>1815.096313</td>\n",
       "      <td>2638.264404</td>\n",
       "      <td>0.878315</td>\n",
       "      <td>0</td>\n",
       "      <td>signatured</td>\n",
       "      <td>fd40cbeac18b5764fbd2f8d1d52e5640</td>\n",
       "    </tr>\n",
       "    <tr>\n",
       "      <th>324</th>\n",
       "      <td>0.000000</td>\n",
       "      <td>0.000000</td>\n",
       "      <td>0.000000</td>\n",
       "      <td>0.000000</td>\n",
       "      <td>0.000000</td>\n",
       "      <td>100</td>\n",
       "      <td>NaN</td>\n",
       "      <td>fef37ea5a0c4dd7978a4a433fa3a31ce_2</td>\n",
       "    </tr>\n",
       "  </tbody>\n",
       "</table>\n",
       "<p>325 rows × 8 columns</p>\n",
       "</div>"
      ],
      "text/plain": [
       "            xmin         ymin         xmax         ymax  confidence  class  \\\n",
       "0     619.656860   766.166260   978.101440   846.433472    0.847896      0   \n",
       "1     109.058571   115.285889   509.200653   178.800232    0.552115      0   \n",
       "2       0.000000     0.000000     0.000000     0.000000    0.000000    100   \n",
       "3       0.000000     0.000000     0.000000     0.000000    0.000000    100   \n",
       "4       0.000000     0.000000     0.000000     0.000000    0.000000    100   \n",
       "..           ...          ...          ...          ...         ...    ...   \n",
       "320   775.168335  1210.556519  1277.113159  1326.026245    0.843796      0   \n",
       "321  1370.282593   134.285156  1509.314697   213.507141    0.557516      0   \n",
       "322   658.991394  1118.899658   884.093262  1179.104980    0.865011      0   \n",
       "323  1239.770874  2463.147217  1815.096313  2638.264404    0.878315      0   \n",
       "324     0.000000     0.000000     0.000000     0.000000    0.000000    100   \n",
       "\n",
       "           name                                   Id  \n",
       "0    signatured  0148e4778e6d8b22a8980bf4fc89351b_12  \n",
       "1    signatured  0148e4778e6d8b22a8980bf4fc89351b_12  \n",
       "2           NaN  0148e4778e6d8b22a8980bf4fc89351b_25  \n",
       "3           NaN  0148e4778e6d8b22a8980bf4fc89351b_30  \n",
       "4           NaN  0148e4778e6d8b22a8980bf4fc89351b_37  \n",
       "..          ...                                  ...  \n",
       "320  signatured     f8f36df9b645fa97e0f0ea027195ffc2  \n",
       "321  signatured     f8f36df9b645fa97e0f0ea027195ffc2  \n",
       "322  signatured     f95151d46ab46fe856074feb728f4190  \n",
       "323  signatured     fd40cbeac18b5764fbd2f8d1d52e5640  \n",
       "324         NaN   fef37ea5a0c4dd7978a4a433fa3a31ce_2  \n",
       "\n",
       "[325 rows x 8 columns]"
      ]
     },
     "execution_count": 13,
     "metadata": {},
     "output_type": "execute_result"
    }
   ],
   "source": [
    "datas"
   ]
  },
  {
   "cell_type": "code",
   "execution_count": 14,
   "id": "fc291840",
   "metadata": {},
   "outputs": [],
   "source": [
    "\n",
    "datas.to_csv('img.csv', index=False)"
   ]
  },
  {
   "cell_type": "code",
   "execution_count": 34,
   "id": "b031ca2d",
   "metadata": {},
   "outputs": [],
   "source": [
    "bounding_box=datas[['Id','xmin', 'ymin', 'xmax', 'ymax', 'confidence']]"
   ]
  },
  {
   "cell_type": "code",
   "execution_count": 35,
   "id": "800c8eb2",
   "metadata": {},
   "outputs": [
    {
     "data": {
      "text/html": [
       "<div>\n",
       "<style scoped>\n",
       "    .dataframe tbody tr th:only-of-type {\n",
       "        vertical-align: middle;\n",
       "    }\n",
       "\n",
       "    .dataframe tbody tr th {\n",
       "        vertical-align: top;\n",
       "    }\n",
       "\n",
       "    .dataframe thead th {\n",
       "        text-align: right;\n",
       "    }\n",
       "</style>\n",
       "<table border=\"1\" class=\"dataframe\">\n",
       "  <thead>\n",
       "    <tr style=\"text-align: right;\">\n",
       "      <th></th>\n",
       "      <th>Id</th>\n",
       "      <th>xmin</th>\n",
       "      <th>ymin</th>\n",
       "      <th>xmax</th>\n",
       "      <th>ymax</th>\n",
       "      <th>confidence</th>\n",
       "    </tr>\n",
       "  </thead>\n",
       "  <tbody>\n",
       "    <tr>\n",
       "      <th>0</th>\n",
       "      <td>0148e4778e6d8b22a8980bf4fc89351b_12</td>\n",
       "      <td>619.656860</td>\n",
       "      <td>766.166260</td>\n",
       "      <td>978.101440</td>\n",
       "      <td>846.433472</td>\n",
       "      <td>0.847896</td>\n",
       "    </tr>\n",
       "    <tr>\n",
       "      <th>1</th>\n",
       "      <td>0148e4778e6d8b22a8980bf4fc89351b_12</td>\n",
       "      <td>109.058571</td>\n",
       "      <td>115.285889</td>\n",
       "      <td>509.200653</td>\n",
       "      <td>178.800232</td>\n",
       "      <td>0.552115</td>\n",
       "    </tr>\n",
       "    <tr>\n",
       "      <th>2</th>\n",
       "      <td>0148e4778e6d8b22a8980bf4fc89351b_25</td>\n",
       "      <td>0.000000</td>\n",
       "      <td>0.000000</td>\n",
       "      <td>0.000000</td>\n",
       "      <td>0.000000</td>\n",
       "      <td>0.000000</td>\n",
       "    </tr>\n",
       "    <tr>\n",
       "      <th>3</th>\n",
       "      <td>0148e4778e6d8b22a8980bf4fc89351b_30</td>\n",
       "      <td>0.000000</td>\n",
       "      <td>0.000000</td>\n",
       "      <td>0.000000</td>\n",
       "      <td>0.000000</td>\n",
       "      <td>0.000000</td>\n",
       "    </tr>\n",
       "    <tr>\n",
       "      <th>4</th>\n",
       "      <td>0148e4778e6d8b22a8980bf4fc89351b_37</td>\n",
       "      <td>0.000000</td>\n",
       "      <td>0.000000</td>\n",
       "      <td>0.000000</td>\n",
       "      <td>0.000000</td>\n",
       "      <td>0.000000</td>\n",
       "    </tr>\n",
       "    <tr>\n",
       "      <th>...</th>\n",
       "      <td>...</td>\n",
       "      <td>...</td>\n",
       "      <td>...</td>\n",
       "      <td>...</td>\n",
       "      <td>...</td>\n",
       "      <td>...</td>\n",
       "    </tr>\n",
       "    <tr>\n",
       "      <th>320</th>\n",
       "      <td>f8f36df9b645fa97e0f0ea027195ffc2</td>\n",
       "      <td>775.168335</td>\n",
       "      <td>1210.556519</td>\n",
       "      <td>1277.113159</td>\n",
       "      <td>1326.026245</td>\n",
       "      <td>0.843796</td>\n",
       "    </tr>\n",
       "    <tr>\n",
       "      <th>321</th>\n",
       "      <td>f8f36df9b645fa97e0f0ea027195ffc2</td>\n",
       "      <td>1370.282593</td>\n",
       "      <td>134.285156</td>\n",
       "      <td>1509.314697</td>\n",
       "      <td>213.507141</td>\n",
       "      <td>0.557516</td>\n",
       "    </tr>\n",
       "    <tr>\n",
       "      <th>322</th>\n",
       "      <td>f95151d46ab46fe856074feb728f4190</td>\n",
       "      <td>658.991394</td>\n",
       "      <td>1118.899658</td>\n",
       "      <td>884.093262</td>\n",
       "      <td>1179.104980</td>\n",
       "      <td>0.865011</td>\n",
       "    </tr>\n",
       "    <tr>\n",
       "      <th>323</th>\n",
       "      <td>fd40cbeac18b5764fbd2f8d1d52e5640</td>\n",
       "      <td>1239.770874</td>\n",
       "      <td>2463.147217</td>\n",
       "      <td>1815.096313</td>\n",
       "      <td>2638.264404</td>\n",
       "      <td>0.878315</td>\n",
       "    </tr>\n",
       "    <tr>\n",
       "      <th>324</th>\n",
       "      <td>fef37ea5a0c4dd7978a4a433fa3a31ce_2</td>\n",
       "      <td>0.000000</td>\n",
       "      <td>0.000000</td>\n",
       "      <td>0.000000</td>\n",
       "      <td>0.000000</td>\n",
       "      <td>0.000000</td>\n",
       "    </tr>\n",
       "  </tbody>\n",
       "</table>\n",
       "<p>325 rows × 6 columns</p>\n",
       "</div>"
      ],
      "text/plain": [
       "                                      Id         xmin         ymin  \\\n",
       "0    0148e4778e6d8b22a8980bf4fc89351b_12   619.656860   766.166260   \n",
       "1    0148e4778e6d8b22a8980bf4fc89351b_12   109.058571   115.285889   \n",
       "2    0148e4778e6d8b22a8980bf4fc89351b_25     0.000000     0.000000   \n",
       "3    0148e4778e6d8b22a8980bf4fc89351b_30     0.000000     0.000000   \n",
       "4    0148e4778e6d8b22a8980bf4fc89351b_37     0.000000     0.000000   \n",
       "..                                   ...          ...          ...   \n",
       "320     f8f36df9b645fa97e0f0ea027195ffc2   775.168335  1210.556519   \n",
       "321     f8f36df9b645fa97e0f0ea027195ffc2  1370.282593   134.285156   \n",
       "322     f95151d46ab46fe856074feb728f4190   658.991394  1118.899658   \n",
       "323     fd40cbeac18b5764fbd2f8d1d52e5640  1239.770874  2463.147217   \n",
       "324   fef37ea5a0c4dd7978a4a433fa3a31ce_2     0.000000     0.000000   \n",
       "\n",
       "            xmax         ymax  confidence  \n",
       "0     978.101440   846.433472    0.847896  \n",
       "1     509.200653   178.800232    0.552115  \n",
       "2       0.000000     0.000000    0.000000  \n",
       "3       0.000000     0.000000    0.000000  \n",
       "4       0.000000     0.000000    0.000000  \n",
       "..           ...          ...         ...  \n",
       "320  1277.113159  1326.026245    0.843796  \n",
       "321  1509.314697   213.507141    0.557516  \n",
       "322   884.093262  1179.104980    0.865011  \n",
       "323  1815.096313  2638.264404    0.878315  \n",
       "324     0.000000     0.000000    0.000000  \n",
       "\n",
       "[325 rows x 6 columns]"
      ]
     },
     "execution_count": 35,
     "metadata": {},
     "output_type": "execute_result"
    },
    {
     "data": {
      "text/html": [
       "<div>\n",
       "<style scoped>\n",
       "    .dataframe tbody tr th:only-of-type {\n",
       "        vertical-align: middle;\n",
       "    }\n",
       "\n",
       "    .dataframe tbody tr th {\n",
       "        vertical-align: top;\n",
       "    }\n",
       "\n",
       "    .dataframe thead th {\n",
       "        text-align: right;\n",
       "    }\n",
       "</style>\n",
       "<table border=\"1\" class=\"dataframe\">\n",
       "  <thead>\n",
       "    <tr style=\"text-align: right;\">\n",
       "      <th></th>\n",
       "      <th>Id</th>\n",
       "      <th>xmin</th>\n",
       "      <th>ymin</th>\n",
       "      <th>xmax</th>\n",
       "      <th>ymax</th>\n",
       "      <th>confidence</th>\n",
       "    </tr>\n",
       "  </thead>\n",
       "  <tbody>\n",
       "    <tr>\n",
       "      <th>0</th>\n",
       "      <td>0148e4778e6d8b22a8980bf4fc89351b_12</td>\n",
       "      <td>619.656860</td>\n",
       "      <td>766.166260</td>\n",
       "      <td>978.101440</td>\n",
       "      <td>846.433472</td>\n",
       "      <td>0.847896</td>\n",
       "    </tr>\n",
       "    <tr>\n",
       "      <th>1</th>\n",
       "      <td>0148e4778e6d8b22a8980bf4fc89351b_12</td>\n",
       "      <td>109.058571</td>\n",
       "      <td>115.285889</td>\n",
       "      <td>509.200653</td>\n",
       "      <td>178.800232</td>\n",
       "      <td>0.552115</td>\n",
       "    </tr>\n",
       "    <tr>\n",
       "      <th>2</th>\n",
       "      <td>0148e4778e6d8b22a8980bf4fc89351b_25</td>\n",
       "      <td>0.000000</td>\n",
       "      <td>0.000000</td>\n",
       "      <td>0.000000</td>\n",
       "      <td>0.000000</td>\n",
       "      <td>0.000000</td>\n",
       "    </tr>\n",
       "    <tr>\n",
       "      <th>3</th>\n",
       "      <td>0148e4778e6d8b22a8980bf4fc89351b_30</td>\n",
       "      <td>0.000000</td>\n",
       "      <td>0.000000</td>\n",
       "      <td>0.000000</td>\n",
       "      <td>0.000000</td>\n",
       "      <td>0.000000</td>\n",
       "    </tr>\n",
       "    <tr>\n",
       "      <th>4</th>\n",
       "      <td>0148e4778e6d8b22a8980bf4fc89351b_37</td>\n",
       "      <td>0.000000</td>\n",
       "      <td>0.000000</td>\n",
       "      <td>0.000000</td>\n",
       "      <td>0.000000</td>\n",
       "      <td>0.000000</td>\n",
       "    </tr>\n",
       "    <tr>\n",
       "      <th>...</th>\n",
       "      <td>...</td>\n",
       "      <td>...</td>\n",
       "      <td>...</td>\n",
       "      <td>...</td>\n",
       "      <td>...</td>\n",
       "      <td>...</td>\n",
       "    </tr>\n",
       "    <tr>\n",
       "      <th>320</th>\n",
       "      <td>f8f36df9b645fa97e0f0ea027195ffc2</td>\n",
       "      <td>775.168335</td>\n",
       "      <td>1210.556519</td>\n",
       "      <td>1277.113159</td>\n",
       "      <td>1326.026245</td>\n",
       "      <td>0.843796</td>\n",
       "    </tr>\n",
       "    <tr>\n",
       "      <th>321</th>\n",
       "      <td>f8f36df9b645fa97e0f0ea027195ffc2</td>\n",
       "      <td>1370.282593</td>\n",
       "      <td>134.285156</td>\n",
       "      <td>1509.314697</td>\n",
       "      <td>213.507141</td>\n",
       "      <td>0.557516</td>\n",
       "    </tr>\n",
       "    <tr>\n",
       "      <th>322</th>\n",
       "      <td>f95151d46ab46fe856074feb728f4190</td>\n",
       "      <td>658.991394</td>\n",
       "      <td>1118.899658</td>\n",
       "      <td>884.093262</td>\n",
       "      <td>1179.104980</td>\n",
       "      <td>0.865011</td>\n",
       "    </tr>\n",
       "    <tr>\n",
       "      <th>323</th>\n",
       "      <td>fd40cbeac18b5764fbd2f8d1d52e5640</td>\n",
       "      <td>1239.770874</td>\n",
       "      <td>2463.147217</td>\n",
       "      <td>1815.096313</td>\n",
       "      <td>2638.264404</td>\n",
       "      <td>0.878315</td>\n",
       "    </tr>\n",
       "    <tr>\n",
       "      <th>324</th>\n",
       "      <td>fef37ea5a0c4dd7978a4a433fa3a31ce_2</td>\n",
       "      <td>0.000000</td>\n",
       "      <td>0.000000</td>\n",
       "      <td>0.000000</td>\n",
       "      <td>0.000000</td>\n",
       "      <td>0.000000</td>\n",
       "    </tr>\n",
       "  </tbody>\n",
       "</table>\n",
       "<p>325 rows × 6 columns</p>\n",
       "</div>"
      ],
      "text/plain": [
       "                                      Id         xmin         ymin  \\\n",
       "0    0148e4778e6d8b22a8980bf4fc89351b_12   619.656860   766.166260   \n",
       "1    0148e4778e6d8b22a8980bf4fc89351b_12   109.058571   115.285889   \n",
       "2    0148e4778e6d8b22a8980bf4fc89351b_25     0.000000     0.000000   \n",
       "3    0148e4778e6d8b22a8980bf4fc89351b_30     0.000000     0.000000   \n",
       "4    0148e4778e6d8b22a8980bf4fc89351b_37     0.000000     0.000000   \n",
       "..                                   ...          ...          ...   \n",
       "320     f8f36df9b645fa97e0f0ea027195ffc2   775.168335  1210.556519   \n",
       "321     f8f36df9b645fa97e0f0ea027195ffc2  1370.282593   134.285156   \n",
       "322     f95151d46ab46fe856074feb728f4190   658.991394  1118.899658   \n",
       "323     fd40cbeac18b5764fbd2f8d1d52e5640  1239.770874  2463.147217   \n",
       "324   fef37ea5a0c4dd7978a4a433fa3a31ce_2     0.000000     0.000000   \n",
       "\n",
       "            xmax         ymax  confidence  \n",
       "0     978.101440   846.433472    0.847896  \n",
       "1     509.200653   178.800232    0.552115  \n",
       "2       0.000000     0.000000    0.000000  \n",
       "3       0.000000     0.000000    0.000000  \n",
       "4       0.000000     0.000000    0.000000  \n",
       "..           ...          ...         ...  \n",
       "320  1277.113159  1326.026245    0.843796  \n",
       "321  1509.314697   213.507141    0.557516  \n",
       "322   884.093262  1179.104980    0.865011  \n",
       "323  1815.096313  2638.264404    0.878315  \n",
       "324     0.000000     0.000000    0.000000  \n",
       "\n",
       "[325 rows x 6 columns]"
      ]
     },
     "execution_count": 35,
     "metadata": {},
     "output_type": "execute_result"
    }
   ],
   "source": [
    "bounding_box"
   ]
  },
  {
   "cell_type": "code",
   "execution_count": 37,
   "id": "49fe5300",
   "metadata": {},
   "outputs": [],
   "source": [
    "bounding_box.to_csv('bounding_box_submission.csv', index=False)"
   ]
  },
  {
   "cell_type": "code",
   "execution_count": 15,
   "id": "453218ef",
   "metadata": {},
   "outputs": [],
   "source": [
    "final = datas.drop(columns=['xmin', 'ymin', 'xmax', 'ymax', 'confidence'])"
   ]
  },
  {
   "cell_type": "code",
   "execution_count": 16,
   "id": "2d813a91",
   "metadata": {},
   "outputs": [
    {
     "data": {
      "text/html": [
       "<div>\n",
       "<style scoped>\n",
       "    .dataframe tbody tr th:only-of-type {\n",
       "        vertical-align: middle;\n",
       "    }\n",
       "\n",
       "    .dataframe tbody tr th {\n",
       "        vertical-align: top;\n",
       "    }\n",
       "\n",
       "    .dataframe thead th {\n",
       "        text-align: right;\n",
       "    }\n",
       "</style>\n",
       "<table border=\"1\" class=\"dataframe\">\n",
       "  <thead>\n",
       "    <tr style=\"text-align: right;\">\n",
       "      <th></th>\n",
       "      <th>class</th>\n",
       "      <th>name</th>\n",
       "      <th>Id</th>\n",
       "    </tr>\n",
       "  </thead>\n",
       "  <tbody>\n",
       "    <tr>\n",
       "      <th>0</th>\n",
       "      <td>0</td>\n",
       "      <td>signatured</td>\n",
       "      <td>0148e4778e6d8b22a8980bf4fc89351b_12</td>\n",
       "    </tr>\n",
       "    <tr>\n",
       "      <th>1</th>\n",
       "      <td>0</td>\n",
       "      <td>signatured</td>\n",
       "      <td>0148e4778e6d8b22a8980bf4fc89351b_12</td>\n",
       "    </tr>\n",
       "    <tr>\n",
       "      <th>2</th>\n",
       "      <td>100</td>\n",
       "      <td>NaN</td>\n",
       "      <td>0148e4778e6d8b22a8980bf4fc89351b_25</td>\n",
       "    </tr>\n",
       "    <tr>\n",
       "      <th>3</th>\n",
       "      <td>100</td>\n",
       "      <td>NaN</td>\n",
       "      <td>0148e4778e6d8b22a8980bf4fc89351b_30</td>\n",
       "    </tr>\n",
       "    <tr>\n",
       "      <th>4</th>\n",
       "      <td>100</td>\n",
       "      <td>NaN</td>\n",
       "      <td>0148e4778e6d8b22a8980bf4fc89351b_37</td>\n",
       "    </tr>\n",
       "    <tr>\n",
       "      <th>...</th>\n",
       "      <td>...</td>\n",
       "      <td>...</td>\n",
       "      <td>...</td>\n",
       "    </tr>\n",
       "    <tr>\n",
       "      <th>320</th>\n",
       "      <td>0</td>\n",
       "      <td>signatured</td>\n",
       "      <td>f8f36df9b645fa97e0f0ea027195ffc2</td>\n",
       "    </tr>\n",
       "    <tr>\n",
       "      <th>321</th>\n",
       "      <td>0</td>\n",
       "      <td>signatured</td>\n",
       "      <td>f8f36df9b645fa97e0f0ea027195ffc2</td>\n",
       "    </tr>\n",
       "    <tr>\n",
       "      <th>322</th>\n",
       "      <td>0</td>\n",
       "      <td>signatured</td>\n",
       "      <td>f95151d46ab46fe856074feb728f4190</td>\n",
       "    </tr>\n",
       "    <tr>\n",
       "      <th>323</th>\n",
       "      <td>0</td>\n",
       "      <td>signatured</td>\n",
       "      <td>fd40cbeac18b5764fbd2f8d1d52e5640</td>\n",
       "    </tr>\n",
       "    <tr>\n",
       "      <th>324</th>\n",
       "      <td>100</td>\n",
       "      <td>NaN</td>\n",
       "      <td>fef37ea5a0c4dd7978a4a433fa3a31ce_2</td>\n",
       "    </tr>\n",
       "  </tbody>\n",
       "</table>\n",
       "<p>325 rows × 3 columns</p>\n",
       "</div>"
      ],
      "text/plain": [
       "     class        name                                   Id\n",
       "0        0  signatured  0148e4778e6d8b22a8980bf4fc89351b_12\n",
       "1        0  signatured  0148e4778e6d8b22a8980bf4fc89351b_12\n",
       "2      100         NaN  0148e4778e6d8b22a8980bf4fc89351b_25\n",
       "3      100         NaN  0148e4778e6d8b22a8980bf4fc89351b_30\n",
       "4      100         NaN  0148e4778e6d8b22a8980bf4fc89351b_37\n",
       "..     ...         ...                                  ...\n",
       "320      0  signatured     f8f36df9b645fa97e0f0ea027195ffc2\n",
       "321      0  signatured     f8f36df9b645fa97e0f0ea027195ffc2\n",
       "322      0  signatured     f95151d46ab46fe856074feb728f4190\n",
       "323      0  signatured     fd40cbeac18b5764fbd2f8d1d52e5640\n",
       "324    100         NaN   fef37ea5a0c4dd7978a4a433fa3a31ce_2\n",
       "\n",
       "[325 rows x 3 columns]"
      ]
     },
     "execution_count": 16,
     "metadata": {},
     "output_type": "execute_result"
    },
    {
     "data": {
      "text/html": [
       "<div>\n",
       "<style scoped>\n",
       "    .dataframe tbody tr th:only-of-type {\n",
       "        vertical-align: middle;\n",
       "    }\n",
       "\n",
       "    .dataframe tbody tr th {\n",
       "        vertical-align: top;\n",
       "    }\n",
       "\n",
       "    .dataframe thead th {\n",
       "        text-align: right;\n",
       "    }\n",
       "</style>\n",
       "<table border=\"1\" class=\"dataframe\">\n",
       "  <thead>\n",
       "    <tr style=\"text-align: right;\">\n",
       "      <th></th>\n",
       "      <th>class</th>\n",
       "      <th>name</th>\n",
       "      <th>Id</th>\n",
       "    </tr>\n",
       "  </thead>\n",
       "  <tbody>\n",
       "    <tr>\n",
       "      <th>0</th>\n",
       "      <td>0</td>\n",
       "      <td>signatured</td>\n",
       "      <td>0148e4778e6d8b22a8980bf4fc89351b_12</td>\n",
       "    </tr>\n",
       "    <tr>\n",
       "      <th>1</th>\n",
       "      <td>0</td>\n",
       "      <td>signatured</td>\n",
       "      <td>0148e4778e6d8b22a8980bf4fc89351b_12</td>\n",
       "    </tr>\n",
       "    <tr>\n",
       "      <th>2</th>\n",
       "      <td>100</td>\n",
       "      <td>NaN</td>\n",
       "      <td>0148e4778e6d8b22a8980bf4fc89351b_25</td>\n",
       "    </tr>\n",
       "    <tr>\n",
       "      <th>3</th>\n",
       "      <td>100</td>\n",
       "      <td>NaN</td>\n",
       "      <td>0148e4778e6d8b22a8980bf4fc89351b_30</td>\n",
       "    </tr>\n",
       "    <tr>\n",
       "      <th>4</th>\n",
       "      <td>100</td>\n",
       "      <td>NaN</td>\n",
       "      <td>0148e4778e6d8b22a8980bf4fc89351b_37</td>\n",
       "    </tr>\n",
       "    <tr>\n",
       "      <th>...</th>\n",
       "      <td>...</td>\n",
       "      <td>...</td>\n",
       "      <td>...</td>\n",
       "    </tr>\n",
       "    <tr>\n",
       "      <th>320</th>\n",
       "      <td>0</td>\n",
       "      <td>signatured</td>\n",
       "      <td>f8f36df9b645fa97e0f0ea027195ffc2</td>\n",
       "    </tr>\n",
       "    <tr>\n",
       "      <th>321</th>\n",
       "      <td>0</td>\n",
       "      <td>signatured</td>\n",
       "      <td>f8f36df9b645fa97e0f0ea027195ffc2</td>\n",
       "    </tr>\n",
       "    <tr>\n",
       "      <th>322</th>\n",
       "      <td>0</td>\n",
       "      <td>signatured</td>\n",
       "      <td>f95151d46ab46fe856074feb728f4190</td>\n",
       "    </tr>\n",
       "    <tr>\n",
       "      <th>323</th>\n",
       "      <td>0</td>\n",
       "      <td>signatured</td>\n",
       "      <td>fd40cbeac18b5764fbd2f8d1d52e5640</td>\n",
       "    </tr>\n",
       "    <tr>\n",
       "      <th>324</th>\n",
       "      <td>100</td>\n",
       "      <td>NaN</td>\n",
       "      <td>fef37ea5a0c4dd7978a4a433fa3a31ce_2</td>\n",
       "    </tr>\n",
       "  </tbody>\n",
       "</table>\n",
       "<p>325 rows × 3 columns</p>\n",
       "</div>"
      ],
      "text/plain": [
       "     class        name                                   Id\n",
       "0        0  signatured  0148e4778e6d8b22a8980bf4fc89351b_12\n",
       "1        0  signatured  0148e4778e6d8b22a8980bf4fc89351b_12\n",
       "2      100         NaN  0148e4778e6d8b22a8980bf4fc89351b_25\n",
       "3      100         NaN  0148e4778e6d8b22a8980bf4fc89351b_30\n",
       "4      100         NaN  0148e4778e6d8b22a8980bf4fc89351b_37\n",
       "..     ...         ...                                  ...\n",
       "320      0  signatured     f8f36df9b645fa97e0f0ea027195ffc2\n",
       "321      0  signatured     f8f36df9b645fa97e0f0ea027195ffc2\n",
       "322      0  signatured     f95151d46ab46fe856074feb728f4190\n",
       "323      0  signatured     fd40cbeac18b5764fbd2f8d1d52e5640\n",
       "324    100         NaN   fef37ea5a0c4dd7978a4a433fa3a31ce_2\n",
       "\n",
       "[325 rows x 3 columns]"
      ]
     },
     "execution_count": 16,
     "metadata": {},
     "output_type": "execute_result"
    }
   ],
   "source": [
    "final"
   ]
  },
  {
   "cell_type": "code",
   "execution_count": 21,
   "id": "54dfc1b7",
   "metadata": {},
   "outputs": [],
   "source": [
    "final['Expected'] = (np.where(final['class']==0, 1, 0))"
   ]
  },
  {
   "cell_type": "code",
   "execution_count": 22,
   "id": "5ce6d7ff",
   "metadata": {},
   "outputs": [
    {
     "data": {
      "text/html": [
       "<div>\n",
       "<style scoped>\n",
       "    .dataframe tbody tr th:only-of-type {\n",
       "        vertical-align: middle;\n",
       "    }\n",
       "\n",
       "    .dataframe tbody tr th {\n",
       "        vertical-align: top;\n",
       "    }\n",
       "\n",
       "    .dataframe thead th {\n",
       "        text-align: right;\n",
       "    }\n",
       "</style>\n",
       "<table border=\"1\" class=\"dataframe\">\n",
       "  <thead>\n",
       "    <tr style=\"text-align: right;\">\n",
       "      <th></th>\n",
       "      <th>class</th>\n",
       "      <th>name</th>\n",
       "      <th>Id</th>\n",
       "      <th>Expected</th>\n",
       "    </tr>\n",
       "  </thead>\n",
       "  <tbody>\n",
       "    <tr>\n",
       "      <th>0</th>\n",
       "      <td>0</td>\n",
       "      <td>signatured</td>\n",
       "      <td>0148e4778e6d8b22a8980bf4fc89351b_12</td>\n",
       "      <td>1</td>\n",
       "    </tr>\n",
       "    <tr>\n",
       "      <th>1</th>\n",
       "      <td>0</td>\n",
       "      <td>signatured</td>\n",
       "      <td>0148e4778e6d8b22a8980bf4fc89351b_12</td>\n",
       "      <td>1</td>\n",
       "    </tr>\n",
       "    <tr>\n",
       "      <th>2</th>\n",
       "      <td>100</td>\n",
       "      <td>NaN</td>\n",
       "      <td>0148e4778e6d8b22a8980bf4fc89351b_25</td>\n",
       "      <td>0</td>\n",
       "    </tr>\n",
       "    <tr>\n",
       "      <th>3</th>\n",
       "      <td>100</td>\n",
       "      <td>NaN</td>\n",
       "      <td>0148e4778e6d8b22a8980bf4fc89351b_30</td>\n",
       "      <td>0</td>\n",
       "    </tr>\n",
       "    <tr>\n",
       "      <th>4</th>\n",
       "      <td>100</td>\n",
       "      <td>NaN</td>\n",
       "      <td>0148e4778e6d8b22a8980bf4fc89351b_37</td>\n",
       "      <td>0</td>\n",
       "    </tr>\n",
       "    <tr>\n",
       "      <th>...</th>\n",
       "      <td>...</td>\n",
       "      <td>...</td>\n",
       "      <td>...</td>\n",
       "      <td>...</td>\n",
       "    </tr>\n",
       "    <tr>\n",
       "      <th>320</th>\n",
       "      <td>0</td>\n",
       "      <td>signatured</td>\n",
       "      <td>f8f36df9b645fa97e0f0ea027195ffc2</td>\n",
       "      <td>1</td>\n",
       "    </tr>\n",
       "    <tr>\n",
       "      <th>321</th>\n",
       "      <td>0</td>\n",
       "      <td>signatured</td>\n",
       "      <td>f8f36df9b645fa97e0f0ea027195ffc2</td>\n",
       "      <td>1</td>\n",
       "    </tr>\n",
       "    <tr>\n",
       "      <th>322</th>\n",
       "      <td>0</td>\n",
       "      <td>signatured</td>\n",
       "      <td>f95151d46ab46fe856074feb728f4190</td>\n",
       "      <td>1</td>\n",
       "    </tr>\n",
       "    <tr>\n",
       "      <th>323</th>\n",
       "      <td>0</td>\n",
       "      <td>signatured</td>\n",
       "      <td>fd40cbeac18b5764fbd2f8d1d52e5640</td>\n",
       "      <td>1</td>\n",
       "    </tr>\n",
       "    <tr>\n",
       "      <th>324</th>\n",
       "      <td>100</td>\n",
       "      <td>NaN</td>\n",
       "      <td>fef37ea5a0c4dd7978a4a433fa3a31ce_2</td>\n",
       "      <td>0</td>\n",
       "    </tr>\n",
       "  </tbody>\n",
       "</table>\n",
       "<p>325 rows × 4 columns</p>\n",
       "</div>"
      ],
      "text/plain": [
       "     class        name                                   Id  Expected\n",
       "0        0  signatured  0148e4778e6d8b22a8980bf4fc89351b_12         1\n",
       "1        0  signatured  0148e4778e6d8b22a8980bf4fc89351b_12         1\n",
       "2      100         NaN  0148e4778e6d8b22a8980bf4fc89351b_25         0\n",
       "3      100         NaN  0148e4778e6d8b22a8980bf4fc89351b_30         0\n",
       "4      100         NaN  0148e4778e6d8b22a8980bf4fc89351b_37         0\n",
       "..     ...         ...                                  ...       ...\n",
       "320      0  signatured     f8f36df9b645fa97e0f0ea027195ffc2         1\n",
       "321      0  signatured     f8f36df9b645fa97e0f0ea027195ffc2         1\n",
       "322      0  signatured     f95151d46ab46fe856074feb728f4190         1\n",
       "323      0  signatured     fd40cbeac18b5764fbd2f8d1d52e5640         1\n",
       "324    100         NaN   fef37ea5a0c4dd7978a4a433fa3a31ce_2         0\n",
       "\n",
       "[325 rows x 4 columns]"
      ]
     },
     "execution_count": 22,
     "metadata": {},
     "output_type": "execute_result"
    },
    {
     "data": {
      "text/html": [
       "<div>\n",
       "<style scoped>\n",
       "    .dataframe tbody tr th:only-of-type {\n",
       "        vertical-align: middle;\n",
       "    }\n",
       "\n",
       "    .dataframe tbody tr th {\n",
       "        vertical-align: top;\n",
       "    }\n",
       "\n",
       "    .dataframe thead th {\n",
       "        text-align: right;\n",
       "    }\n",
       "</style>\n",
       "<table border=\"1\" class=\"dataframe\">\n",
       "  <thead>\n",
       "    <tr style=\"text-align: right;\">\n",
       "      <th></th>\n",
       "      <th>class</th>\n",
       "      <th>name</th>\n",
       "      <th>Id</th>\n",
       "      <th>Expected</th>\n",
       "    </tr>\n",
       "  </thead>\n",
       "  <tbody>\n",
       "    <tr>\n",
       "      <th>0</th>\n",
       "      <td>0</td>\n",
       "      <td>signatured</td>\n",
       "      <td>0148e4778e6d8b22a8980bf4fc89351b_12</td>\n",
       "      <td>1</td>\n",
       "    </tr>\n",
       "    <tr>\n",
       "      <th>1</th>\n",
       "      <td>0</td>\n",
       "      <td>signatured</td>\n",
       "      <td>0148e4778e6d8b22a8980bf4fc89351b_12</td>\n",
       "      <td>1</td>\n",
       "    </tr>\n",
       "    <tr>\n",
       "      <th>2</th>\n",
       "      <td>100</td>\n",
       "      <td>NaN</td>\n",
       "      <td>0148e4778e6d8b22a8980bf4fc89351b_25</td>\n",
       "      <td>0</td>\n",
       "    </tr>\n",
       "    <tr>\n",
       "      <th>3</th>\n",
       "      <td>100</td>\n",
       "      <td>NaN</td>\n",
       "      <td>0148e4778e6d8b22a8980bf4fc89351b_30</td>\n",
       "      <td>0</td>\n",
       "    </tr>\n",
       "    <tr>\n",
       "      <th>4</th>\n",
       "      <td>100</td>\n",
       "      <td>NaN</td>\n",
       "      <td>0148e4778e6d8b22a8980bf4fc89351b_37</td>\n",
       "      <td>0</td>\n",
       "    </tr>\n",
       "    <tr>\n",
       "      <th>...</th>\n",
       "      <td>...</td>\n",
       "      <td>...</td>\n",
       "      <td>...</td>\n",
       "      <td>...</td>\n",
       "    </tr>\n",
       "    <tr>\n",
       "      <th>320</th>\n",
       "      <td>0</td>\n",
       "      <td>signatured</td>\n",
       "      <td>f8f36df9b645fa97e0f0ea027195ffc2</td>\n",
       "      <td>1</td>\n",
       "    </tr>\n",
       "    <tr>\n",
       "      <th>321</th>\n",
       "      <td>0</td>\n",
       "      <td>signatured</td>\n",
       "      <td>f8f36df9b645fa97e0f0ea027195ffc2</td>\n",
       "      <td>1</td>\n",
       "    </tr>\n",
       "    <tr>\n",
       "      <th>322</th>\n",
       "      <td>0</td>\n",
       "      <td>signatured</td>\n",
       "      <td>f95151d46ab46fe856074feb728f4190</td>\n",
       "      <td>1</td>\n",
       "    </tr>\n",
       "    <tr>\n",
       "      <th>323</th>\n",
       "      <td>0</td>\n",
       "      <td>signatured</td>\n",
       "      <td>fd40cbeac18b5764fbd2f8d1d52e5640</td>\n",
       "      <td>1</td>\n",
       "    </tr>\n",
       "    <tr>\n",
       "      <th>324</th>\n",
       "      <td>100</td>\n",
       "      <td>NaN</td>\n",
       "      <td>fef37ea5a0c4dd7978a4a433fa3a31ce_2</td>\n",
       "      <td>0</td>\n",
       "    </tr>\n",
       "  </tbody>\n",
       "</table>\n",
       "<p>325 rows × 4 columns</p>\n",
       "</div>"
      ],
      "text/plain": [
       "     class        name                                   Id  Expected\n",
       "0        0  signatured  0148e4778e6d8b22a8980bf4fc89351b_12         1\n",
       "1        0  signatured  0148e4778e6d8b22a8980bf4fc89351b_12         1\n",
       "2      100         NaN  0148e4778e6d8b22a8980bf4fc89351b_25         0\n",
       "3      100         NaN  0148e4778e6d8b22a8980bf4fc89351b_30         0\n",
       "4      100         NaN  0148e4778e6d8b22a8980bf4fc89351b_37         0\n",
       "..     ...         ...                                  ...       ...\n",
       "320      0  signatured     f8f36df9b645fa97e0f0ea027195ffc2         1\n",
       "321      0  signatured     f8f36df9b645fa97e0f0ea027195ffc2         1\n",
       "322      0  signatured     f95151d46ab46fe856074feb728f4190         1\n",
       "323      0  signatured     fd40cbeac18b5764fbd2f8d1d52e5640         1\n",
       "324    100         NaN   fef37ea5a0c4dd7978a4a433fa3a31ce_2         0\n",
       "\n",
       "[325 rows x 4 columns]"
      ]
     },
     "execution_count": 22,
     "metadata": {},
     "output_type": "execute_result"
    }
   ],
   "source": [
    "final"
   ]
  },
  {
   "cell_type": "code",
   "execution_count": 38,
   "id": "c49369ee",
   "metadata": {},
   "outputs": [],
   "source": [
    "final= final.drop(columns = ['class', 'name'])\n"
   ]
  },
  {
   "cell_type": "code",
   "execution_count": 27,
   "id": "27d7dbe1",
   "metadata": {},
   "outputs": [],
   "source": [
    "final=final.drop_duplicates(subset=['Id'])"
   ]
  },
  {
   "cell_type": "code",
   "execution_count": 28,
   "id": "2f33a80d",
   "metadata": {
    "scrolled": true
   },
   "outputs": [
    {
     "data": {
      "text/html": [
       "<div>\n",
       "<style scoped>\n",
       "    .dataframe tbody tr th:only-of-type {\n",
       "        vertical-align: middle;\n",
       "    }\n",
       "\n",
       "    .dataframe tbody tr th {\n",
       "        vertical-align: top;\n",
       "    }\n",
       "\n",
       "    .dataframe thead th {\n",
       "        text-align: right;\n",
       "    }\n",
       "</style>\n",
       "<table border=\"1\" class=\"dataframe\">\n",
       "  <thead>\n",
       "    <tr style=\"text-align: right;\">\n",
       "      <th></th>\n",
       "      <th>Id</th>\n",
       "      <th>Expected</th>\n",
       "    </tr>\n",
       "  </thead>\n",
       "  <tbody>\n",
       "    <tr>\n",
       "      <th>0</th>\n",
       "      <td>0148e4778e6d8b22a8980bf4fc89351b_12</td>\n",
       "      <td>1</td>\n",
       "    </tr>\n",
       "    <tr>\n",
       "      <th>2</th>\n",
       "      <td>0148e4778e6d8b22a8980bf4fc89351b_25</td>\n",
       "      <td>0</td>\n",
       "    </tr>\n",
       "    <tr>\n",
       "      <th>3</th>\n",
       "      <td>0148e4778e6d8b22a8980bf4fc89351b_30</td>\n",
       "      <td>0</td>\n",
       "    </tr>\n",
       "    <tr>\n",
       "      <th>4</th>\n",
       "      <td>0148e4778e6d8b22a8980bf4fc89351b_37</td>\n",
       "      <td>0</td>\n",
       "    </tr>\n",
       "    <tr>\n",
       "      <th>5</th>\n",
       "      <td>0171cd73c7bdbf48ccfd0c21804f9ced_1</td>\n",
       "      <td>0</td>\n",
       "    </tr>\n",
       "    <tr>\n",
       "      <th>...</th>\n",
       "      <td>...</td>\n",
       "      <td>...</td>\n",
       "    </tr>\n",
       "    <tr>\n",
       "      <th>317</th>\n",
       "      <td>f7744d49d65d3c116b4b343974be2f2a</td>\n",
       "      <td>1</td>\n",
       "    </tr>\n",
       "    <tr>\n",
       "      <th>320</th>\n",
       "      <td>f8f36df9b645fa97e0f0ea027195ffc2</td>\n",
       "      <td>1</td>\n",
       "    </tr>\n",
       "    <tr>\n",
       "      <th>322</th>\n",
       "      <td>f95151d46ab46fe856074feb728f4190</td>\n",
       "      <td>1</td>\n",
       "    </tr>\n",
       "    <tr>\n",
       "      <th>323</th>\n",
       "      <td>fd40cbeac18b5764fbd2f8d1d52e5640</td>\n",
       "      <td>1</td>\n",
       "    </tr>\n",
       "    <tr>\n",
       "      <th>324</th>\n",
       "      <td>fef37ea5a0c4dd7978a4a433fa3a31ce_2</td>\n",
       "      <td>0</td>\n",
       "    </tr>\n",
       "  </tbody>\n",
       "</table>\n",
       "<p>251 rows × 2 columns</p>\n",
       "</div>"
      ],
      "text/plain": [
       "                                      Id  Expected\n",
       "0    0148e4778e6d8b22a8980bf4fc89351b_12         1\n",
       "2    0148e4778e6d8b22a8980bf4fc89351b_25         0\n",
       "3    0148e4778e6d8b22a8980bf4fc89351b_30         0\n",
       "4    0148e4778e6d8b22a8980bf4fc89351b_37         0\n",
       "5     0171cd73c7bdbf48ccfd0c21804f9ced_1         0\n",
       "..                                   ...       ...\n",
       "317     f7744d49d65d3c116b4b343974be2f2a         1\n",
       "320     f8f36df9b645fa97e0f0ea027195ffc2         1\n",
       "322     f95151d46ab46fe856074feb728f4190         1\n",
       "323     fd40cbeac18b5764fbd2f8d1d52e5640         1\n",
       "324   fef37ea5a0c4dd7978a4a433fa3a31ce_2         0\n",
       "\n",
       "[251 rows x 2 columns]"
      ]
     },
     "execution_count": 28,
     "metadata": {},
     "output_type": "execute_result"
    },
    {
     "data": {
      "text/html": [
       "<div>\n",
       "<style scoped>\n",
       "    .dataframe tbody tr th:only-of-type {\n",
       "        vertical-align: middle;\n",
       "    }\n",
       "\n",
       "    .dataframe tbody tr th {\n",
       "        vertical-align: top;\n",
       "    }\n",
       "\n",
       "    .dataframe thead th {\n",
       "        text-align: right;\n",
       "    }\n",
       "</style>\n",
       "<table border=\"1\" class=\"dataframe\">\n",
       "  <thead>\n",
       "    <tr style=\"text-align: right;\">\n",
       "      <th></th>\n",
       "      <th>Id</th>\n",
       "      <th>Expected</th>\n",
       "    </tr>\n",
       "  </thead>\n",
       "  <tbody>\n",
       "    <tr>\n",
       "      <th>0</th>\n",
       "      <td>0148e4778e6d8b22a8980bf4fc89351b_12</td>\n",
       "      <td>1</td>\n",
       "    </tr>\n",
       "    <tr>\n",
       "      <th>2</th>\n",
       "      <td>0148e4778e6d8b22a8980bf4fc89351b_25</td>\n",
       "      <td>0</td>\n",
       "    </tr>\n",
       "    <tr>\n",
       "      <th>3</th>\n",
       "      <td>0148e4778e6d8b22a8980bf4fc89351b_30</td>\n",
       "      <td>0</td>\n",
       "    </tr>\n",
       "    <tr>\n",
       "      <th>4</th>\n",
       "      <td>0148e4778e6d8b22a8980bf4fc89351b_37</td>\n",
       "      <td>0</td>\n",
       "    </tr>\n",
       "    <tr>\n",
       "      <th>5</th>\n",
       "      <td>0171cd73c7bdbf48ccfd0c21804f9ced_1</td>\n",
       "      <td>0</td>\n",
       "    </tr>\n",
       "    <tr>\n",
       "      <th>...</th>\n",
       "      <td>...</td>\n",
       "      <td>...</td>\n",
       "    </tr>\n",
       "    <tr>\n",
       "      <th>317</th>\n",
       "      <td>f7744d49d65d3c116b4b343974be2f2a</td>\n",
       "      <td>1</td>\n",
       "    </tr>\n",
       "    <tr>\n",
       "      <th>320</th>\n",
       "      <td>f8f36df9b645fa97e0f0ea027195ffc2</td>\n",
       "      <td>1</td>\n",
       "    </tr>\n",
       "    <tr>\n",
       "      <th>322</th>\n",
       "      <td>f95151d46ab46fe856074feb728f4190</td>\n",
       "      <td>1</td>\n",
       "    </tr>\n",
       "    <tr>\n",
       "      <th>323</th>\n",
       "      <td>fd40cbeac18b5764fbd2f8d1d52e5640</td>\n",
       "      <td>1</td>\n",
       "    </tr>\n",
       "    <tr>\n",
       "      <th>324</th>\n",
       "      <td>fef37ea5a0c4dd7978a4a433fa3a31ce_2</td>\n",
       "      <td>0</td>\n",
       "    </tr>\n",
       "  </tbody>\n",
       "</table>\n",
       "<p>251 rows × 2 columns</p>\n",
       "</div>"
      ],
      "text/plain": [
       "                                      Id  Expected\n",
       "0    0148e4778e6d8b22a8980bf4fc89351b_12         1\n",
       "2    0148e4778e6d8b22a8980bf4fc89351b_25         0\n",
       "3    0148e4778e6d8b22a8980bf4fc89351b_30         0\n",
       "4    0148e4778e6d8b22a8980bf4fc89351b_37         0\n",
       "5     0171cd73c7bdbf48ccfd0c21804f9ced_1         0\n",
       "..                                   ...       ...\n",
       "317     f7744d49d65d3c116b4b343974be2f2a         1\n",
       "320     f8f36df9b645fa97e0f0ea027195ffc2         1\n",
       "322     f95151d46ab46fe856074feb728f4190         1\n",
       "323     fd40cbeac18b5764fbd2f8d1d52e5640         1\n",
       "324   fef37ea5a0c4dd7978a4a433fa3a31ce_2         0\n",
       "\n",
       "[251 rows x 2 columns]"
      ]
     },
     "execution_count": 28,
     "metadata": {},
     "output_type": "execute_result"
    }
   ],
   "source": [
    "final"
   ]
  },
  {
   "cell_type": "code",
   "execution_count": 29,
   "id": "c81401a2",
   "metadata": {},
   "outputs": [],
   "source": [
    "final.to_csv('classification_YOLO.csv',index=False)"
   ]
  },
  {
   "cell_type": "code",
   "execution_count": null,
   "id": "856f843a",
   "metadata": {},
   "outputs": [],
   "source": []
  }
 ],
 "metadata": {
  "kernelspec": {
   "display_name": "tfod",
   "language": "python",
   "name": "tfod"
  },
  "language_info": {
   "codemirror_mode": {
    "name": "ipython",
    "version": 3
   },
   "file_extension": ".py",
   "mimetype": "text/x-python",
   "name": "python",
   "nbconvert_exporter": "python",
   "pygments_lexer": "ipython3",
   "version": "3.7.0"
  }
 },
 "nbformat": 4,
 "nbformat_minor": 5
}
